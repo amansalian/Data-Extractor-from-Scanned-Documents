{
  "nbformat": 4,
  "nbformat_minor": 0,
  "metadata": {
    "colab": {
      "provenance": [],
      "collapsed_sections": [
        "yRxmgmpK7HJ2",
        "F8n7oxSR7n0E",
        "ReTYu0jg9NF5",
        "-eq9zDVU9UVC",
        "1G3VowTr9kFN",
        "qCcHRmJu-hjz",
        "WQmjC-PD_D6U",
        "-SX4zk3G_1TC",
        "oQFJ6eKtCHTc",
        "v7jlrT7ODXa8",
        "HrfBdYj8GvLS",
        "DHEao7VaYeeW",
        "ShPKZuKddi3V",
        "yYX74i-EeVPs",
        "dZKwR4xAgpBB",
        "pngSvLCNkPbY",
        "7wUWEjV2lPNw",
        "uOiIT2QMmGsd",
        "wea01BPXnHy_",
        "fzHXw2RlovYB",
        "9TjNUEgL7qG5",
        "CiNwByww8zQk",
        "dOdnR9fJ9zAL",
        "dzxy2GMa-kFb",
        "QbopzONuBW1w",
        "ZFWZdTacBu6k",
        "N4xhs1yaCEe2",
        "qUIw1hq-CY8M",
        "BWTqIKqRDay0",
        "mjPdRQEFFCiM",
        "MGbundWwFmGI",
        "UboAFPWqGJgf",
        "8rLZxfPNGicQ",
        "VNROYrsdHHC5",
        "ip-pH0kwHlXG",
        "0_Th7URyIEKX",
        "kI48eF7yIbnI",
        "M1zmB2vkI0Cb"
      ]
    },
    "kernelspec": {
      "name": "python3",
      "display_name": "Python 3"
    },
    "language_info": {
      "name": "python"
    }
  },
  "cells": [
    {
      "cell_type": "code",
      "execution_count": null,
      "metadata": {
        "colab": {
          "base_uri": "https://localhost:8080/"
        },
        "id": "czVmUToS1xu4",
        "outputId": "2e2dfd47-2fed-4e90-d5ed-9605c19e4840"
      },
      "outputs": [
        {
          "output_type": "stream",
          "name": "stdout",
          "text": [
            "Looking in indexes: https://pypi.org/simple, https://us-python.pkg.dev/colab-wheels/public/simple/\n",
            "Requirement already satisfied: easyocr in /usr/local/lib/python3.7/dist-packages (1.6.2)\n",
            "Requirement already satisfied: scikit-image in /usr/local/lib/python3.7/dist-packages (from easyocr) (0.18.3)\n",
            "Requirement already satisfied: torch in /usr/local/lib/python3.7/dist-packages (from easyocr) (1.12.1+cu113)\n",
            "Requirement already satisfied: ninja in /usr/local/lib/python3.7/dist-packages (from easyocr) (1.11.1)\n",
            "Requirement already satisfied: PyYAML in /usr/local/lib/python3.7/dist-packages (from easyocr) (6.0)\n",
            "Requirement already satisfied: scipy in /usr/local/lib/python3.7/dist-packages (from easyocr) (1.7.3)\n",
            "Requirement already satisfied: opencv-python-headless<=4.5.4.60 in /usr/local/lib/python3.7/dist-packages (from easyocr) (4.5.4.60)\n",
            "Requirement already satisfied: torchvision>=0.5 in /usr/local/lib/python3.7/dist-packages (from easyocr) (0.13.1+cu113)\n",
            "Requirement already satisfied: numpy in /usr/local/lib/python3.7/dist-packages (from easyocr) (1.21.6)\n",
            "Requirement already satisfied: pyclipper in /usr/local/lib/python3.7/dist-packages (from easyocr) (1.3.0.post4)\n",
            "Requirement already satisfied: Pillow in /usr/local/lib/python3.7/dist-packages (from easyocr) (7.1.2)\n",
            "Requirement already satisfied: python-bidi in /usr/local/lib/python3.7/dist-packages (from easyocr) (0.4.2)\n",
            "Requirement already satisfied: Shapely in /usr/local/lib/python3.7/dist-packages (from easyocr) (1.8.5.post1)\n",
            "Requirement already satisfied: typing-extensions in /usr/local/lib/python3.7/dist-packages (from torchvision>=0.5->easyocr) (4.1.1)\n",
            "Requirement already satisfied: requests in /usr/local/lib/python3.7/dist-packages (from torchvision>=0.5->easyocr) (2.23.0)\n",
            "Requirement already satisfied: six in /usr/local/lib/python3.7/dist-packages (from python-bidi->easyocr) (1.15.0)\n",
            "Requirement already satisfied: chardet<4,>=3.0.2 in /usr/local/lib/python3.7/dist-packages (from requests->torchvision>=0.5->easyocr) (3.0.4)\n",
            "Requirement already satisfied: urllib3!=1.25.0,!=1.25.1,<1.26,>=1.21.1 in /usr/local/lib/python3.7/dist-packages (from requests->torchvision>=0.5->easyocr) (1.24.3)\n",
            "Requirement already satisfied: idna<3,>=2.5 in /usr/local/lib/python3.7/dist-packages (from requests->torchvision>=0.5->easyocr) (2.10)\n",
            "Requirement already satisfied: certifi>=2017.4.17 in /usr/local/lib/python3.7/dist-packages (from requests->torchvision>=0.5->easyocr) (2022.9.24)\n",
            "Requirement already satisfied: imageio>=2.3.0 in /usr/local/lib/python3.7/dist-packages (from scikit-image->easyocr) (2.9.0)\n",
            "Requirement already satisfied: matplotlib!=3.0.0,>=2.0.0 in /usr/local/lib/python3.7/dist-packages (from scikit-image->easyocr) (3.2.2)\n",
            "Requirement already satisfied: tifffile>=2019.7.26 in /usr/local/lib/python3.7/dist-packages (from scikit-image->easyocr) (2021.11.2)\n",
            "Requirement already satisfied: PyWavelets>=1.1.1 in /usr/local/lib/python3.7/dist-packages (from scikit-image->easyocr) (1.3.0)\n",
            "Requirement already satisfied: networkx>=2.0 in /usr/local/lib/python3.7/dist-packages (from scikit-image->easyocr) (2.6.3)\n",
            "Requirement already satisfied: python-dateutil>=2.1 in /usr/local/lib/python3.7/dist-packages (from matplotlib!=3.0.0,>=2.0.0->scikit-image->easyocr) (2.8.2)\n",
            "Requirement already satisfied: kiwisolver>=1.0.1 in /usr/local/lib/python3.7/dist-packages (from matplotlib!=3.0.0,>=2.0.0->scikit-image->easyocr) (1.4.4)\n",
            "Requirement already satisfied: cycler>=0.10 in /usr/local/lib/python3.7/dist-packages (from matplotlib!=3.0.0,>=2.0.0->scikit-image->easyocr) (0.11.0)\n",
            "Requirement already satisfied: pyparsing!=2.0.4,!=2.1.2,!=2.1.6,>=2.0.1 in /usr/local/lib/python3.7/dist-packages (from matplotlib!=3.0.0,>=2.0.0->scikit-image->easyocr) (3.0.9)\n"
          ]
        }
      ],
      "source": [
        "!pip install easyocr"
      ]
    },
    {
      "cell_type": "code",
      "source": [
        "pip install pandas"
      ],
      "metadata": {
        "colab": {
          "base_uri": "https://localhost:8080/"
        },
        "id": "TeAXhKXU3JSd",
        "outputId": "b50acc3c-4eb0-452c-a3c3-7b4cd045af23"
      },
      "execution_count": null,
      "outputs": [
        {
          "output_type": "stream",
          "name": "stdout",
          "text": [
            "Looking in indexes: https://pypi.org/simple, https://us-python.pkg.dev/colab-wheels/public/simple/\n",
            "Requirement already satisfied: pandas in /usr/local/lib/python3.7/dist-packages (1.3.5)\n",
            "Requirement already satisfied: pytz>=2017.3 in /usr/local/lib/python3.7/dist-packages (from pandas) (2022.6)\n",
            "Requirement already satisfied: python-dateutil>=2.7.3 in /usr/local/lib/python3.7/dist-packages (from pandas) (2.8.2)\n",
            "Requirement already satisfied: numpy>=1.17.3 in /usr/local/lib/python3.7/dist-packages (from pandas) (1.21.6)\n",
            "Requirement already satisfied: six>=1.5 in /usr/local/lib/python3.7/dist-packages (from python-dateutil>=2.7.3->pandas) (1.15.0)\n"
          ]
        }
      ]
    },
    {
      "cell_type": "code",
      "source": [
        "import easyocr\n",
        "import pandas as pd\n",
        "df = pd.read_csv('cleansheet_3 - Sheet1.csv')\n",
        "df\n"
      ],
      "metadata": {
        "colab": {
          "base_uri": "https://localhost:8080/",
          "height": 49
        },
        "id": "wY5NGf9K3NGf",
        "outputId": "35c0fa72-dc8f-46a7-b492-bc34a00e6a0f"
      },
      "execution_count": null,
      "outputs": [
        {
          "output_type": "execute_result",
          "data": {
            "text/plain": [
              "Empty DataFrame\n",
              "Columns: [Unnamed: 0, Part Number , Part Name, QTY, ITEM]\n",
              "Index: []"
            ],
            "text/html": [
              "\n",
              "  <div id=\"df-5a72b80d-2062-4012-94ad-20a039d3c50f\">\n",
              "    <div class=\"colab-df-container\">\n",
              "      <div>\n",
              "<style scoped>\n",
              "    .dataframe tbody tr th:only-of-type {\n",
              "        vertical-align: middle;\n",
              "    }\n",
              "\n",
              "    .dataframe tbody tr th {\n",
              "        vertical-align: top;\n",
              "    }\n",
              "\n",
              "    .dataframe thead th {\n",
              "        text-align: right;\n",
              "    }\n",
              "</style>\n",
              "<table border=\"1\" class=\"dataframe\">\n",
              "  <thead>\n",
              "    <tr style=\"text-align: right;\">\n",
              "      <th></th>\n",
              "      <th>Unnamed: 0</th>\n",
              "      <th>Part Number</th>\n",
              "      <th>Part Name</th>\n",
              "      <th>QTY</th>\n",
              "      <th>ITEM</th>\n",
              "    </tr>\n",
              "  </thead>\n",
              "  <tbody>\n",
              "  </tbody>\n",
              "</table>\n",
              "</div>\n",
              "      <button class=\"colab-df-convert\" onclick=\"convertToInteractive('df-5a72b80d-2062-4012-94ad-20a039d3c50f')\"\n",
              "              title=\"Convert this dataframe to an interactive table.\"\n",
              "              style=\"display:none;\">\n",
              "        \n",
              "  <svg xmlns=\"http://www.w3.org/2000/svg\" height=\"24px\"viewBox=\"0 0 24 24\"\n",
              "       width=\"24px\">\n",
              "    <path d=\"M0 0h24v24H0V0z\" fill=\"none\"/>\n",
              "    <path d=\"M18.56 5.44l.94 2.06.94-2.06 2.06-.94-2.06-.94-.94-2.06-.94 2.06-2.06.94zm-11 1L8.5 8.5l.94-2.06 2.06-.94-2.06-.94L8.5 2.5l-.94 2.06-2.06.94zm10 10l.94 2.06.94-2.06 2.06-.94-2.06-.94-.94-2.06-.94 2.06-2.06.94z\"/><path d=\"M17.41 7.96l-1.37-1.37c-.4-.4-.92-.59-1.43-.59-.52 0-1.04.2-1.43.59L10.3 9.45l-7.72 7.72c-.78.78-.78 2.05 0 2.83L4 21.41c.39.39.9.59 1.41.59.51 0 1.02-.2 1.41-.59l7.78-7.78 2.81-2.81c.8-.78.8-2.07 0-2.86zM5.41 20L4 18.59l7.72-7.72 1.47 1.35L5.41 20z\"/>\n",
              "  </svg>\n",
              "      </button>\n",
              "      \n",
              "  <style>\n",
              "    .colab-df-container {\n",
              "      display:flex;\n",
              "      flex-wrap:wrap;\n",
              "      gap: 12px;\n",
              "    }\n",
              "\n",
              "    .colab-df-convert {\n",
              "      background-color: #E8F0FE;\n",
              "      border: none;\n",
              "      border-radius: 50%;\n",
              "      cursor: pointer;\n",
              "      display: none;\n",
              "      fill: #1967D2;\n",
              "      height: 32px;\n",
              "      padding: 0 0 0 0;\n",
              "      width: 32px;\n",
              "    }\n",
              "\n",
              "    .colab-df-convert:hover {\n",
              "      background-color: #E2EBFA;\n",
              "      box-shadow: 0px 1px 2px rgba(60, 64, 67, 0.3), 0px 1px 3px 1px rgba(60, 64, 67, 0.15);\n",
              "      fill: #174EA6;\n",
              "    }\n",
              "\n",
              "    [theme=dark] .colab-df-convert {\n",
              "      background-color: #3B4455;\n",
              "      fill: #D2E3FC;\n",
              "    }\n",
              "\n",
              "    [theme=dark] .colab-df-convert:hover {\n",
              "      background-color: #434B5C;\n",
              "      box-shadow: 0px 1px 3px 1px rgba(0, 0, 0, 0.15);\n",
              "      filter: drop-shadow(0px 1px 2px rgba(0, 0, 0, 0.3));\n",
              "      fill: #FFFFFF;\n",
              "    }\n",
              "  </style>\n",
              "\n",
              "      <script>\n",
              "        const buttonEl =\n",
              "          document.querySelector('#df-5a72b80d-2062-4012-94ad-20a039d3c50f button.colab-df-convert');\n",
              "        buttonEl.style.display =\n",
              "          google.colab.kernel.accessAllowed ? 'block' : 'none';\n",
              "\n",
              "        async function convertToInteractive(key) {\n",
              "          const element = document.querySelector('#df-5a72b80d-2062-4012-94ad-20a039d3c50f');\n",
              "          const dataTable =\n",
              "            await google.colab.kernel.invokeFunction('convertToInteractive',\n",
              "                                                     [key], {});\n",
              "          if (!dataTable) return;\n",
              "\n",
              "          const docLinkHtml = 'Like what you see? Visit the ' +\n",
              "            '<a target=\"_blank\" href=https://colab.research.google.com/notebooks/data_table.ipynb>data table notebook</a>'\n",
              "            + ' to learn more about interactive tables.';\n",
              "          element.innerHTML = '';\n",
              "          dataTable['output_type'] = 'display_data';\n",
              "          await google.colab.output.renderOutput(dataTable, element);\n",
              "          const docLink = document.createElement('div');\n",
              "          docLink.innerHTML = docLinkHtml;\n",
              "          element.appendChild(docLink);\n",
              "        }\n",
              "      </script>\n",
              "    </div>\n",
              "  </div>\n",
              "  "
            ]
          },
          "metadata": {},
          "execution_count": 542
        }
      ]
    },
    {
      "cell_type": "code",
      "source": [
        "reader = easyocr.Reader(['en'])\n",
        "\n",
        "image_path_1 = 'Table 304.JPG'\n",
        "image_path_2 = 'Table 305.JPG'\n",
        "image_path_3 = 'Table 306.JPG'\n",
        "image_path_4 = 'Table 307.JPG'\n",
        "image_path_5 = 'Table 308.JPG'\n",
        "image_path_6 = 'Table 309.JPG'\n",
        "image_path_7 = 'Table 310.JPG'\n",
        "image_path_8 = 'Table 311.JPG'\n",
        "image_path_9 = 'Table 312.JPG'\n",
        "image_path_10 = 'Table 313.JPG' \n",
        "\n",
        "result_1 = reader.readtext(image_path_1, detail=0)\n",
        "result_2 = reader.readtext(image_path_2, detail=0)\n",
        "result_3 = reader.readtext(image_path_3, detail=0)\n",
        "result_4 = reader.readtext(image_path_4, detail=0)\n",
        "result_5 = reader.readtext(image_path_5, detail=0)\n",
        "result_6 = reader.readtext(image_path_6, detail=0)\n",
        "result_7 = reader.readtext(image_path_7, detail=0)\n",
        "result_8 = reader.readtext(image_path_8, detail=0)\n",
        "result_9 = reader.readtext(image_path_9, detail=0)\n",
        "result_10 = reader.readtext(image_path_10, detail=0)"
      ],
      "metadata": {
        "colab": {
          "base_uri": "https://localhost:8080/"
        },
        "id": "m55-Qpri42TC",
        "outputId": "a028f2df-b232-4d93-a4bf-39fbe259d564"
      },
      "execution_count": null,
      "outputs": [
        {
          "output_type": "stream",
          "name": "stderr",
          "text": [
            "WARNING:easyocr.easyocr:CUDA not available - defaulting to CPU. Note: This module is much faster with a GPU.\n"
          ]
        }
      ]
    },
    {
      "cell_type": "code",
      "source": [
        "del result_1[0:7]\n",
        "del result_2[0:7]\n",
        "del result_3[0:7]\n",
        "del result_4[0:7]\n",
        "del result_5[0:7]\n",
        "del result_6[0:7]\n",
        "del result_7[0:7]\n",
        "del result_8[0:7]\n",
        "del result_9[0:7]\n",
        "del result_10[0:7]\n",
        "\n"
      ],
      "metadata": {
        "id": "1LzYmyexJrH0"
      },
      "execution_count": null,
      "outputs": []
    },
    {
      "cell_type": "code",
      "source": [
        "result_1"
      ],
      "metadata": {
        "colab": {
          "base_uri": "https://localhost:8080/"
        },
        "id": "a3P4FnEqMJl7",
        "outputId": "2ae3122e-8418-4ef9-9054-f96f7d80e92d"
      },
      "execution_count": null,
      "outputs": [
        {
          "output_type": "execute_result",
          "data": {
            "text/plain": [
              "['333/Y1461',\n",
              " 'Rod Connecting',\n",
              " 'Engine',\n",
              " '3332302',\n",
              " 'Screw Connecting',\n",
              " '333/Y2494',\n",
              " 'Bush',\n",
              " '333/1509',\n",
              " 'Piston Engine',\n",
              " '333/Y2436',\n",
              " 'Pin Piston',\n",
              " '333/Y2471',\n",
              " 'Bearing Connecting',\n",
              " 'Rod',\n",
              " '333/Y2379',\n",
              " 'Retaining',\n",
              " '333/Y2313',\n",
              " 'Compression',\n",
              " '333/Y2369',\n",
              " 'Ring Compression',\n",
              " '333/Y1457',\n",
              " 'Compression',\n",
              " 'Rod',\n",
              " 'IRing',\n",
              " 'IRing',\n",
              " 'Ring']"
            ]
          },
          "metadata": {},
          "execution_count": 545
        }
      ]
    },
    {
      "cell_type": "code",
      "source": [
        "result_2"
      ],
      "metadata": {
        "colab": {
          "base_uri": "https://localhost:8080/"
        },
        "id": "GnliE3L2MgGb",
        "outputId": "1ac8fcdd-132e-4fcd-8492-25fee39dbd31"
      },
      "execution_count": null,
      "outputs": [
        {
          "output_type": "execute_result",
          "data": {
            "text/plain": [
              "['02/910410',\n",
              " 'Camshaft',\n",
              " '02/910411',\n",
              " 'Gear Camshaft',\n",
              " '02/910062',\n",
              " 'Key',\n",
              " '02/910063',\n",
              " 'Bracket Cam',\n",
              " 'hrust',\n",
              " '02/911013',\n",
              " 'Screw',\n",
              " '02/910634',\n",
              " 'Tappet']"
            ]
          },
          "metadata": {},
          "execution_count": 546
        }
      ]
    },
    {
      "cell_type": "code",
      "source": [
        "result_3"
      ],
      "metadata": {
        "colab": {
          "base_uri": "https://localhost:8080/"
        },
        "id": "AryB3WOxM0L1",
        "outputId": "3c189221-4511-4930-e843-4d7175d92f83"
      },
      "execution_count": null,
      "outputs": [
        {
          "output_type": "execute_result",
          "data": {
            "text/plain": [
              "['332Y5370',\n",
              " 'Timer Overcrank',\n",
              " '333/Y2435',\n",
              " 'Washer Plain',\n",
              " '333/Y2439',\n",
              " 'Bracket Governor',\n",
              " '333/Y2496',\n",
              " 'MHarness Wiring',\n",
              " '333/*2440',\n",
              " 'INut Lock']"
            ]
          },
          "metadata": {},
          "execution_count": 547
        }
      ]
    },
    {
      "cell_type": "code",
      "source": [
        "result_4"
      ],
      "metadata": {
        "colab": {
          "base_uri": "https://localhost:8080/"
        },
        "id": "L5Vn5YhxM4Zz",
        "outputId": "ca843ff5-efa3-447e-e2e6-69499025a099"
      },
      "execution_count": null,
      "outputs": [
        {
          "output_type": "execute_result",
          "data": {
            "text/plain": [
              "['3328Y5833',\n",
              " 'IRing Gcar Flywhee=',\n",
              " 'Gear Flywheel',\n",
              " '335/C4772',\n",
              " 'Flywheel',\n",
              " '02/911018',\n",
              " 'Washer Plain',\n",
              " '02/911017',\n",
              " 'Screw',\n",
              " 'Ring',\n",
              " 'Ring']"
            ]
          },
          "metadata": {},
          "execution_count": 548
        }
      ]
    },
    {
      "cell_type": "code",
      "source": [
        "result_5"
      ],
      "metadata": {
        "colab": {
          "base_uri": "https://localhost:8080/"
        },
        "id": "JWD40ECtM691",
        "outputId": "b38ff20e-8482-45ea-ef2e-c6c3b42b12f8"
      },
      "execution_count": null,
      "outputs": [
        {
          "output_type": "execute_result",
          "data": {
            "text/plain": [
              "['333/Y2281',\n",
              " 'Housing Flywheel',\n",
              " '02/911015',\n",
              " 'Screw',\n",
              " '02/910069',\n",
              " 'Plate Cover',\n",
              " '02/911543',\n",
              " 'Cover Plate ,',\n",
              " '02/912635',\n",
              " 'Kit-seal Rear',\n",
              " 'Crankshaft Oil',\n",
              " '02/910029',\n",
              " 'Gasket Rear Seal',\n",
              " 'IHousing',\n",
              " '02/910571',\n",
              " '02/910067',\n",
              " '0 Ring',\n",
              " '02/910068',\n",
              " '02/910028',\n",
              " 'Seal',\n",
              " 'Rectangular',\n",
              " '02/911014',\n",
              " 'Screw Flange Head]',\n",
              " '8.8',\n",
              " '333/Y2287',\n",
              " 'Screw',\n",
              " 'SCREW,HEXAGO',\n",
              " 'JAN HEAD',\n",
              " 'SCREW, HEXAGO',\n",
              " 'AN HEAD',\n",
              " 'Reai',\n",
              " 'Plug',\n",
              " 'Piug',\n",
              " 'Ring']"
            ]
          },
          "metadata": {},
          "execution_count": 549
        }
      ]
    },
    {
      "cell_type": "code",
      "source": [
        "result_6"
      ],
      "metadata": {
        "colab": {
          "base_uri": "https://localhost:8080/"
        },
        "id": "dzv6rQlhM_Oq",
        "outputId": "9bfd40ff-52bf-4aa4-d338-ea37bbde6394"
      },
      "execution_count": null,
      "outputs": [
        {
          "output_type": "execute_result",
          "data": {
            "text/plain": [
              "['333/Y2433', 'Pin: Throtlle Lever']"
            ]
          },
          "metadata": {},
          "execution_count": 550
        }
      ]
    },
    {
      "cell_type": "code",
      "source": [
        "result_7"
      ],
      "metadata": {
        "colab": {
          "base_uri": "https://localhost:8080/"
        },
        "id": "sYGY_SLrNEMq",
        "outputId": "6cbe9438-c555-41fd-a964-6aac440d9a84"
      },
      "execution_count": null,
      "outputs": [
        {
          "output_type": "execute_result",
          "data": {
            "text/plain": [
              "['333/Y2275', 'Bracket Lifting', '333/Y2343', 'Screw Flange, Hlex']"
            ]
          },
          "metadata": {},
          "execution_count": 551
        }
      ]
    },
    {
      "cell_type": "code",
      "source": [
        "result_8"
      ],
      "metadata": {
        "colab": {
          "base_uri": "https://localhost:8080/"
        },
        "id": "ij9ZCzL6NL7c",
        "outputId": "56669175-64c6-458e-f929-a94400527d55"
      },
      "execution_count": null,
      "outputs": [
        {
          "output_type": "execute_result",
          "data": {
            "text/plain": [
              "['33312319', 'Cover Access Hole', '332/Y3324', 'Seal Rectangular', 'IRing']"
            ]
          },
          "metadata": {},
          "execution_count": 552
        }
      ]
    },
    {
      "cell_type": "code",
      "source": [
        "result_9"
      ],
      "metadata": {
        "colab": {
          "base_uri": "https://localhost:8080/"
        },
        "id": "ukCP4UnjNPzV",
        "outputId": "aef0cc14-1b6f-4172-a7dc-b74510d25258"
      },
      "execution_count": null,
      "outputs": [
        {
          "output_type": "execute_result",
          "data": {
            "text/plain": [
              "['333/2274',\n",
              " 'Plate Cover',\n",
              " '333/Y2273',\n",
              " 'Gasket',\n",
              " '333/2306',\n",
              " 'Screw Flange, Hex']"
            ]
          },
          "metadata": {},
          "execution_count": 553
        }
      ]
    },
    {
      "cell_type": "code",
      "source": [
        "result_10"
      ],
      "metadata": {
        "colab": {
          "base_uri": "https://localhost:8080/"
        },
        "id": "HV5mEnsZNSaO",
        "outputId": "167bf5f2-21bf-457d-9531-eeb887b1626e"
      },
      "execution_count": null,
      "outputs": [
        {
          "output_type": "execute_result",
          "data": {
            "text/plain": [
              "['02/911676',\n",
              " 'Bracket',\n",
              " '333/Y1456',\n",
              " 'Shaft Rocker Lever',\n",
              " '02/910822',\n",
              " 'PPlug',\n",
              " '02/911674',\n",
              " 'Levor',\n",
              " '02/911139',\n",
              " '(Insert Rocker',\n",
              " 'eve',\n",
              " '02/911138',\n",
              " '(Screw Adjusting',\n",
              " '02/910821',\n",
              " 'Nut 3/8\"-24UNF_',\n",
              " 'IHeavy Hexagon',\n",
              " '02/911673',\n",
              " 'ever',\n",
              " '02/911024',\n",
              " 'IWasher Plain',\n",
              " '02/910083',\n",
              " 'Circlip',\n",
              " '02/910084',\n",
              " 'Rod Push',\n",
              " '02/911025',\n",
              " 'Bolt',\n",
              " '02/911030',\n",
              " 'Bolt']"
            ]
          },
          "metadata": {},
          "execution_count": 554
        }
      ]
    },
    {
      "cell_type": "markdown",
      "source": [
        "# Part Number Extraction for Table 1 "
      ],
      "metadata": {
        "id": "yRxmgmpK7HJ2"
      }
    },
    {
      "cell_type": "code",
      "source": [
        "#This block of code finds and segregates the partnumber by pattern matching using regular expression.\n",
        "import re\n",
        "#Describe the pattern you are looking for in the below pattern variable. \n",
        "pattern = '\\d\\d\\d\\/\\D\\d\\d\\d\\d|\\d\\d\\d\\d\\d\\d\\d|\\d\\d/\\d\\d\\d\\d\\d\\d|\\d\\d\\d\\d\\D\\d\\d\\d\\d|\\d\\d\\d\\/\\D\\d\\d\\d\\d|\\d\\d\\d\\d\\d\\d\\d\\d|\\d\\d\\d/*\\d\\d\\d\\d'\n",
        "i=0\n",
        "list_partnumber_1=[]\n",
        "while i<26:\n",
        "  a1 = re.findall(pattern,result_1[i])\n",
        "  list_partnumber_1.append(a1)\n",
        "  i=i+1\n",
        "  continue\n",
        "\n",
        "print(list_partnumber_1)\n",
        "\n"
      ],
      "metadata": {
        "id": "Gq43boYaNXEI",
        "colab": {
          "base_uri": "https://localhost:8080/"
        },
        "outputId": "7db6dae5-92bb-45e4-dc48-809229ba627e"
      },
      "execution_count": null,
      "outputs": [
        {
          "output_type": "stream",
          "name": "stdout",
          "text": [
            "[['333/Y1461'], [], [], ['3332302'], [], ['333/Y2494'], [], ['333/1509'], [], ['333/Y2436'], [], ['333/Y2471'], [], [], ['333/Y2379'], [], ['333/Y2313'], [], ['333/Y2369'], [], ['333/Y1457'], [], [], [], [], []]\n"
          ]
        }
      ]
    },
    {
      "cell_type": "code",
      "source": [
        "#Creates a new list after cleaning the list \"list_partnumber_1\" and the new list is saved under \"list_partnumber_1_updated\"\n",
        "list_partnumber_1_updated = []\n",
        "for i in range(len(list_partnumber_1)):\n",
        "  if len(list_partnumber_1[i])==0:\n",
        "    continue\n",
        "  else:\n",
        "    list_partnumber_1_updated.append(list_partnumber_1[i][0])\n",
        "print(list_partnumber_1_updated)"
      ],
      "metadata": {
        "colab": {
          "base_uri": "https://localhost:8080/"
        },
        "id": "c31wdWtb61t-",
        "outputId": "dd7db6cd-4cc0-432e-d773-c028d4d598e7"
      },
      "execution_count": null,
      "outputs": [
        {
          "output_type": "stream",
          "name": "stdout",
          "text": [
            "['333/Y1461', '3332302', '333/Y2494', '333/1509', '333/Y2436', '333/Y2471', '333/Y2379', '333/Y2313', '333/Y2369', '333/Y1457']\n"
          ]
        }
      ]
    },
    {
      "cell_type": "code",
      "source": [
        "#Make Changes to list where there is any error in character detection.\n",
        "list_partnumber_1_updated[1]='333/Y2302'\n",
        "list_partnumber_1_updated[3]='333/Y1509'\n",
        "print(list_partnumber_1_updated)\n"
      ],
      "metadata": {
        "colab": {
          "base_uri": "https://localhost:8080/"
        },
        "id": "iv8V3JKkhtLu",
        "outputId": "d06ddf31-8225-4d6a-b502-551a52dce0d5"
      },
      "execution_count": null,
      "outputs": [
        {
          "output_type": "stream",
          "name": "stdout",
          "text": [
            "['333/Y1461', '333/Y2302', '333/Y2494', '333/Y1509', '333/Y2436', '333/Y2471', '333/Y2379', '333/Y2313', '333/Y2369', '333/Y1457']\n"
          ]
        }
      ]
    },
    {
      "cell_type": "markdown",
      "source": [
        "# Part Number Extraction for Table 2"
      ],
      "metadata": {
        "id": "F8n7oxSR7n0E"
      }
    },
    {
      "cell_type": "code",
      "source": [
        "#This block of code finds and segregates the partnumber by pattern matching using regular expression.\n",
        "import re\n",
        "#Describe the pattern you are looking for in the below pattern variable. \n",
        "pattern = '\\d\\d\\d\\/\\D\\d\\d\\d\\d|\\d\\d\\d\\d\\d\\d\\d|\\d\\d/\\d\\d\\d\\d\\d\\d|\\d\\d\\d\\d\\D\\d\\d\\d\\d|\\d\\d\\d\\/\\D\\d\\d\\d\\d|\\d\\d\\d\\d\\d\\d\\d\\d|\\d\\d\\d/*\\d\\d\\d\\d'\n",
        "i=0\n",
        "list_partnumber_2=[]\n",
        "while i<12:\n",
        "  a2 = re.findall(pattern,result_2[i])\n",
        "  list_partnumber_2.append(a2)\n",
        "  i=i+1\n",
        "  continue\n",
        "\n",
        "print(list_partnumber_2)"
      ],
      "metadata": {
        "colab": {
          "base_uri": "https://localhost:8080/"
        },
        "id": "TZVsqoD6lWjf",
        "outputId": "d7282034-bab4-45b5-8ff7-ec4a8c718aba"
      },
      "execution_count": null,
      "outputs": [
        {
          "output_type": "stream",
          "name": "stdout",
          "text": [
            "[['02/910410'], [], ['02/910411'], [], ['02/910062'], [], ['02/910063'], [], [], ['02/911013'], [], ['02/910634']]\n"
          ]
        }
      ]
    },
    {
      "cell_type": "code",
      "source": [
        "#Creates a new list after cleaning the list \"list_partnumber_1\" and the new list is saved under \"list_partnumber_1_updated\"\n",
        "list_partnumber_2_updated = []\n",
        "for i in range(len(list_partnumber_2)):\n",
        "  if len(list_partnumber_2[i])==0:\n",
        "    continue\n",
        "  else:\n",
        "    list_partnumber_2_updated.append(list_partnumber_2[i][0])\n",
        "print(list_partnumber_2_updated)"
      ],
      "metadata": {
        "colab": {
          "base_uri": "https://localhost:8080/"
        },
        "id": "kBJshxjJyz0n",
        "outputId": "eb0b2b18-f679-4ad1-8a6e-3e76e5558929"
      },
      "execution_count": null,
      "outputs": [
        {
          "output_type": "stream",
          "name": "stdout",
          "text": [
            "['02/910410', '02/910411', '02/910062', '02/910063', '02/911013', '02/910634']\n"
          ]
        }
      ]
    },
    {
      "cell_type": "markdown",
      "source": [
        "# Part Number Extraction for Table 3"
      ],
      "metadata": {
        "id": "ReTYu0jg9NF5"
      }
    },
    {
      "cell_type": "code",
      "source": [
        "#This block of code finds and segregates the partnumber by pattern matching using regular expression.\n",
        "import re\n",
        "#Describe the pattern you are looking for in the below pattern variable. \n",
        "pattern = '\\d\\d\\d\\/\\D\\d\\d\\d\\d|\\d\\d\\d\\d\\d\\d\\d|\\d\\d/\\d\\d\\d\\d\\d\\d|\\d\\d\\d\\d\\D\\d\\d\\d\\d|\\d\\d\\d\\/\\D\\d\\d\\d\\d|\\d\\d\\d\\d\\d\\d\\d\\d|\\d\\d\\d/*\\d\\d\\d\\d'\n",
        "i=0\n",
        "list_partnumber_3=[]\n",
        "while i<10:\n",
        "  a3 = re.findall(pattern,result_3[i])\n",
        "  list_partnumber_3.append(a3)\n",
        "  i=i+1\n",
        "  continue\n",
        "\n",
        "print(list_partnumber_3)"
      ],
      "metadata": {
        "colab": {
          "base_uri": "https://localhost:8080/"
        },
        "id": "rlz2hVWEzQBW",
        "outputId": "5b650b04-114b-44ff-ce39-375d544134b4"
      },
      "execution_count": null,
      "outputs": [
        {
          "output_type": "stream",
          "name": "stdout",
          "text": [
            "[[], [], ['333/Y2435'], [], ['333/Y2439'], [], ['333/Y2496'], [], ['333/*2440'], []]\n"
          ]
        }
      ]
    },
    {
      "cell_type": "code",
      "source": [
        "#Creates a new list after cleaning the list \"list_partnumber_1\" and the new list is saved under \"list_partnumber_1_updated\"\n",
        "list_partnumber_3_updated = []\n",
        "for i in range(len(list_partnumber_3)):\n",
        "  if len(list_partnumber_3[i])==0:\n",
        "    continue\n",
        "  else:\n",
        "    list_partnumber_3_updated.append(list_partnumber_3[i][0])\n",
        "print(list_partnumber_3_updated)"
      ],
      "metadata": {
        "colab": {
          "base_uri": "https://localhost:8080/"
        },
        "id": "nNB4EysqzsAV",
        "outputId": "e1d33bfd-40df-4075-8aee-92db718a8164"
      },
      "execution_count": null,
      "outputs": [
        {
          "output_type": "stream",
          "name": "stdout",
          "text": [
            "['333/Y2435', '333/Y2439', '333/Y2496', '333/*2440']\n"
          ]
        }
      ]
    },
    {
      "cell_type": "code",
      "source": [
        "list_partnumber_3_updated.insert(0,\"332/Y5370\")\n",
        "list_partnumber_3_updated[4]= '333/Y2440'\n",
        "print(list_partnumber_3_updated)"
      ],
      "metadata": {
        "colab": {
          "base_uri": "https://localhost:8080/"
        },
        "id": "fv-QOqAY31xa",
        "outputId": "5f6ccd1a-0bb9-474d-cf2b-c682a3a781fc"
      },
      "execution_count": null,
      "outputs": [
        {
          "output_type": "stream",
          "name": "stdout",
          "text": [
            "['332/Y5370', '333/Y2435', '333/Y2439', '333/Y2496', '333/Y2440']\n"
          ]
        }
      ]
    },
    {
      "cell_type": "markdown",
      "source": [
        "# Part Number Extraction for Table 4"
      ],
      "metadata": {
        "id": "-eq9zDVU9UVC"
      }
    },
    {
      "cell_type": "code",
      "source": [
        "#This block of code finds and segregates the partnumber by pattern matching using regular expression.\n",
        "import re\n",
        "#Describe the pattern you are looking for in the below pattern variable. \n",
        "pattern = '\\d\\d\\d\\/\\D\\d\\d\\d\\d|\\d\\d\\d\\d\\d\\d\\d|\\d\\d/\\d\\d\\d\\d\\d\\d|\\d\\d\\d\\d\\D\\d\\d\\d\\d|\\d\\d\\d\\/\\D\\d\\d\\d\\d|\\d\\d\\d\\d\\d\\d\\d\\d|\\d\\d\\d/*\\d\\d\\d\\d'\n",
        "i=0\n",
        "list_partnumber_4=[]\n",
        "while i<10:\n",
        "  a4 = re.findall(pattern,result_4[i])\n",
        "  list_partnumber_4.append(a4)\n",
        "  i=i+1\n",
        "  continue\n",
        "\n",
        "print(list_partnumber_4)"
      ],
      "metadata": {
        "colab": {
          "base_uri": "https://localhost:8080/"
        },
        "id": "qyQG4oTs5ycV",
        "outputId": "cb845d8e-f9e3-4e37-871d-d7df1e379949"
      },
      "execution_count": null,
      "outputs": [
        {
          "output_type": "stream",
          "name": "stdout",
          "text": [
            "[['3328Y5833'], [], [], ['335/C4772'], [], ['02/911018'], [], ['02/911017'], [], []]\n"
          ]
        }
      ]
    },
    {
      "cell_type": "code",
      "source": [
        "#Creates a new list after cleaning the list \"list_partnumber_1\" and the new list is saved under \"list_partnumber_1_updated\"\n",
        "list_partnumber_4_updated = []\n",
        "for i in range(len(list_partnumber_4)):\n",
        "  if len(list_partnumber_4[i])==0:\n",
        "    continue\n",
        "  else:\n",
        "    list_partnumber_4_updated.append(list_partnumber_4[i][0])\n",
        "print(list_partnumber_4_updated)"
      ],
      "metadata": {
        "colab": {
          "base_uri": "https://localhost:8080/"
        },
        "id": "nzaIK8FV6Sfc",
        "outputId": "394db442-3680-4900-e9b5-8a2585755b2f"
      },
      "execution_count": null,
      "outputs": [
        {
          "output_type": "stream",
          "name": "stdout",
          "text": [
            "['3328Y5833', '335/C4772', '02/911018', '02/911017']\n"
          ]
        }
      ]
    },
    {
      "cell_type": "code",
      "source": [
        "list_partnumber_4_updated[0]= '332/Y5833'\n",
        "print(list_partnumber_4_updated)"
      ],
      "metadata": {
        "colab": {
          "base_uri": "https://localhost:8080/"
        },
        "id": "BvMBWo0J6pNO",
        "outputId": "3824ef33-b6c0-4682-bd18-0a52706d80e7"
      },
      "execution_count": null,
      "outputs": [
        {
          "output_type": "stream",
          "name": "stdout",
          "text": [
            "['332/Y5833', '335/C4772', '02/911018', '02/911017']\n"
          ]
        }
      ]
    },
    {
      "cell_type": "markdown",
      "source": [
        "# Part Number Extraction for Table 5"
      ],
      "metadata": {
        "id": "1G3VowTr9kFN"
      }
    },
    {
      "cell_type": "code",
      "source": [
        "#This block of code finds and segregates the partnumber by pattern matching using regular expression.\n",
        "import re\n",
        "#Describe the pattern you are looking for in the below pattern variable. \n",
        "pattern = '\\d\\d\\d\\/\\D\\d\\d\\d\\d|\\d\\d\\d\\d\\d\\d\\d|\\d\\d/\\d\\d\\d\\d\\d\\d|\\d\\d\\d\\d\\D\\d\\d\\d\\d|\\d\\d\\d\\/\\D\\d\\d\\d\\d|\\d\\d\\d\\d\\d\\d\\d\\d|\\d\\d\\d/*\\d\\d\\d\\d'\n",
        "i=0\n",
        "list_partnumber_5=[]\n",
        "while i<33:\n",
        "  a5 = re.findall(pattern,result_5[i])\n",
        "  list_partnumber_5.append(a5)\n",
        "  i=i+1\n",
        "  continue\n",
        "\n",
        "print(list_partnumber_5)"
      ],
      "metadata": {
        "colab": {
          "base_uri": "https://localhost:8080/"
        },
        "id": "Cm1-x_Xp9pTN",
        "outputId": "09335e3e-174b-454a-a0f9-1d88d426c881"
      },
      "execution_count": null,
      "outputs": [
        {
          "output_type": "stream",
          "name": "stdout",
          "text": [
            "[['333/Y2281'], [], ['02/911015'], [], ['02/910069'], [], ['02/911543'], [], ['02/912635'], [], [], ['02/910029'], [], [], ['02/910571'], ['02/910067'], [], ['02/910068'], ['02/910028'], [], [], ['02/911014'], [], [], ['333/Y2287'], [], [], [], [], [], [], [], []]\n"
          ]
        }
      ]
    },
    {
      "cell_type": "code",
      "source": [
        "#Creates a new list after cleaning the list \"list_partnumber_1\" and the new list is saved under \"list_partnumber_1_updated\"\n",
        "list_partnumber_5_updated = []\n",
        "for i in range(len(list_partnumber_5)):\n",
        "  if len(list_partnumber_5[i])==0:\n",
        "    continue\n",
        "  else:\n",
        "    list_partnumber_5_updated.append(list_partnumber_5[i][0])\n",
        "print(list_partnumber_5_updated)"
      ],
      "metadata": {
        "colab": {
          "base_uri": "https://localhost:8080/"
        },
        "id": "28oBfLfl-O3E",
        "outputId": "78f8a67e-9e0c-4eb9-9c55-64c53c8282ea"
      },
      "execution_count": null,
      "outputs": [
        {
          "output_type": "stream",
          "name": "stdout",
          "text": [
            "['333/Y2281', '02/911015', '02/910069', '02/911543', '02/912635', '02/910029', '02/910571', '02/910067', '02/910068', '02/910028', '02/911014', '333/Y2287']\n"
          ]
        }
      ]
    },
    {
      "cell_type": "markdown",
      "source": [
        "# Part Number Extraction for Table 6"
      ],
      "metadata": {
        "id": "qCcHRmJu-hjz"
      }
    },
    {
      "cell_type": "code",
      "source": [
        "#This block of code finds and segregates the partnumber by pattern matching using regular expression.\n",
        "import re\n",
        "#Describe the pattern you are looking for in the below pattern variable. \n",
        "pattern = '\\d\\d\\d\\/\\D\\d\\d\\d\\d|\\d\\d\\d\\d\\d\\d\\d|\\d\\d/\\d\\d\\d\\d\\d\\d|\\d\\d\\d\\d\\D\\d\\d\\d\\d|\\d\\d\\d\\/\\D\\d\\d\\d\\d|\\d\\d\\d\\d\\d\\d\\d\\d|\\d\\d\\d/*\\d\\d\\d\\d'\n",
        "i=0\n",
        "list_partnumber_6=[]\n",
        "while i<1:\n",
        "  a6 = re.findall(pattern,result_6[i])\n",
        "  list_partnumber_6.append(a6)\n",
        "  i=i+1\n",
        "  continue\n",
        "\n",
        "print(list_partnumber_6)"
      ],
      "metadata": {
        "colab": {
          "base_uri": "https://localhost:8080/"
        },
        "id": "xA6V16IO-m9z",
        "outputId": "8742eef1-7379-4654-cec9-d98edf901ebd"
      },
      "execution_count": null,
      "outputs": [
        {
          "output_type": "stream",
          "name": "stdout",
          "text": [
            "[['333/Y2433']]\n"
          ]
        }
      ]
    },
    {
      "cell_type": "code",
      "source": [
        "#Creates a new list after cleaning the list \"list_partnumber_1\" and the new list is saved under \"list_partnumber_1_updated\"\n",
        "list_partnumber_6_updated = []\n",
        "for i in range(len(list_partnumber_6)):\n",
        "  if len(list_partnumber_6[i])==0:\n",
        "    continue\n",
        "  else:\n",
        "    list_partnumber_6_updated.append(list_partnumber_6[i][0])\n",
        "print(list_partnumber_6_updated)"
      ],
      "metadata": {
        "colab": {
          "base_uri": "https://localhost:8080/"
        },
        "id": "s-yYhjdw-7Fo",
        "outputId": "53a03f7e-d248-4cd7-d322-abc964d2d0a7"
      },
      "execution_count": null,
      "outputs": [
        {
          "output_type": "stream",
          "name": "stdout",
          "text": [
            "['333/Y2433']\n"
          ]
        }
      ]
    },
    {
      "cell_type": "markdown",
      "source": [
        "# Part Number Extraction for Table 7"
      ],
      "metadata": {
        "id": "WQmjC-PD_D6U"
      }
    },
    {
      "cell_type": "code",
      "source": [
        "#This block of code finds and segregates the partnumber by pattern matching using regular expression.\n",
        "import re\n",
        "#Describe the pattern you are looking for in the below pattern variable. \n",
        "pattern = '\\d\\d\\d\\/\\D\\d\\d\\d\\d|\\d\\d\\d\\d\\d\\d\\d|\\d\\d/\\d\\d\\d\\d\\d\\d|\\d\\d\\d\\d\\D\\d\\d\\d\\d|\\d\\d\\d\\/\\D\\d\\d\\d\\d|\\d\\d\\d\\d\\d\\d\\d\\d|\\d\\d\\d/*\\d\\d\\d\\d'\n",
        "i=0\n",
        "list_partnumber_7=[]\n",
        "while i<4:\n",
        "  a7 = re.findall(pattern,result_7[i])\n",
        "  list_partnumber_7.append(a7)\n",
        "  i=i+1\n",
        "  continue\n",
        "\n",
        "print(list_partnumber_7)"
      ],
      "metadata": {
        "colab": {
          "base_uri": "https://localhost:8080/"
        },
        "id": "YC8GB3Ot_KvS",
        "outputId": "7cec9484-2b3f-4ff9-aafe-b848b3cc879b"
      },
      "execution_count": null,
      "outputs": [
        {
          "output_type": "stream",
          "name": "stdout",
          "text": [
            "[['333/Y2275'], [], ['333/Y2343'], []]\n"
          ]
        }
      ]
    },
    {
      "cell_type": "code",
      "source": [
        "#Creates a new list after cleaning the list \"list_partnumber_1\" and the new list is saved under \"list_partnumber_1_updated\"\n",
        "list_partnumber_7_updated = []\n",
        "for i in range(len(list_partnumber_7)):\n",
        "  if len(list_partnumber_7[i])==0:\n",
        "    continue\n",
        "  else:\n",
        "    list_partnumber_7_updated.append(list_partnumber_7[i][0])\n",
        "print(list_partnumber_7_updated)"
      ],
      "metadata": {
        "colab": {
          "base_uri": "https://localhost:8080/"
        },
        "id": "DYeY9fNp_n-m",
        "outputId": "49b4f60e-9de0-4a6e-ac52-ca87c7de9605"
      },
      "execution_count": null,
      "outputs": [
        {
          "output_type": "stream",
          "name": "stdout",
          "text": [
            "['333/Y2275', '333/Y2343']\n"
          ]
        }
      ]
    },
    {
      "cell_type": "markdown",
      "source": [
        "# Part Number Extraction for Table 8"
      ],
      "metadata": {
        "id": "-SX4zk3G_1TC"
      }
    },
    {
      "cell_type": "code",
      "source": [
        "#This block of code finds and segregates the partnumber by pattern matching using regular expression.\n",
        "import re\n",
        "#Describe the pattern you are looking for in the below pattern variable. \n",
        "pattern = '\\d\\d\\d\\/\\D\\d\\d\\d\\d|\\d\\d\\d\\d\\d\\d\\d|\\d\\d/\\d\\d\\d\\d\\d\\d|\\d\\d\\d\\d\\D\\d\\d\\d\\d|\\d\\d\\d\\/\\D\\d\\d\\d\\d|\\d\\d\\d\\d\\d\\d\\d\\d|\\d\\d\\d/*\\d\\d\\d\\d'\n",
        "i=0\n",
        "list_partnumber_8=[]\n",
        "while i<4:\n",
        "  a8 = re.findall(pattern,result_8[i])\n",
        "  list_partnumber_8.append(a8)\n",
        "  i=i+1\n",
        "  continue\n",
        "\n",
        "print(list_partnumber_8)"
      ],
      "metadata": {
        "colab": {
          "base_uri": "https://localhost:8080/"
        },
        "id": "OxQ3FMdg_5OD",
        "outputId": "969efc4a-2660-4e1c-8069-9423dbfc5c59"
      },
      "execution_count": null,
      "outputs": [
        {
          "output_type": "stream",
          "name": "stdout",
          "text": [
            "[['3331231'], [], ['332/Y3324'], []]\n"
          ]
        }
      ]
    },
    {
      "cell_type": "code",
      "source": [
        "#Creates a new list after cleaning the list \"list_partnumber_1\" and the new list is saved under \"list_partnumber_1_updated\"\n",
        "list_partnumber_8_updated = []\n",
        "for i in range(len(list_partnumber_8)):\n",
        "  if len(list_partnumber_8[i])==0:\n",
        "    continue\n",
        "  else:\n",
        "    list_partnumber_8_updated.append(list_partnumber_8[i][0])\n",
        "print(list_partnumber_8_updated)"
      ],
      "metadata": {
        "colab": {
          "base_uri": "https://localhost:8080/"
        },
        "id": "wxoEkWw2Bi0m",
        "outputId": "1f5fcbee-624d-44d0-9449-f9a231ba85f0"
      },
      "execution_count": null,
      "outputs": [
        {
          "output_type": "stream",
          "name": "stdout",
          "text": [
            "['3331231', '332/Y3324']\n"
          ]
        }
      ]
    },
    {
      "cell_type": "code",
      "source": [
        "list_partnumber_8_updated[0]= '333/Y2319'\n",
        "print(list_partnumber_8_updated)"
      ],
      "metadata": {
        "colab": {
          "base_uri": "https://localhost:8080/"
        },
        "id": "jYYbI8duBv81",
        "outputId": "88b15d37-627e-4c9b-8c44-4290decb10ab"
      },
      "execution_count": null,
      "outputs": [
        {
          "output_type": "stream",
          "name": "stdout",
          "text": [
            "['333/Y2319', '332/Y3324']\n"
          ]
        }
      ]
    },
    {
      "cell_type": "markdown",
      "source": [
        "# Part Number Extraction for Table 9"
      ],
      "metadata": {
        "id": "oQFJ6eKtCHTc"
      }
    },
    {
      "cell_type": "code",
      "source": [
        "#This block of code finds and segregates the partnumber by pattern matching using regular expression.\n",
        "import re\n",
        "#Describe the pattern you are looking for in the below pattern variable. \n",
        "pattern = '\\d\\d\\d\\/\\D\\d\\d\\d\\d|\\d\\d\\d\\d\\d\\d\\d|\\d\\d/\\d\\d\\d\\d\\d\\d|\\d\\d\\d\\d\\D\\d\\d\\d\\d|\\d\\d\\d\\/\\D\\d\\d\\d\\d|\\d\\d\\d\\d\\d\\d\\d\\d|\\d\\d\\d/*\\d\\d\\d\\d'\n",
        "i=0\n",
        "list_partnumber_9=[]\n",
        "while i<6:\n",
        "  a9 = re.findall(pattern,result_9[i])\n",
        "  list_partnumber_9.append(a9)\n",
        "  i=i+1\n",
        "  continue\n",
        "\n",
        "print(list_partnumber_9)"
      ],
      "metadata": {
        "colab": {
          "base_uri": "https://localhost:8080/"
        },
        "id": "IwkwpX5yCM1L",
        "outputId": "51d8885b-4d60-4336-99a4-b37f363a6ae7"
      },
      "execution_count": null,
      "outputs": [
        {
          "output_type": "stream",
          "name": "stdout",
          "text": [
            "[['333/2274'], [], ['333/Y2273'], [], ['333/2306'], []]\n"
          ]
        }
      ]
    },
    {
      "cell_type": "code",
      "source": [
        "#Creates a new list after cleaning the list \"list_partnumber_1\" and the new list is saved under \"list_partnumber_1_updated\"\n",
        "list_partnumber_9_updated = []\n",
        "for i in range(len(list_partnumber_9)):\n",
        "  if len(list_partnumber_9[i])==0:\n",
        "    continue\n",
        "  else:\n",
        "    list_partnumber_9_updated.append(list_partnumber_9[i][0])\n",
        "print(list_partnumber_9_updated)"
      ],
      "metadata": {
        "colab": {
          "base_uri": "https://localhost:8080/"
        },
        "id": "XZfGlheqCinV",
        "outputId": "30a11c0d-f466-4077-923a-bf871ec9953e"
      },
      "execution_count": null,
      "outputs": [
        {
          "output_type": "stream",
          "name": "stdout",
          "text": [
            "['333/2274', '333/Y2273', '333/2306']\n"
          ]
        }
      ]
    },
    {
      "cell_type": "code",
      "source": [
        "list_partnumber_9_updated[0]='333/Y2274'\n",
        "list_partnumber_9_updated[2]='333/Y2306'\n",
        "print(list_partnumber_9_updated)"
      ],
      "metadata": {
        "colab": {
          "base_uri": "https://localhost:8080/"
        },
        "id": "3eFfcZPLC4is",
        "outputId": "fbd4d674-f032-4b3f-a3f9-871684f52b80"
      },
      "execution_count": null,
      "outputs": [
        {
          "output_type": "stream",
          "name": "stdout",
          "text": [
            "['333/Y2274', '333/Y2273', '333/Y2306']\n"
          ]
        }
      ]
    },
    {
      "cell_type": "markdown",
      "source": [
        "# Part Number Extraction for Table 10"
      ],
      "metadata": {
        "id": "v7jlrT7ODXa8"
      }
    },
    {
      "cell_type": "code",
      "source": [
        "#This block of code finds and segregates the partnumber by pattern matching using regular expression.\n",
        "import re\n",
        "#Describe the pattern you are looking for in the below pattern variable. \n",
        "pattern = '\\d\\d\\d\\/\\D\\d\\d\\d\\d|\\d\\d\\d\\d\\d\\d\\d|\\d\\d/\\d\\d\\d\\d\\d\\d|\\d\\d\\d\\d\\D\\d\\d\\d\\d|\\d\\d\\d\\/\\D\\d\\d\\d\\d|\\d\\d\\d\\d\\d\\d\\d\\d|\\d\\d\\d/*\\d\\d\\d\\d'\n",
        "i=0\n",
        "list_partnumber_10=[]\n",
        "while i<28:\n",
        "  a10 = re.findall(pattern,result_10[i])\n",
        "  list_partnumber_10.append(a10)\n",
        "  i=i+1\n",
        "  continue\n",
        "\n",
        "print(list_partnumber_10)"
      ],
      "metadata": {
        "colab": {
          "base_uri": "https://localhost:8080/"
        },
        "id": "-rUFCi9XDcoz",
        "outputId": "c1a4bb9c-f427-49ad-9717-61e273451d08"
      },
      "execution_count": null,
      "outputs": [
        {
          "output_type": "stream",
          "name": "stdout",
          "text": [
            "[['02/911676'], [], ['333/Y1456'], [], ['02/910822'], [], ['02/911674'], [], ['02/911139'], [], [], ['02/911138'], [], ['02/910821'], [], [], ['02/911673'], [], ['02/911024'], [], ['02/910083'], [], ['02/910084'], [], ['02/911025'], [], ['02/911030'], []]\n"
          ]
        }
      ]
    },
    {
      "cell_type": "code",
      "source": [
        "#Creates a new list after cleaning the list \"list_partnumber_1\" and the new list is saved under \"list_partnumber_1_updated\"\n",
        "list_partnumber_10_updated = []\n",
        "for i in range(len(list_partnumber_10)):\n",
        "  if len(list_partnumber_10[i])==0:\n",
        "    continue\n",
        "  else:\n",
        "    list_partnumber_10_updated.append(list_partnumber_10[i][0])\n",
        "print(list_partnumber_10_updated)"
      ],
      "metadata": {
        "colab": {
          "base_uri": "https://localhost:8080/"
        },
        "id": "mwHl1hrrER-y",
        "outputId": "47fb27c3-23bb-4269-8a97-77eff3857500"
      },
      "execution_count": null,
      "outputs": [
        {
          "output_type": "stream",
          "name": "stdout",
          "text": [
            "['02/911676', '333/Y1456', '02/910822', '02/911674', '02/911139', '02/911138', '02/910821', '02/911673', '02/911024', '02/910083', '02/910084', '02/911025', '02/911030']\n"
          ]
        }
      ]
    },
    {
      "cell_type": "markdown",
      "source": [
        "# Part Name List Creation"
      ],
      "metadata": {
        "id": "IoRJaTS1JjjY"
      }
    },
    {
      "cell_type": "markdown",
      "source": [
        "# Part Name Creation Table 1."
      ],
      "metadata": {
        "id": "HrfBdYj8GvLS"
      }
    },
    {
      "cell_type": "code",
      "source": [
        "result_1_copy = result_1\n",
        "for i in result_1_copy[:]:\n",
        "    if i in list_partnumber_1_updated:\n",
        "        result_1_copy.remove(i)\n",
        "\n",
        "print (result_1_copy)"
      ],
      "metadata": {
        "id": "6qQUeQFOP0Ty",
        "colab": {
          "base_uri": "https://localhost:8080/"
        },
        "outputId": "113cacc6-7621-498c-e565-7730e8aab126"
      },
      "execution_count": null,
      "outputs": [
        {
          "output_type": "stream",
          "name": "stdout",
          "text": [
            "['Rod Connecting', 'Engine', '3332302', 'Screw Connecting', 'Bush', '333/1509', 'Piston Engine', 'Pin Piston', 'Bearing Connecting', 'Rod', 'Retaining', 'Compression', 'Ring Compression', 'Compression', 'Rod', 'IRing', 'IRing', 'Ring']\n"
          ]
        }
      ]
    },
    {
      "cell_type": "code",
      "source": [
        "del result_1_copy[2]\n",
        "del result_1_copy[4]\n"
      ],
      "metadata": {
        "id": "V7vUEfegK0rz"
      },
      "execution_count": null,
      "outputs": []
    },
    {
      "cell_type": "code",
      "source": [
        "result_1_copy"
      ],
      "metadata": {
        "colab": {
          "base_uri": "https://localhost:8080/"
        },
        "id": "cyu7O8tMQDUm",
        "outputId": "2e157b2e-11cf-4af0-a105-3aaf90834c2f"
      },
      "execution_count": null,
      "outputs": [
        {
          "output_type": "execute_result",
          "data": {
            "text/plain": [
              "['Rod Connecting',\n",
              " 'Engine',\n",
              " 'Screw Connecting',\n",
              " 'Bush',\n",
              " 'Piston Engine',\n",
              " 'Pin Piston',\n",
              " 'Bearing Connecting',\n",
              " 'Rod',\n",
              " 'Retaining',\n",
              " 'Compression',\n",
              " 'Ring Compression',\n",
              " 'Compression',\n",
              " 'Rod',\n",
              " 'IRing',\n",
              " 'IRing',\n",
              " 'Ring']"
            ]
          },
          "metadata": {},
          "execution_count": 582
        }
      ]
    },
    {
      "cell_type": "code",
      "source": [
        "partname_1=['Rod Connecting Engine',\n",
        " 'Screw Connecting Rod',\n",
        " 'Bush',\n",
        " 'Piston Engine',\n",
        " 'Pin Piston',\n",
        " 'Bearing Connecting Rod',\n",
        " 'Ring Retaining',\n",
        " 'Ring Compression',\n",
        " 'Ring Compression',\n",
        " 'Ring Compression']\n",
        " "
      ],
      "metadata": {
        "id": "aZXDHqgnRK6n"
      },
      "execution_count": null,
      "outputs": []
    },
    {
      "cell_type": "code",
      "source": [
        "partname_1"
      ],
      "metadata": {
        "colab": {
          "base_uri": "https://localhost:8080/"
        },
        "id": "8QXcvqR4SAip",
        "outputId": "d77aef63-7e61-413a-a66b-2e57d2fb29a5"
      },
      "execution_count": null,
      "outputs": [
        {
          "output_type": "execute_result",
          "data": {
            "text/plain": [
              "['Rod Connecting Engine',\n",
              " 'Screw Connecting Rod',\n",
              " 'Bush',\n",
              " 'Piston Engine',\n",
              " 'Pin Piston',\n",
              " 'Bearing Connecting Rod',\n",
              " 'Ring Retaining',\n",
              " 'Ring Compression',\n",
              " 'Ring Compression',\n",
              " 'Ring Compression']"
            ]
          },
          "metadata": {},
          "execution_count": 584
        }
      ]
    },
    {
      "cell_type": "markdown",
      "source": [
        "# Part Name Creation Table 2"
      ],
      "metadata": {
        "id": "DHEao7VaYeeW"
      }
    },
    {
      "cell_type": "code",
      "source": [
        "result_2_copy = result_2\n",
        "for i in result_2_copy[:]:\n",
        "    if i in list_partnumber_2_updated:\n",
        "        result_2_copy.remove(i)\n",
        "\n",
        "print (result_2_copy)"
      ],
      "metadata": {
        "colab": {
          "base_uri": "https://localhost:8080/"
        },
        "id": "iexNc6G2YjaY",
        "outputId": "eba23ba5-7099-4a86-c384-5fe0a2fcaed5"
      },
      "execution_count": null,
      "outputs": [
        {
          "output_type": "stream",
          "name": "stdout",
          "text": [
            "['Camshaft', 'Gear Camshaft', 'Key', 'Bracket Cam', 'hrust', 'Screw', 'Tappet']\n"
          ]
        }
      ]
    },
    {
      "cell_type": "code",
      "source": [
        "partname_2=['Camshaft', 'Gear Camshaft', 'Key', 'Bracket Cam Thrust', 'Screw', 'Tappet']"
      ],
      "metadata": {
        "id": "bD5S_OE3Z7gE"
      },
      "execution_count": null,
      "outputs": []
    },
    {
      "cell_type": "code",
      "source": [
        "partname_2"
      ],
      "metadata": {
        "colab": {
          "base_uri": "https://localhost:8080/"
        },
        "id": "GkeCxnTuaRj4",
        "outputId": "dbf49d66-08e6-44ff-ca3f-d5fe687cd567"
      },
      "execution_count": null,
      "outputs": [
        {
          "output_type": "execute_result",
          "data": {
            "text/plain": [
              "['Camshaft', 'Gear Camshaft', 'Key', 'Bracket Cam Thrust', 'Screw', 'Tappet']"
            ]
          },
          "metadata": {},
          "execution_count": 587
        }
      ]
    },
    {
      "cell_type": "markdown",
      "source": [
        "# Part Name Creation Table 3"
      ],
      "metadata": {
        "id": "ShPKZuKddi3V"
      }
    },
    {
      "cell_type": "code",
      "source": [
        "result_3_copy = result_3\n",
        "for i in result_3_copy[:]:\n",
        "    if i in list_partnumber_3_updated:\n",
        "        result_3_copy.remove(i)\n",
        "\n",
        "print (result_3_copy)"
      ],
      "metadata": {
        "colab": {
          "base_uri": "https://localhost:8080/"
        },
        "id": "TQbm9HHFacdw",
        "outputId": "33522895-65b5-4679-bb2a-f880359540ef"
      },
      "execution_count": null,
      "outputs": [
        {
          "output_type": "stream",
          "name": "stdout",
          "text": [
            "['332Y5370', 'Timer Overcrank', 'Washer Plain', 'Bracket Governor', 'MHarness Wiring', '333/*2440', 'INut Lock']\n"
          ]
        }
      ]
    },
    {
      "cell_type": "code",
      "source": [
        "del result_3_copy[0]\n",
        "del result_3_copy[4]"
      ],
      "metadata": {
        "id": "tlFsp33DclZk"
      },
      "execution_count": null,
      "outputs": []
    },
    {
      "cell_type": "code",
      "source": [
        "result_3_copy"
      ],
      "metadata": {
        "colab": {
          "base_uri": "https://localhost:8080/"
        },
        "id": "ue734pUJdG4s",
        "outputId": "6b26b592-0609-41d7-af58-82eeb1331cac"
      },
      "execution_count": null,
      "outputs": [
        {
          "output_type": "execute_result",
          "data": {
            "text/plain": [
              "['Timer Overcrank',\n",
              " 'Washer Plain',\n",
              " 'Bracket Governor',\n",
              " 'MHarness Wiring',\n",
              " 'INut Lock']"
            ]
          },
          "metadata": {},
          "execution_count": 590
        }
      ]
    },
    {
      "cell_type": "code",
      "source": [
        "partname_3=['Timer Overcrank',\n",
        " 'Washer Plain',\n",
        " 'Bracket Governor',\n",
        " 'Harness Wiring',\n",
        " 'Nut Lock']"
      ],
      "metadata": {
        "id": "CZcyoNSTdRaB"
      },
      "execution_count": null,
      "outputs": []
    },
    {
      "cell_type": "code",
      "source": [
        "partname_3"
      ],
      "metadata": {
        "colab": {
          "base_uri": "https://localhost:8080/"
        },
        "id": "eedvyLTpdao8",
        "outputId": "684f385d-359f-4a5f-9366-6d2ffe466536"
      },
      "execution_count": null,
      "outputs": [
        {
          "output_type": "execute_result",
          "data": {
            "text/plain": [
              "['Timer Overcrank',\n",
              " 'Washer Plain',\n",
              " 'Bracket Governor',\n",
              " 'Harness Wiring',\n",
              " 'Nut Lock']"
            ]
          },
          "metadata": {},
          "execution_count": 592
        }
      ]
    },
    {
      "cell_type": "markdown",
      "source": [
        "# Part Name Creation Table 4"
      ],
      "metadata": {
        "id": "yYX74i-EeVPs"
      }
    },
    {
      "cell_type": "code",
      "source": [
        "result_4_copy = result_4\n",
        "for i in result_4_copy[:]:\n",
        "    if i in list_partnumber_4_updated:\n",
        "        result_4_copy.remove(i)\n",
        "\n",
        "print (result_4_copy)"
      ],
      "metadata": {
        "colab": {
          "base_uri": "https://localhost:8080/"
        },
        "id": "PMoN5C6VebKv",
        "outputId": "8bd0df2c-70b7-4bef-c2a7-45cc179245c2"
      },
      "execution_count": null,
      "outputs": [
        {
          "output_type": "stream",
          "name": "stdout",
          "text": [
            "['3328Y5833', 'IRing Gcar Flywhee=', 'Gear Flywheel', 'Flywheel', 'Washer Plain', 'Screw', 'Ring', 'Ring']\n"
          ]
        }
      ]
    },
    {
      "cell_type": "code",
      "source": [
        "del result_4_copy[0]"
      ],
      "metadata": {
        "id": "NSphwIXNfuk2"
      },
      "execution_count": null,
      "outputs": []
    },
    {
      "cell_type": "code",
      "source": [
        "result_4_copy"
      ],
      "metadata": {
        "colab": {
          "base_uri": "https://localhost:8080/"
        },
        "id": "lX9c5aE7gDPp",
        "outputId": "a5c54ab2-1132-400d-a5d7-0217da725b53"
      },
      "execution_count": null,
      "outputs": [
        {
          "output_type": "execute_result",
          "data": {
            "text/plain": [
              "['IRing Gcar Flywhee=',\n",
              " 'Gear Flywheel',\n",
              " 'Flywheel',\n",
              " 'Washer Plain',\n",
              " 'Screw',\n",
              " 'Ring',\n",
              " 'Ring']"
            ]
          },
          "metadata": {},
          "execution_count": 595
        }
      ]
    },
    {
      "cell_type": "code",
      "source": [
        "partname_4=['Ring Gear Flywheel Ring Gear Flywheel Ring',\n",
        " 'Flywheel',\n",
        " 'Washer Plain',\n",
        " 'Screw']"
      ],
      "metadata": {
        "id": "atDqbwU3gRYl"
      },
      "execution_count": null,
      "outputs": []
    },
    {
      "cell_type": "code",
      "source": [
        "partname_4"
      ],
      "metadata": {
        "colab": {
          "base_uri": "https://localhost:8080/"
        },
        "id": "Ry3FZRl4ghvY",
        "outputId": "8d4bfefc-14a9-47b7-e201-ea4c8dbd7879"
      },
      "execution_count": null,
      "outputs": [
        {
          "output_type": "execute_result",
          "data": {
            "text/plain": [
              "['Ring Gear Flywheel Ring Gear Flywheel Ring',\n",
              " 'Flywheel',\n",
              " 'Washer Plain',\n",
              " 'Screw']"
            ]
          },
          "metadata": {},
          "execution_count": 597
        }
      ]
    },
    {
      "cell_type": "markdown",
      "source": [
        "# Part Name Creation Table 5"
      ],
      "metadata": {
        "id": "dZKwR4xAgpBB"
      }
    },
    {
      "cell_type": "code",
      "source": [
        "result_5_copy = result_5\n",
        "for i in result_5_copy[:]:\n",
        "    if i in list_partnumber_5_updated:\n",
        "        result_5_copy.remove(i)\n",
        "\n",
        "print (result_5_copy)"
      ],
      "metadata": {
        "colab": {
          "base_uri": "https://localhost:8080/"
        },
        "id": "BAR1V1plgtRC",
        "outputId": "6a78668c-c2a8-4d25-af87-a53bf8a8e3ba"
      },
      "execution_count": null,
      "outputs": [
        {
          "output_type": "stream",
          "name": "stdout",
          "text": [
            "['Housing Flywheel', 'Screw', 'Plate Cover', 'Cover Plate ,', 'Kit-seal Rear', 'Crankshaft Oil', 'Gasket Rear Seal', 'IHousing', '0 Ring', 'Seal', 'Rectangular', 'Screw Flange Head]', '8.8', 'Screw', 'SCREW,HEXAGO', 'JAN HEAD', 'SCREW, HEXAGO', 'AN HEAD', 'Reai', 'Plug', 'Piug', 'Ring']\n"
          ]
        }
      ]
    },
    {
      "cell_type": "code",
      "source": [
        "result_5_copy"
      ],
      "metadata": {
        "colab": {
          "base_uri": "https://localhost:8080/"
        },
        "id": "pmdsrop6hAqr",
        "outputId": "366d8a0a-131d-4601-d434-ffe3c883bdb8"
      },
      "execution_count": null,
      "outputs": [
        {
          "output_type": "execute_result",
          "data": {
            "text/plain": [
              "['Housing Flywheel',\n",
              " 'Screw',\n",
              " 'Plate Cover',\n",
              " 'Cover Plate ,',\n",
              " 'Kit-seal Rear',\n",
              " 'Crankshaft Oil',\n",
              " 'Gasket Rear Seal',\n",
              " 'IHousing',\n",
              " '0 Ring',\n",
              " 'Seal',\n",
              " 'Rectangular',\n",
              " 'Screw Flange Head]',\n",
              " '8.8',\n",
              " 'Screw',\n",
              " 'SCREW,HEXAGO',\n",
              " 'JAN HEAD',\n",
              " 'SCREW, HEXAGO',\n",
              " 'AN HEAD',\n",
              " 'Reai',\n",
              " 'Plug',\n",
              " 'Piug',\n",
              " 'Ring']"
            ]
          },
          "metadata": {},
          "execution_count": 599
        }
      ]
    },
    {
      "cell_type": "code",
      "source": [
        "partname_5=['Housing Flywheel',\n",
        " 'Screw',\n",
        " 'Plate Cover',\n",
        " 'Cover Plate , Rear',\n",
        " 'Kit-seal Rear Crankshaft Oil',\n",
        " 'Gasket Rear Seal Housing','Plug',\n",
        " 'O Ring','Plug',\n",
        " 'Seal Rectangular Ring',\n",
        " 'Screw Flange Head 8.8',\n",
        " 'Screw SCREW,HEXAGO AN HEAD SCREW, HEXAGO AN HEAD']"
      ],
      "metadata": {
        "id": "hgmlCMQzhlhR"
      },
      "execution_count": null,
      "outputs": []
    },
    {
      "cell_type": "code",
      "source": [
        "partname_5"
      ],
      "metadata": {
        "colab": {
          "base_uri": "https://localhost:8080/"
        },
        "id": "ABKzbDtkj9Yt",
        "outputId": "f1a35aed-c885-4c12-eee5-9cc07a537d92"
      },
      "execution_count": null,
      "outputs": [
        {
          "output_type": "execute_result",
          "data": {
            "text/plain": [
              "['Housing Flywheel',\n",
              " 'Screw',\n",
              " 'Plate Cover',\n",
              " 'Cover Plate , Rear',\n",
              " 'Kit-seal Rear Crankshaft Oil',\n",
              " 'Gasket Rear Seal Housing',\n",
              " 'Plug',\n",
              " 'O Ring',\n",
              " 'Plug',\n",
              " 'Seal Rectangular Ring',\n",
              " 'Screw Flange Head 8.8',\n",
              " 'Screw SCREW,HEXAGO AN HEAD SCREW, HEXAGO AN HEAD']"
            ]
          },
          "metadata": {},
          "execution_count": 601
        }
      ]
    },
    {
      "cell_type": "markdown",
      "source": [
        "# Part Name Creation Table 6"
      ],
      "metadata": {
        "id": "pngSvLCNkPbY"
      }
    },
    {
      "cell_type": "code",
      "source": [
        "result_6_copy = result_6\n",
        "for i in result_6_copy[:]:\n",
        "    if i in list_partnumber_6_updated:\n",
        "        result_6_copy.remove(i)\n",
        "\n",
        "print (result_6_copy)"
      ],
      "metadata": {
        "colab": {
          "base_uri": "https://localhost:8080/"
        },
        "id": "CszMYyLukTyA",
        "outputId": "f6a41d0c-364e-4ab4-9e87-84edabc02f60"
      },
      "execution_count": null,
      "outputs": [
        {
          "output_type": "stream",
          "name": "stdout",
          "text": [
            "['Pin: Throtlle Lever']\n"
          ]
        }
      ]
    },
    {
      "cell_type": "code",
      "source": [
        "result_6_copy"
      ],
      "metadata": {
        "colab": {
          "base_uri": "https://localhost:8080/"
        },
        "id": "XBcdGWHdkvuC",
        "outputId": "ef748e2a-dc8f-4844-f7b5-cf13c1836503"
      },
      "execution_count": null,
      "outputs": [
        {
          "output_type": "execute_result",
          "data": {
            "text/plain": [
              "['Pin: Throtlle Lever']"
            ]
          },
          "metadata": {},
          "execution_count": 603
        }
      ]
    },
    {
      "cell_type": "code",
      "source": [
        "partname_6 = ['Pin: Throttle Lever']"
      ],
      "metadata": {
        "id": "BQKB7BS2k5Cq"
      },
      "execution_count": null,
      "outputs": []
    },
    {
      "cell_type": "code",
      "source": [
        "partname_6"
      ],
      "metadata": {
        "colab": {
          "base_uri": "https://localhost:8080/"
        },
        "id": "-GPbA3orlCrR",
        "outputId": "730068fb-4021-4fc4-e977-2d0059705350"
      },
      "execution_count": null,
      "outputs": [
        {
          "output_type": "execute_result",
          "data": {
            "text/plain": [
              "['Pin: Throttle Lever']"
            ]
          },
          "metadata": {},
          "execution_count": 605
        }
      ]
    },
    {
      "cell_type": "markdown",
      "source": [
        "# Part Name Creation Table 7"
      ],
      "metadata": {
        "id": "7wUWEjV2lPNw"
      }
    },
    {
      "cell_type": "code",
      "source": [
        "result_7_copy = result_7\n",
        "for i in result_7_copy[:]:\n",
        "    if i in list_partnumber_7_updated:\n",
        "        result_7_copy.remove(i)\n",
        "\n",
        "print (result_7_copy)"
      ],
      "metadata": {
        "colab": {
          "base_uri": "https://localhost:8080/"
        },
        "id": "S1chOB0ulSmY",
        "outputId": "345bcd5d-7811-4679-b6d0-79d95f870394"
      },
      "execution_count": null,
      "outputs": [
        {
          "output_type": "stream",
          "name": "stdout",
          "text": [
            "['Bracket Lifting', 'Screw Flange, Hlex']\n"
          ]
        }
      ]
    },
    {
      "cell_type": "code",
      "source": [
        "result_7_copy"
      ],
      "metadata": {
        "colab": {
          "base_uri": "https://localhost:8080/"
        },
        "id": "bc-9mIwilllL",
        "outputId": "21de3113-1c7c-4298-bf43-3f0a0d386fa6"
      },
      "execution_count": null,
      "outputs": [
        {
          "output_type": "execute_result",
          "data": {
            "text/plain": [
              "['Bracket Lifting', 'Screw Flange, Hlex']"
            ]
          },
          "metadata": {},
          "execution_count": 607
        }
      ]
    },
    {
      "cell_type": "code",
      "source": [
        "partname_7=['Bracket Lifting', 'Screw Flange, Hex']"
      ],
      "metadata": {
        "id": "lzgu14FYlwNj"
      },
      "execution_count": null,
      "outputs": []
    },
    {
      "cell_type": "code",
      "source": [
        "partname_7"
      ],
      "metadata": {
        "colab": {
          "base_uri": "https://localhost:8080/"
        },
        "id": "wLH-YN0vl9IT",
        "outputId": "5a620f73-606c-4680-afe4-bfcf64780dfb"
      },
      "execution_count": null,
      "outputs": [
        {
          "output_type": "execute_result",
          "data": {
            "text/plain": [
              "['Bracket Lifting', 'Screw Flange, Hex']"
            ]
          },
          "metadata": {},
          "execution_count": 609
        }
      ]
    },
    {
      "cell_type": "markdown",
      "source": [
        "# Part Name Creation Table 8"
      ],
      "metadata": {
        "id": "uOiIT2QMmGsd"
      }
    },
    {
      "cell_type": "code",
      "source": [
        "result_8_copy = result_8\n",
        "for i in result_8_copy[:]:\n",
        "    if i in list_partnumber_8_updated:\n",
        "        result_8_copy.remove(i)\n",
        "\n",
        "print (result_8_copy)"
      ],
      "metadata": {
        "colab": {
          "base_uri": "https://localhost:8080/"
        },
        "id": "ULGUQPgGmVvj",
        "outputId": "6666d9b6-5016-41ff-962e-2aa53b5bf403"
      },
      "execution_count": null,
      "outputs": [
        {
          "output_type": "stream",
          "name": "stdout",
          "text": [
            "['33312319', 'Cover Access Hole', 'Seal Rectangular', 'IRing']\n"
          ]
        }
      ]
    },
    {
      "cell_type": "code",
      "source": [
        "del result_8_copy[0]"
      ],
      "metadata": {
        "id": "zj95G3ozmplI"
      },
      "execution_count": null,
      "outputs": []
    },
    {
      "cell_type": "code",
      "source": [
        "result_8_copy"
      ],
      "metadata": {
        "colab": {
          "base_uri": "https://localhost:8080/"
        },
        "id": "UQl8yuqAmvZ6",
        "outputId": "15fbb7fb-7aa7-4417-e7dd-ec2f21eafee3"
      },
      "execution_count": null,
      "outputs": [
        {
          "output_type": "execute_result",
          "data": {
            "text/plain": [
              "['Cover Access Hole', 'Seal Rectangular', 'IRing']"
            ]
          },
          "metadata": {},
          "execution_count": 612
        }
      ]
    },
    {
      "cell_type": "code",
      "source": [
        "partname_8 = ['Cover Access Hole', 'Seal Rectangular Ring']"
      ],
      "metadata": {
        "id": "jgBGp6Vfm6kG"
      },
      "execution_count": null,
      "outputs": []
    },
    {
      "cell_type": "code",
      "source": [
        "partname_8"
      ],
      "metadata": {
        "colab": {
          "base_uri": "https://localhost:8080/"
        },
        "id": "ESHacGSMnB93",
        "outputId": "0e7dc7c8-a102-42f2-f367-f7f0edf2f50c"
      },
      "execution_count": null,
      "outputs": [
        {
          "output_type": "execute_result",
          "data": {
            "text/plain": [
              "['Cover Access Hole', 'Seal Rectangular Ring']"
            ]
          },
          "metadata": {},
          "execution_count": 614
        }
      ]
    },
    {
      "cell_type": "markdown",
      "source": [
        "# Part Name Creation Table 9"
      ],
      "metadata": {
        "id": "wea01BPXnHy_"
      }
    },
    {
      "cell_type": "code",
      "source": [
        "result_9_copy = result_9\n",
        "for i in result_9_copy[:]:\n",
        "    if i in list_partnumber_9_updated:\n",
        "        result_9_copy.remove(i)\n",
        "\n",
        "print (result_9_copy)"
      ],
      "metadata": {
        "colab": {
          "base_uri": "https://localhost:8080/"
        },
        "id": "PE6Qd_cynLPl",
        "outputId": "653c15be-7f3b-428a-d66d-79f0729b0214"
      },
      "execution_count": null,
      "outputs": [
        {
          "output_type": "stream",
          "name": "stdout",
          "text": [
            "['333/2274', 'Plate Cover', 'Gasket', '333/2306', 'Screw Flange, Hex']\n"
          ]
        }
      ]
    },
    {
      "cell_type": "code",
      "source": [
        "del result_9_copy[0]\n",
        "del result_9_copy[2]"
      ],
      "metadata": {
        "id": "Ua9Lj4CJnnX8"
      },
      "execution_count": null,
      "outputs": []
    },
    {
      "cell_type": "code",
      "source": [
        "result_9_copy"
      ],
      "metadata": {
        "colab": {
          "base_uri": "https://localhost:8080/"
        },
        "id": "L9FbwSuloRz6",
        "outputId": "378aa7e1-f002-4f04-d6aa-376e7a7d49de"
      },
      "execution_count": null,
      "outputs": [
        {
          "output_type": "execute_result",
          "data": {
            "text/plain": [
              "['Plate Cover', 'Gasket', 'Screw Flange, Hex']"
            ]
          },
          "metadata": {},
          "execution_count": 617
        }
      ]
    },
    {
      "cell_type": "code",
      "source": [
        "partname_9 = ['Plate Cover', 'Gasket', 'Screw Flange, Hex']"
      ],
      "metadata": {
        "id": "lhCkT45YoiFA"
      },
      "execution_count": null,
      "outputs": []
    },
    {
      "cell_type": "code",
      "source": [
        "partname_9"
      ],
      "metadata": {
        "colab": {
          "base_uri": "https://localhost:8080/"
        },
        "id": "_6OpzLlvonrl",
        "outputId": "b589a2e3-6b07-43bc-a501-486c41511824"
      },
      "execution_count": null,
      "outputs": [
        {
          "output_type": "execute_result",
          "data": {
            "text/plain": [
              "['Plate Cover', 'Gasket', 'Screw Flange, Hex']"
            ]
          },
          "metadata": {},
          "execution_count": 619
        }
      ]
    },
    {
      "cell_type": "markdown",
      "source": [
        "# Part Name Creation Table 10"
      ],
      "metadata": {
        "id": "fzHXw2RlovYB"
      }
    },
    {
      "cell_type": "code",
      "source": [
        "result_10_copy = result_10\n",
        "for i in result_10_copy[:]:\n",
        "    if i in list_partnumber_10_updated:\n",
        "        result_10_copy.remove(i)\n",
        "\n",
        "print (result_10_copy)"
      ],
      "metadata": {
        "colab": {
          "base_uri": "https://localhost:8080/"
        },
        "id": "4siVpQeeozFR",
        "outputId": "93ea2a38-bd6d-4ece-af9c-af47fb72fa94"
      },
      "execution_count": null,
      "outputs": [
        {
          "output_type": "stream",
          "name": "stdout",
          "text": [
            "['Bracket', 'Shaft Rocker Lever', 'PPlug', 'Levor', '(Insert Rocker', 'eve', '(Screw Adjusting', 'Nut 3/8\"-24UNF_', 'IHeavy Hexagon', 'ever', 'IWasher Plain', 'Circlip', 'Rod Push', 'Bolt', 'Bolt']\n"
          ]
        }
      ]
    },
    {
      "cell_type": "code",
      "source": [
        "result_10_copy"
      ],
      "metadata": {
        "colab": {
          "base_uri": "https://localhost:8080/"
        },
        "id": "5uiLZdiCo-QO",
        "outputId": "00b0fade-d7d4-400d-d27b-86d57c924a2e"
      },
      "execution_count": null,
      "outputs": [
        {
          "output_type": "execute_result",
          "data": {
            "text/plain": [
              "['Bracket',\n",
              " 'Shaft Rocker Lever',\n",
              " 'PPlug',\n",
              " 'Levor',\n",
              " '(Insert Rocker',\n",
              " 'eve',\n",
              " '(Screw Adjusting',\n",
              " 'Nut 3/8\"-24UNF_',\n",
              " 'IHeavy Hexagon',\n",
              " 'ever',\n",
              " 'IWasher Plain',\n",
              " 'Circlip',\n",
              " 'Rod Push',\n",
              " 'Bolt',\n",
              " 'Bolt']"
            ]
          },
          "metadata": {},
          "execution_count": 621
        }
      ]
    },
    {
      "cell_type": "code",
      "source": [
        "partname_10 = ['Bracket',\n",
        " 'Shaft Rocker Lever',\n",
        " 'Plug',\n",
        " 'Lever',\n",
        " 'Insert Rocker Lever',\n",
        " 'Screw Adjusting',\n",
        " 'Nut 3/8\"-24UNF, Heavy Hexagon',\n",
        " 'Lever',\n",
        " 'Washer Plain',\n",
        " 'Circlip',\n",
        " 'Rod Push',\n",
        " 'Bolt',\n",
        " 'Bolt']"
      ],
      "metadata": {
        "id": "rg7q5p09pIk4"
      },
      "execution_count": null,
      "outputs": []
    },
    {
      "cell_type": "code",
      "source": [
        "partname_10"
      ],
      "metadata": {
        "colab": {
          "base_uri": "https://localhost:8080/"
        },
        "id": "UTqlQHRIpdzu",
        "outputId": "f61c543c-765a-4969-f30b-26967bab95dd"
      },
      "execution_count": null,
      "outputs": [
        {
          "output_type": "execute_result",
          "data": {
            "text/plain": [
              "['Bracket',\n",
              " 'Shaft Rocker Lever',\n",
              " 'Plug',\n",
              " 'Lever',\n",
              " 'Insert Rocker Lever',\n",
              " 'Screw Adjusting',\n",
              " 'Nut 3/8\"-24UNF, Heavy Hexagon',\n",
              " 'Lever',\n",
              " 'Washer Plain',\n",
              " 'Circlip',\n",
              " 'Rod Push',\n",
              " 'Bolt',\n",
              " 'Bolt']"
            ]
          },
          "metadata": {},
          "execution_count": 623
        }
      ]
    },
    {
      "cell_type": "markdown",
      "source": [
        "# Quantity List Creation"
      ],
      "metadata": {
        "id": "BkT32lNcpsVp"
      }
    },
    {
      "cell_type": "markdown",
      "source": [
        "# Quantity List Creation for Table 1"
      ],
      "metadata": {
        "id": "cZvDXrMT3ug7"
      }
    },
    {
      "cell_type": "code",
      "source": [
        "QTY_list_1 = []\n",
        "n_1 = int(input(\"Enter the list size \"))\n",
        "\n",
        "print(\"\\n\")\n",
        "for i in range(0, n_1):\n",
        "    print(\"Enter number at index\", i, )\n",
        "    item = int(input())\n",
        "    QTY_list_1.append(item)\n",
        "print(\"User list is \", QTY_list_1)"
      ],
      "metadata": {
        "colab": {
          "base_uri": "https://localhost:8080/"
        },
        "id": "Dmg8C50JqZAN",
        "outputId": "3f67cbec-1984-4f94-d3ff-b7f0c231162d"
      },
      "execution_count": null,
      "outputs": [
        {
          "output_type": "stream",
          "name": "stdout",
          "text": [
            "Enter the list size 10\n",
            "\n",
            "\n",
            "Enter number at index 0\n",
            "1\n",
            "Enter number at index 1\n",
            "2\n",
            "Enter number at index 2\n",
            "1\n",
            "Enter number at index 3\n",
            "6\n",
            "Enter number at index 4\n",
            "6\n",
            "Enter number at index 5\n",
            "12\n",
            "Enter number at index 6\n",
            "12\n",
            "Enter number at index 7\n",
            "6\n",
            "Enter number at index 8\n",
            "6\n",
            "Enter number at index 9\n",
            "6\n",
            "User list is  [1, 2, 1, 6, 6, 12, 12, 6, 6, 6]\n"
          ]
        }
      ]
    },
    {
      "cell_type": "code",
      "source": [
        "QTY_list_1"
      ],
      "metadata": {
        "colab": {
          "base_uri": "https://localhost:8080/"
        },
        "id": "acUyEmMd6ci5",
        "outputId": "694d12e5-17e4-4eb1-d699-18d28dd361c0"
      },
      "execution_count": null,
      "outputs": [
        {
          "output_type": "execute_result",
          "data": {
            "text/plain": [
              "[1, 2, 1, 6, 6, 12, 12, 6, 6, 6]"
            ]
          },
          "metadata": {},
          "execution_count": 625
        }
      ]
    },
    {
      "cell_type": "markdown",
      "source": [
        "# Quantity List Creation for Table 2"
      ],
      "metadata": {
        "id": "em6EF2Zb7M7U"
      }
    },
    {
      "cell_type": "code",
      "source": [
        "QTY_list_2 = []\n",
        "n_2 = int(input(\"Enter the list size \"))\n",
        "\n",
        "print(\"\\n\")\n",
        "for i in range(0, n_2):\n",
        "    print(\"Enter number at index\", i, )\n",
        "    item = int(input())\n",
        "    QTY_list_2.append(item)\n",
        "print(\"User list is \", QTY_list_2)"
      ],
      "metadata": {
        "colab": {
          "base_uri": "https://localhost:8080/"
        },
        "id": "LBxB8i0w7QDV",
        "outputId": "efb8d176-287f-40d2-e638-c07419975de3"
      },
      "execution_count": null,
      "outputs": [
        {
          "output_type": "stream",
          "name": "stdout",
          "text": [
            "Enter the list size 6\n",
            "\n",
            "\n",
            "Enter number at index 0\n",
            "1\n",
            "Enter number at index 1\n",
            "1\n",
            "Enter number at index 2\n",
            "1\n",
            "Enter number at index 3\n",
            "1\n",
            "Enter number at index 4\n",
            "2\n",
            "Enter number at index 5\n",
            "12\n",
            "User list is  [1, 1, 1, 1, 2, 12]\n"
          ]
        }
      ]
    },
    {
      "cell_type": "code",
      "source": [
        "QTY_list_2"
      ],
      "metadata": {
        "colab": {
          "base_uri": "https://localhost:8080/"
        },
        "id": "PS06-otu7hCG",
        "outputId": "fe888a6f-81c3-4317-88c2-667af8d0ca65"
      },
      "execution_count": null,
      "outputs": [
        {
          "output_type": "execute_result",
          "data": {
            "text/plain": [
              "[1, 1, 1, 1, 2, 12]"
            ]
          },
          "metadata": {},
          "execution_count": 627
        }
      ]
    },
    {
      "cell_type": "markdown",
      "source": [
        "# Quantity List Creation for Table 3"
      ],
      "metadata": {
        "id": "9TjNUEgL7qG5"
      }
    },
    {
      "cell_type": "code",
      "source": [
        "QTY_list_3 = []\n",
        "n_3 = int(input(\"Enter the list size \"))\n",
        "\n",
        "print(\"\\n\")\n",
        "for i in range(0, n_3):\n",
        "    print(\"Enter number at index\", i, )\n",
        "    item = int(input())\n",
        "    QTY_list_3.append(item)\n",
        "print(\"User list is \", QTY_list_3)"
      ],
      "metadata": {
        "colab": {
          "base_uri": "https://localhost:8080/"
        },
        "id": "EwT3e0MZ7xub",
        "outputId": "d0829e8c-97cc-4402-c608-c1b729a96cfd"
      },
      "execution_count": null,
      "outputs": [
        {
          "output_type": "stream",
          "name": "stdout",
          "text": [
            "Enter the list size 5\n",
            "\n",
            "\n",
            "Enter number at index 0\n",
            "1\n",
            "Enter number at index 1\n",
            "1\n",
            "Enter number at index 2\n",
            "1\n",
            "Enter number at index 3\n",
            "1\n",
            "Enter number at index 4\n",
            "1\n",
            "User list is  [1, 1, 1, 1, 1]\n"
          ]
        }
      ]
    },
    {
      "cell_type": "code",
      "source": [
        "QTY_list_3"
      ],
      "metadata": {
        "colab": {
          "base_uri": "https://localhost:8080/"
        },
        "id": "bSbQOyOV8mHZ",
        "outputId": "4098f3f9-b8c2-49c3-cf25-4230f23d848e"
      },
      "execution_count": null,
      "outputs": [
        {
          "output_type": "execute_result",
          "data": {
            "text/plain": [
              "[1, 1, 1, 1, 1]"
            ]
          },
          "metadata": {},
          "execution_count": 629
        }
      ]
    },
    {
      "cell_type": "markdown",
      "source": [
        "# Quantity List Creation for Table 4"
      ],
      "metadata": {
        "id": "CiNwByww8zQk"
      }
    },
    {
      "cell_type": "code",
      "source": [
        "QTY_list_4 = []\n",
        "n_4 = int(input(\"Enter the list size \"))\n",
        "\n",
        "print(\"\\n\")\n",
        "for i in range(0, n_4):\n",
        "    print(\"Enter number at index\", i, )\n",
        "    item = int(input())\n",
        "    QTY_list_4.append(item)\n",
        "print(\"User list is \", QTY_list_4)"
      ],
      "metadata": {
        "colab": {
          "base_uri": "https://localhost:8080/"
        },
        "id": "9S0kv1IG82gn",
        "outputId": "f2d2ec18-5657-413a-cb17-723ea2152c9f"
      },
      "execution_count": null,
      "outputs": [
        {
          "output_type": "stream",
          "name": "stdout",
          "text": [
            "Enter the list size 4\n",
            "\n",
            "\n",
            "Enter number at index 0\n",
            "1\n",
            "Enter number at index 1\n",
            "1\n",
            "Enter number at index 2\n",
            "8\n",
            "Enter number at index 3\n",
            "8\n",
            "User list is  [1, 1, 8, 8]\n"
          ]
        }
      ]
    },
    {
      "cell_type": "code",
      "source": [
        "QTY_list_4"
      ],
      "metadata": {
        "colab": {
          "base_uri": "https://localhost:8080/"
        },
        "id": "_hmEFMwY9ve9",
        "outputId": "20aaf0dd-3d97-4203-a182-44a3b799b558"
      },
      "execution_count": null,
      "outputs": [
        {
          "output_type": "execute_result",
          "data": {
            "text/plain": [
              "[1, 1, 8, 8]"
            ]
          },
          "metadata": {},
          "execution_count": 631
        }
      ]
    },
    {
      "cell_type": "markdown",
      "source": [
        "# Quantity List Creation for Table 5"
      ],
      "metadata": {
        "id": "dOdnR9fJ9zAL"
      }
    },
    {
      "cell_type": "code",
      "source": [
        "QTY_list_5 = []\n",
        "n_5 = int(input(\"Enter the list size \"))\n",
        "\n",
        "print(\"\\n\")\n",
        "for i in range(0, n_5):\n",
        "    print(\"Enter number at index\", i, )\n",
        "    item = int(input())\n",
        "    QTY_list_5.append(item)\n",
        "print(\"User list is \", QTY_list_5)"
      ],
      "metadata": {
        "colab": {
          "base_uri": "https://localhost:8080/"
        },
        "id": "V4nj0jqC-BAp",
        "outputId": "ad68e947-8989-4e42-8060-f82144c7c3e5"
      },
      "execution_count": null,
      "outputs": [
        {
          "output_type": "stream",
          "name": "stdout",
          "text": [
            "Enter the list size 12\n",
            "\n",
            "\n",
            "Enter number at index 0\n",
            "1\n",
            "Enter number at index 1\n",
            "8\n",
            "Enter number at index 2\n",
            "1\n",
            "Enter number at index 3\n",
            "2\n",
            "Enter number at index 4\n",
            "1\n",
            "Enter number at index 5\n",
            "1\n",
            "Enter number at index 6\n",
            "1\n",
            "Enter number at index 7\n",
            "1\n",
            "Enter number at index 8\n",
            "1\n",
            "Enter number at index 9\n",
            "1\n",
            "Enter number at index 10\n",
            "6\n",
            "Enter number at index 11\n",
            "2\n",
            "User list is  [1, 8, 1, 2, 1, 1, 1, 1, 1, 1, 6, 2]\n"
          ]
        }
      ]
    },
    {
      "cell_type": "code",
      "source": [
        "QTY_list_5"
      ],
      "metadata": {
        "colab": {
          "base_uri": "https://localhost:8080/"
        },
        "id": "HXSCOyvJ-gCx",
        "outputId": "76a04783-a14e-4200-fdb6-611707c6c28c"
      },
      "execution_count": null,
      "outputs": [
        {
          "output_type": "execute_result",
          "data": {
            "text/plain": [
              "[1, 8, 1, 2, 1, 1, 1, 1, 1, 1, 6, 2]"
            ]
          },
          "metadata": {},
          "execution_count": 633
        }
      ]
    },
    {
      "cell_type": "markdown",
      "source": [
        "# Quantity List Creation for Table 6"
      ],
      "metadata": {
        "id": "dzxy2GMa-kFb"
      }
    },
    {
      "cell_type": "code",
      "source": [
        "QTY_list_6 = []\n",
        "n_6 = int(input(\"Enter the list size \"))\n",
        "\n",
        "print(\"\\n\")\n",
        "for i in range(0, n_6):\n",
        "    print(\"Enter number at index\", i, )\n",
        "    item = int(input())\n",
        "    QTY_list_6.append(item)\n",
        "print(\"User list is \", QTY_list_6)"
      ],
      "metadata": {
        "colab": {
          "base_uri": "https://localhost:8080/"
        },
        "id": "bGVYmMkA_Vfx",
        "outputId": "7256ce83-71fa-4618-9286-415c0801307c"
      },
      "execution_count": null,
      "outputs": [
        {
          "output_type": "stream",
          "name": "stdout",
          "text": [
            "Enter the list size 1\n",
            "\n",
            "\n",
            "Enter number at index 0\n",
            "1\n",
            "User list is  [1]\n"
          ]
        }
      ]
    },
    {
      "cell_type": "code",
      "source": [
        "QTY_list_6"
      ],
      "metadata": {
        "colab": {
          "base_uri": "https://localhost:8080/"
        },
        "id": "ElSnZEJ1BQeK",
        "outputId": "d842e614-0ab2-48ca-8576-cf06fd8163ae"
      },
      "execution_count": null,
      "outputs": [
        {
          "output_type": "execute_result",
          "data": {
            "text/plain": [
              "[1]"
            ]
          },
          "metadata": {},
          "execution_count": 635
        }
      ]
    },
    {
      "cell_type": "markdown",
      "source": [
        "# Quantity List Creation for Table 7"
      ],
      "metadata": {
        "id": "QbopzONuBW1w"
      }
    },
    {
      "cell_type": "code",
      "source": [
        "QTY_list_7 = []\n",
        "n_7 = int(input(\"Enter the list size \"))\n",
        "\n",
        "print(\"\\n\")\n",
        "for i in range(0, n_7):\n",
        "    print(\"Enter number at index\", i, )\n",
        "    item = int(input())\n",
        "    QTY_list_7.append(item)\n",
        "print(\"User list is \", QTY_list_7)"
      ],
      "metadata": {
        "colab": {
          "base_uri": "https://localhost:8080/"
        },
        "id": "RWyu8wnaBbJl",
        "outputId": "331ba4d0-eccc-468e-a34d-b2a447942a9e"
      },
      "execution_count": null,
      "outputs": [
        {
          "output_type": "stream",
          "name": "stdout",
          "text": [
            "Enter the list size 2\n",
            "\n",
            "\n",
            "Enter number at index 0\n",
            "1\n",
            "Enter number at index 1\n",
            "2\n",
            "User list is  [1, 2]\n"
          ]
        }
      ]
    },
    {
      "cell_type": "code",
      "source": [
        "QTY_list_7"
      ],
      "metadata": {
        "colab": {
          "base_uri": "https://localhost:8080/"
        },
        "id": "YkZVJQWTBrCh",
        "outputId": "0474a5fb-bfa5-4d9b-8ce7-690e68d71cfc"
      },
      "execution_count": null,
      "outputs": [
        {
          "output_type": "execute_result",
          "data": {
            "text/plain": [
              "[1, 2]"
            ]
          },
          "metadata": {},
          "execution_count": 637
        }
      ]
    },
    {
      "cell_type": "markdown",
      "source": [
        "# Quantity List Creation for Table 8"
      ],
      "metadata": {
        "id": "ZFWZdTacBu6k"
      }
    },
    {
      "cell_type": "code",
      "source": [
        "QTY_list_8 = []\n",
        "n_8 = int(input(\"Enter the list size \"))\n",
        "\n",
        "print(\"\\n\")\n",
        "for i in range(0, n_8):\n",
        "    print(\"Enter number at index\", i, )\n",
        "    item = int(input())\n",
        "    QTY_list_8.append(item)\n",
        "print(\"User list is \", QTY_list_8)"
      ],
      "metadata": {
        "colab": {
          "base_uri": "https://localhost:8080/"
        },
        "id": "FiSLU7wZBx4i",
        "outputId": "829b83c1-501c-49ed-8ba4-718a011a3300"
      },
      "execution_count": null,
      "outputs": [
        {
          "output_type": "stream",
          "name": "stdout",
          "text": [
            "Enter the list size 2\n",
            "\n",
            "\n",
            "Enter number at index 0\n",
            "1\n",
            "Enter number at index 1\n",
            "1\n",
            "User list is  [1, 1]\n"
          ]
        }
      ]
    },
    {
      "cell_type": "code",
      "source": [
        "QTY_list_8"
      ],
      "metadata": {
        "colab": {
          "base_uri": "https://localhost:8080/"
        },
        "id": "BFhriWvzCBTw",
        "outputId": "13c9b27c-599b-41a1-b2c5-30d1a006e8d8"
      },
      "execution_count": null,
      "outputs": [
        {
          "output_type": "execute_result",
          "data": {
            "text/plain": [
              "[1, 1]"
            ]
          },
          "metadata": {},
          "execution_count": 639
        }
      ]
    },
    {
      "cell_type": "markdown",
      "source": [
        "# Quantity List Creation for Table 9"
      ],
      "metadata": {
        "id": "N4xhs1yaCEe2"
      }
    },
    {
      "cell_type": "code",
      "source": [
        "QTY_list_9 = []\n",
        "n_9 = int(input(\"Enter the list size \"))\n",
        "\n",
        "print(\"\\n\")\n",
        "for i in range(0, n_9):\n",
        "    print(\"Enter number at index\", i, )\n",
        "    item = int(input())\n",
        "    QTY_list_9.append(item)\n",
        "print(\"User list is \", QTY_list_9)"
      ],
      "metadata": {
        "colab": {
          "base_uri": "https://localhost:8080/"
        },
        "id": "MhjwUXxwCHR_",
        "outputId": "a1eb7253-d396-494e-bd40-926d8a021de4"
      },
      "execution_count": null,
      "outputs": [
        {
          "output_type": "stream",
          "name": "stdout",
          "text": [
            "Enter the list size 3\n",
            "\n",
            "\n",
            "Enter number at index 0\n",
            "1\n",
            "Enter number at index 1\n",
            "1\n",
            "Enter number at index 2\n",
            "2\n",
            "User list is  [1, 1, 2]\n"
          ]
        }
      ]
    },
    {
      "cell_type": "code",
      "source": [
        "QTY_list_9"
      ],
      "metadata": {
        "colab": {
          "base_uri": "https://localhost:8080/"
        },
        "id": "VB3lbmjaCVvV",
        "outputId": "1b81902e-52a9-47f7-836f-b7f781fc48af"
      },
      "execution_count": null,
      "outputs": [
        {
          "output_type": "execute_result",
          "data": {
            "text/plain": [
              "[1, 1, 2]"
            ]
          },
          "metadata": {},
          "execution_count": 641
        }
      ]
    },
    {
      "cell_type": "markdown",
      "source": [
        "# Quantity List Creation for Table 10"
      ],
      "metadata": {
        "id": "qUIw1hq-CY8M"
      }
    },
    {
      "cell_type": "code",
      "source": [
        "QTY_list_10 = []\n",
        "n_10 = int(input(\"Enter the list size \"))\n",
        "\n",
        "print(\"\\n\")\n",
        "for i in range(0, n_10):\n",
        "    print(\"Enter number at index\", i, )\n",
        "    item = int(input())\n",
        "    QTY_list_10.append(item)\n",
        "print(\"User list is \", QTY_list_10)"
      ],
      "metadata": {
        "colab": {
          "base_uri": "https://localhost:8080/"
        },
        "id": "qAp8pAD3Cb0f",
        "outputId": "c2b7dd1e-be8b-401b-a2e4-4e9cc585562a"
      },
      "execution_count": null,
      "outputs": [
        {
          "output_type": "stream",
          "name": "stdout",
          "text": [
            "Enter the list size 13\n",
            "\n",
            "\n",
            "Enter number at index 0\n",
            "1\n",
            "Enter number at index 1\n",
            "1\n",
            "Enter number at index 2\n",
            "1\n",
            "Enter number at index 3\n",
            "1\n",
            "Enter number at index 4\n",
            "2\n",
            "Enter number at index 5\n",
            "2\n",
            "Enter number at index 6\n",
            "2\n",
            "Enter number at index 7\n",
            "1\n",
            "Enter number at index 8\n",
            "2\n",
            "Enter number at index 9\n",
            "2\n",
            "Enter number at index 10\n",
            "12\n",
            "Enter number at index 11\n",
            "6\n",
            "Enter number at index 12\n",
            "6\n",
            "User list is  [1, 1, 1, 1, 2, 2, 2, 1, 2, 2, 12, 6, 6]\n"
          ]
        }
      ]
    },
    {
      "cell_type": "code",
      "source": [
        "QTY_list_10"
      ],
      "metadata": {
        "colab": {
          "base_uri": "https://localhost:8080/"
        },
        "id": "pbiadlqiDSit",
        "outputId": "2395635b-c441-49ce-d183-c246571e1c62"
      },
      "execution_count": null,
      "outputs": [
        {
          "output_type": "execute_result",
          "data": {
            "text/plain": [
              "[1, 1, 1, 1, 2, 2, 2, 1, 2, 2, 12, 6, 6]"
            ]
          },
          "metadata": {},
          "execution_count": 643
        }
      ]
    },
    {
      "cell_type": "markdown",
      "source": [
        "# ITEM List Creation for Table 1"
      ],
      "metadata": {
        "id": "BWTqIKqRDay0"
      }
    },
    {
      "cell_type": "code",
      "source": [
        "ITEM_list_1 = []\n",
        "ITEM_n_1 = int(input(\"Enter the list size \"))\n",
        "\n",
        "print(\"\\n\")\n",
        "for i in range(0, ITEM_n_1):\n",
        "    print(\"Enter number at index\", i, )\n",
        "    item = int(input())\n",
        "    ITEM_list_1.append(item)\n",
        "print(\"User list is \", ITEM_list_1)"
      ],
      "metadata": {
        "colab": {
          "base_uri": "https://localhost:8080/"
        },
        "id": "dfn-H6biDxcP",
        "outputId": "7d605ead-5c1a-48d5-bbc0-e7e95730942e"
      },
      "execution_count": null,
      "outputs": [
        {
          "output_type": "stream",
          "name": "stdout",
          "text": [
            "Enter the list size 10\n",
            "\n",
            "\n",
            "Enter number at index 0\n",
            "3\n",
            "Enter number at index 1\n",
            "6\n",
            "Enter number at index 2\n",
            "7\n",
            "Enter number at index 3\n",
            "8\n",
            "Enter number at index 4\n",
            "9\n",
            "Enter number at index 5\n",
            "10\n",
            "Enter number at index 6\n",
            "11\n",
            "Enter number at index 7\n",
            "12\n",
            "Enter number at index 8\n",
            "13\n",
            "Enter number at index 9\n",
            "14\n",
            "User list is  [3, 6, 7, 8, 9, 10, 11, 12, 13, 14]\n"
          ]
        }
      ]
    },
    {
      "cell_type": "code",
      "source": [
        "ITEM_list_1"
      ],
      "metadata": {
        "colab": {
          "base_uri": "https://localhost:8080/"
        },
        "id": "7ivRxjP5ErAq",
        "outputId": "672071ca-1abe-49dd-ea1f-f3cd477d9cc1"
      },
      "execution_count": null,
      "outputs": [
        {
          "output_type": "execute_result",
          "data": {
            "text/plain": [
              "[3, 6, 7, 8, 9, 10, 11, 12, 13, 14]"
            ]
          },
          "metadata": {},
          "execution_count": 645
        }
      ]
    },
    {
      "cell_type": "markdown",
      "source": [
        "# ITEM List Creation for Table 2"
      ],
      "metadata": {
        "id": "mjPdRQEFFCiM"
      }
    },
    {
      "cell_type": "code",
      "source": [
        "ITEM_list_2 = []\n",
        "ITEM_n_2 = int(input(\"Enter the list size \"))\n",
        "\n",
        "print(\"\\n\")\n",
        "for i in range(0, ITEM_n_2):\n",
        "    print(\"Enter number at index\", i, )\n",
        "    item = int(input())\n",
        "    ITEM_list_2.append(item)\n",
        "print(\"User list is \", ITEM_list_2)"
      ],
      "metadata": {
        "colab": {
          "base_uri": "https://localhost:8080/"
        },
        "id": "RREHDjVQFFfU",
        "outputId": "90eace83-fc3f-465b-d9a9-f4751f68d023"
      },
      "execution_count": null,
      "outputs": [
        {
          "output_type": "stream",
          "name": "stdout",
          "text": [
            "Enter the list size 6\n",
            "\n",
            "\n",
            "Enter number at index 0\n",
            "1\n",
            "Enter number at index 1\n",
            "2\n",
            "Enter number at index 2\n",
            "3\n",
            "Enter number at index 3\n",
            "4\n",
            "Enter number at index 4\n",
            "5\n",
            "Enter number at index 5\n",
            "6\n",
            "User list is  [1, 2, 3, 4, 5, 6]\n"
          ]
        }
      ]
    },
    {
      "cell_type": "code",
      "source": [
        "ITEM_list_2"
      ],
      "metadata": {
        "colab": {
          "base_uri": "https://localhost:8080/"
        },
        "id": "fKlJaKMKFbhX",
        "outputId": "e21a866e-e026-4495-d248-966a6888d992"
      },
      "execution_count": null,
      "outputs": [
        {
          "output_type": "execute_result",
          "data": {
            "text/plain": [
              "[1, 2, 3, 4, 5, 6]"
            ]
          },
          "metadata": {},
          "execution_count": 647
        }
      ]
    },
    {
      "cell_type": "markdown",
      "source": [
        "# ITEM List Creation for Table 3"
      ],
      "metadata": {
        "id": "MGbundWwFmGI"
      }
    },
    {
      "cell_type": "code",
      "source": [
        "ITEM_list_3 = []\n",
        "ITEM_n_3 = int(input(\"Enter the list size \"))\n",
        "\n",
        "print(\"\\n\")\n",
        "for i in range(0, ITEM_n_3):\n",
        "    print(\"Enter number at index\", i, )\n",
        "    item = int(input())\n",
        "    ITEM_list_3.append(item)\n",
        "print(\"User list is \", ITEM_list_3)"
      ],
      "metadata": {
        "colab": {
          "base_uri": "https://localhost:8080/"
        },
        "id": "gyHGxnhYFqHd",
        "outputId": "a791e45c-3bdf-4226-eb95-c594adb304cc"
      },
      "execution_count": null,
      "outputs": [
        {
          "output_type": "stream",
          "name": "stdout",
          "text": [
            "Enter the list size 5\n",
            "\n",
            "\n",
            "Enter number at index 0\n",
            "1\n",
            "Enter number at index 1\n",
            "2\n",
            "Enter number at index 2\n",
            "3\n",
            "Enter number at index 3\n",
            "4\n",
            "Enter number at index 4\n",
            "5\n",
            "User list is  [1, 2, 3, 4, 5]\n"
          ]
        }
      ]
    },
    {
      "cell_type": "code",
      "source": [
        "ITEM_list_3"
      ],
      "metadata": {
        "colab": {
          "base_uri": "https://localhost:8080/"
        },
        "id": "eAZI0vC5F86X",
        "outputId": "0ea90ec5-2429-4302-dec9-7979f4ca2ff3"
      },
      "execution_count": null,
      "outputs": [
        {
          "output_type": "execute_result",
          "data": {
            "text/plain": [
              "[1, 2, 3, 4, 5]"
            ]
          },
          "metadata": {},
          "execution_count": 649
        }
      ]
    },
    {
      "cell_type": "markdown",
      "source": [
        "# ITEM List Creation for Table 4"
      ],
      "metadata": {
        "id": "UboAFPWqGJgf"
      }
    },
    {
      "cell_type": "code",
      "source": [
        "ITEM_list_4 = []\n",
        "ITEM_n_4 = int(input(\"Enter the list size \"))\n",
        "\n",
        "print(\"\\n\")\n",
        "for i in range(0, ITEM_n_4):\n",
        "    print(\"Enter number at index\", i, )\n",
        "    item = int(input())\n",
        "    ITEM_list_4.append(item)\n",
        "print(\"User list is \", ITEM_list_4)"
      ],
      "metadata": {
        "colab": {
          "base_uri": "https://localhost:8080/"
        },
        "id": "b32C0Ca6GNJv",
        "outputId": "9bdae681-1af5-4887-d245-4a653e3fb447"
      },
      "execution_count": null,
      "outputs": [
        {
          "output_type": "stream",
          "name": "stdout",
          "text": [
            "Enter the list size 4\n",
            "\n",
            "\n",
            "Enter number at index 0\n",
            "1\n",
            "Enter number at index 1\n",
            "2\n",
            "Enter number at index 2\n",
            "3\n",
            "Enter number at index 3\n",
            "4\n",
            "User list is  [1, 2, 3, 4]\n"
          ]
        }
      ]
    },
    {
      "cell_type": "code",
      "source": [
        "ITEM_list_4"
      ],
      "metadata": {
        "colab": {
          "base_uri": "https://localhost:8080/"
        },
        "id": "GIn41qH2GeUh",
        "outputId": "36a91a9d-5e2c-4f8b-f4a5-35ba18684ae5"
      },
      "execution_count": null,
      "outputs": [
        {
          "output_type": "execute_result",
          "data": {
            "text/plain": [
              "[1, 2, 3, 4]"
            ]
          },
          "metadata": {},
          "execution_count": 651
        }
      ]
    },
    {
      "cell_type": "markdown",
      "source": [
        "# ITEM List Creation for Table 5"
      ],
      "metadata": {
        "id": "8rLZxfPNGicQ"
      }
    },
    {
      "cell_type": "code",
      "source": [
        "ITEM_list_5 = []\n",
        "ITEM_n_5 = int(input(\"Enter the list size \"))\n",
        "\n",
        "print(\"\\n\")\n",
        "for i in range(0, ITEM_n_5):\n",
        "    print(\"Enter number at index\", i, )\n",
        "    item = int(input())\n",
        "    ITEM_list_5.append(item)\n",
        "print(\"User list is \", ITEM_list_5)"
      ],
      "metadata": {
        "colab": {
          "base_uri": "https://localhost:8080/"
        },
        "id": "HcgifIEcGliy",
        "outputId": "84d42ae3-42fa-4eed-8592-3788f130bf82"
      },
      "execution_count": null,
      "outputs": [
        {
          "output_type": "stream",
          "name": "stdout",
          "text": [
            "Enter the list size 12\n",
            "\n",
            "\n",
            "Enter number at index 0\n",
            "1\n",
            "Enter number at index 1\n",
            "2\n",
            "Enter number at index 2\n",
            "3\n",
            "Enter number at index 3\n",
            "4\n",
            "Enter number at index 4\n",
            "5\n",
            "Enter number at index 5\n",
            "6\n",
            "Enter number at index 6\n",
            "7\n",
            "Enter number at index 7\n",
            "8\n",
            "Enter number at index 8\n",
            "9\n",
            "Enter number at index 9\n",
            "10\n",
            "Enter number at index 10\n",
            "11\n",
            "Enter number at index 11\n",
            "12\n",
            "User list is  [1, 2, 3, 4, 5, 6, 7, 8, 9, 10, 11, 12]\n"
          ]
        }
      ]
    },
    {
      "cell_type": "code",
      "source": [
        "ITEM_list_5"
      ],
      "metadata": {
        "colab": {
          "base_uri": "https://localhost:8080/"
        },
        "id": "OLN94aRjHDDL",
        "outputId": "222a9e6a-377d-413b-b424-96538cf30bf3"
      },
      "execution_count": null,
      "outputs": [
        {
          "output_type": "execute_result",
          "data": {
            "text/plain": [
              "[1, 2, 3, 4, 5, 6, 7, 8, 9, 10, 11, 12]"
            ]
          },
          "metadata": {},
          "execution_count": 653
        }
      ]
    },
    {
      "cell_type": "markdown",
      "source": [
        "# ITEM List Creation for Table 6"
      ],
      "metadata": {
        "id": "VNROYrsdHHC5"
      }
    },
    {
      "cell_type": "code",
      "source": [
        "ITEM_list_6 = []\n",
        "ITEM_n_6 = int(input(\"Enter the list size \"))\n",
        "\n",
        "print(\"\\n\")\n",
        "for i in range(0, ITEM_n_6):\n",
        "    print(\"Enter number at index\", i, )\n",
        "    item = int(input())\n",
        "    ITEM_list_6.append(item)\n",
        "print(\"User list is \", ITEM_list_6)"
      ],
      "metadata": {
        "colab": {
          "base_uri": "https://localhost:8080/"
        },
        "id": "u2p0-545HP-y",
        "outputId": "94352a61-abcc-4fb8-c7b1-173898387816"
      },
      "execution_count": null,
      "outputs": [
        {
          "output_type": "stream",
          "name": "stdout",
          "text": [
            "Enter the list size 1\n",
            "\n",
            "\n",
            "Enter number at index 0\n",
            "1\n",
            "User list is  [1]\n"
          ]
        }
      ]
    },
    {
      "cell_type": "code",
      "source": [
        "ITEM_list_6"
      ],
      "metadata": {
        "colab": {
          "base_uri": "https://localhost:8080/"
        },
        "id": "4Zffq08RHfF_",
        "outputId": "688d24ef-d860-42f8-d5bb-c154668b0d4b"
      },
      "execution_count": null,
      "outputs": [
        {
          "output_type": "execute_result",
          "data": {
            "text/plain": [
              "[1]"
            ]
          },
          "metadata": {},
          "execution_count": 655
        }
      ]
    },
    {
      "cell_type": "markdown",
      "source": [
        "# ITEM List Creation for Table 7"
      ],
      "metadata": {
        "id": "ip-pH0kwHlXG"
      }
    },
    {
      "cell_type": "code",
      "source": [
        "ITEM_list_7 = []\n",
        "ITEM_n_7 = int(input(\"Enter the list size \"))\n",
        "\n",
        "print(\"\\n\")\n",
        "for i in range(0, ITEM_n_7):\n",
        "    print(\"Enter number at index\", i, )\n",
        "    item = int(input())\n",
        "    ITEM_list_7.append(item)\n",
        "print(\"User list is \", ITEM_list_7)"
      ],
      "metadata": {
        "colab": {
          "base_uri": "https://localhost:8080/"
        },
        "id": "kQmD_-V9HoUv",
        "outputId": "7eccba16-b9fd-4f71-abb5-cc18bfa3d985"
      },
      "execution_count": null,
      "outputs": [
        {
          "output_type": "stream",
          "name": "stdout",
          "text": [
            "Enter the list size 2\n",
            "\n",
            "\n",
            "Enter number at index 0\n",
            "1\n",
            "Enter number at index 1\n",
            "2\n",
            "User list is  [1, 2]\n"
          ]
        }
      ]
    },
    {
      "cell_type": "code",
      "source": [
        "ITEM_list_7"
      ],
      "metadata": {
        "colab": {
          "base_uri": "https://localhost:8080/"
        },
        "id": "VXN2kM6mH7jL",
        "outputId": "2211e677-689b-4ee1-88d0-937bce7ceb8a"
      },
      "execution_count": null,
      "outputs": [
        {
          "output_type": "execute_result",
          "data": {
            "text/plain": [
              "[1, 2]"
            ]
          },
          "metadata": {},
          "execution_count": 657
        }
      ]
    },
    {
      "cell_type": "markdown",
      "source": [
        "# ITEM List Creation for Table 8"
      ],
      "metadata": {
        "id": "0_Th7URyIEKX"
      }
    },
    {
      "cell_type": "code",
      "source": [
        "ITEM_list_8 = []\n",
        "ITEM_n_8 = int(input(\"Enter the list size \"))\n",
        "\n",
        "print(\"\\n\")\n",
        "for i in range(0, ITEM_n_8):\n",
        "    print(\"Enter number at index\", i, )\n",
        "    item = int(input())\n",
        "    ITEM_list_8.append(item)\n",
        "print(\"User list is \", ITEM_list_8)"
      ],
      "metadata": {
        "colab": {
          "base_uri": "https://localhost:8080/"
        },
        "id": "TPHfYhhjIHPm",
        "outputId": "404b5ef5-cb74-485a-9a0a-8ce1692193d7"
      },
      "execution_count": null,
      "outputs": [
        {
          "output_type": "stream",
          "name": "stdout",
          "text": [
            "Enter the list size 2\n",
            "\n",
            "\n",
            "Enter number at index 0\n",
            "1\n",
            "Enter number at index 1\n",
            "2\n",
            "User list is  [1, 2]\n"
          ]
        }
      ]
    },
    {
      "cell_type": "code",
      "source": [
        "ITEM_list_8"
      ],
      "metadata": {
        "colab": {
          "base_uri": "https://localhost:8080/"
        },
        "id": "IIw2FQsEIXsO",
        "outputId": "664709bc-97ca-4cee-814d-8edfb56bfabe"
      },
      "execution_count": null,
      "outputs": [
        {
          "output_type": "execute_result",
          "data": {
            "text/plain": [
              "[1, 2]"
            ]
          },
          "metadata": {},
          "execution_count": 659
        }
      ]
    },
    {
      "cell_type": "markdown",
      "source": [
        "# ITEM List Creation for Table 9"
      ],
      "metadata": {
        "id": "kI48eF7yIbnI"
      }
    },
    {
      "cell_type": "code",
      "source": [
        "ITEM_list_9 = []\n",
        "ITEM_n_9 = int(input(\"Enter the list size \"))\n",
        "\n",
        "print(\"\\n\")\n",
        "for i in range(0, ITEM_n_9):\n",
        "    print(\"Enter number at index\", i, )\n",
        "    item = int(input())\n",
        "    ITEM_list_9.append(item)\n",
        "print(\"User list is \", ITEM_list_9)"
      ],
      "metadata": {
        "colab": {
          "base_uri": "https://localhost:8080/"
        },
        "id": "xNjGqvXoIe0P",
        "outputId": "6a65dc30-bd76-49c7-9327-b92db3f9e2f3"
      },
      "execution_count": null,
      "outputs": [
        {
          "output_type": "stream",
          "name": "stdout",
          "text": [
            "Enter the list size 3\n",
            "\n",
            "\n",
            "Enter number at index 0\n",
            "1\n",
            "Enter number at index 1\n",
            "2\n",
            "Enter number at index 2\n",
            "3\n",
            "User list is  [1, 2, 3]\n"
          ]
        }
      ]
    },
    {
      "cell_type": "code",
      "source": [
        "ITEM_list_9"
      ],
      "metadata": {
        "colab": {
          "base_uri": "https://localhost:8080/"
        },
        "id": "luhc7T45ItDH",
        "outputId": "17ead7c1-1e98-43d8-dedd-f25bce2d2813"
      },
      "execution_count": null,
      "outputs": [
        {
          "output_type": "execute_result",
          "data": {
            "text/plain": [
              "[1, 2, 3]"
            ]
          },
          "metadata": {},
          "execution_count": 661
        }
      ]
    },
    {
      "cell_type": "markdown",
      "source": [
        "# ITEM List Creation for Table 10"
      ],
      "metadata": {
        "id": "M1zmB2vkI0Cb"
      }
    },
    {
      "cell_type": "code",
      "source": [
        "ITEM_list_10 = []\n",
        "ITEM_n_10 = int(input(\"Enter the list size \"))\n",
        "\n",
        "print(\"\\n\")\n",
        "for i in range(0, ITEM_n_10):\n",
        "    print(\"Enter number at index\", i, )\n",
        "    item = int(input())\n",
        "    ITEM_list_10.append(item)\n",
        "print(\"User list is \", ITEM_list_10)"
      ],
      "metadata": {
        "colab": {
          "base_uri": "https://localhost:8080/"
        },
        "id": "ziUQvcfxI3Y6",
        "outputId": "eb9f7e06-49bd-448f-acca-7642c3852dac"
      },
      "execution_count": null,
      "outputs": [
        {
          "output_type": "stream",
          "name": "stdout",
          "text": [
            "Enter the list size 13\n",
            "\n",
            "\n",
            "Enter number at index 0\n",
            "1\n",
            "Enter number at index 1\n",
            "2\n",
            "Enter number at index 2\n",
            "3\n",
            "Enter number at index 3\n",
            "4\n",
            "Enter number at index 4\n",
            "5\n",
            "Enter number at index 5\n",
            "6\n",
            "Enter number at index 6\n",
            "7\n",
            "Enter number at index 7\n",
            "8\n",
            "Enter number at index 8\n",
            "12\n",
            "Enter number at index 9\n",
            "13\n",
            "Enter number at index 10\n",
            "14\n",
            "Enter number at index 11\n",
            "15\n",
            "Enter number at index 12\n",
            "16\n",
            "User list is  [1, 2, 3, 4, 5, 6, 7, 8, 12, 13, 14, 15, 16]\n"
          ]
        }
      ]
    },
    {
      "cell_type": "code",
      "source": [
        "ITEM_list_10"
      ],
      "metadata": {
        "colab": {
          "base_uri": "https://localhost:8080/"
        },
        "id": "fCPoGa9eJXA8",
        "outputId": "16d24411-81ff-4cbd-a60a-c7f0ab4344d7"
      },
      "execution_count": null,
      "outputs": [
        {
          "output_type": "execute_result",
          "data": {
            "text/plain": [
              "[1, 2, 3, 4, 5, 6, 7, 8, 12, 13, 14, 15, 16]"
            ]
          },
          "metadata": {},
          "execution_count": 663
        }
      ]
    },
    {
      "cell_type": "markdown",
      "source": [
        "# Creation of Dataframe"
      ],
      "metadata": {
        "id": "_cN85COtJeIv"
      }
    },
    {
      "cell_type": "code",
      "source": [
        "import pandas as pd\n",
        "\n",
        "list(zip(list_partnumber_1_updated,partname_1,QTY_list_1,ITEM_list_1))\n",
        "df_01 = pd.DataFrame(list(zip(list_partnumber_1_updated,partname_1,QTY_list_1,ITEM_list_1)),columns =['Part Number', 'Part Name','QTY','ITEM'])\n",
        "df_01\n"
      ],
      "metadata": {
        "colab": {
          "base_uri": "https://localhost:8080/",
          "height": 363
        },
        "id": "gUlQIsc_Jiid",
        "outputId": "46154a68-2725-4508-f726-5367ad234de2"
      },
      "execution_count": null,
      "outputs": [
        {
          "output_type": "execute_result",
          "data": {
            "text/plain": [
              "  Part Number               Part Name  QTY  ITEM\n",
              "0   333/Y1461   Rod Connecting Engine    1     3\n",
              "1   333/Y2302    Screw Connecting Rod    2     6\n",
              "2   333/Y2494                    Bush    1     7\n",
              "3   333/Y1509           Piston Engine    6     8\n",
              "4   333/Y2436              Pin Piston    6     9\n",
              "5   333/Y2471  Bearing Connecting Rod   12    10\n",
              "6   333/Y2379          Ring Retaining   12    11\n",
              "7   333/Y2313        Ring Compression    6    12\n",
              "8   333/Y2369        Ring Compression    6    13\n",
              "9   333/Y1457        Ring Compression    6    14"
            ],
            "text/html": [
              "\n",
              "  <div id=\"df-b37e9051-c105-40d7-b07c-18a91255461b\">\n",
              "    <div class=\"colab-df-container\">\n",
              "      <div>\n",
              "<style scoped>\n",
              "    .dataframe tbody tr th:only-of-type {\n",
              "        vertical-align: middle;\n",
              "    }\n",
              "\n",
              "    .dataframe tbody tr th {\n",
              "        vertical-align: top;\n",
              "    }\n",
              "\n",
              "    .dataframe thead th {\n",
              "        text-align: right;\n",
              "    }\n",
              "</style>\n",
              "<table border=\"1\" class=\"dataframe\">\n",
              "  <thead>\n",
              "    <tr style=\"text-align: right;\">\n",
              "      <th></th>\n",
              "      <th>Part Number</th>\n",
              "      <th>Part Name</th>\n",
              "      <th>QTY</th>\n",
              "      <th>ITEM</th>\n",
              "    </tr>\n",
              "  </thead>\n",
              "  <tbody>\n",
              "    <tr>\n",
              "      <th>0</th>\n",
              "      <td>333/Y1461</td>\n",
              "      <td>Rod Connecting Engine</td>\n",
              "      <td>1</td>\n",
              "      <td>3</td>\n",
              "    </tr>\n",
              "    <tr>\n",
              "      <th>1</th>\n",
              "      <td>333/Y2302</td>\n",
              "      <td>Screw Connecting Rod</td>\n",
              "      <td>2</td>\n",
              "      <td>6</td>\n",
              "    </tr>\n",
              "    <tr>\n",
              "      <th>2</th>\n",
              "      <td>333/Y2494</td>\n",
              "      <td>Bush</td>\n",
              "      <td>1</td>\n",
              "      <td>7</td>\n",
              "    </tr>\n",
              "    <tr>\n",
              "      <th>3</th>\n",
              "      <td>333/Y1509</td>\n",
              "      <td>Piston Engine</td>\n",
              "      <td>6</td>\n",
              "      <td>8</td>\n",
              "    </tr>\n",
              "    <tr>\n",
              "      <th>4</th>\n",
              "      <td>333/Y2436</td>\n",
              "      <td>Pin Piston</td>\n",
              "      <td>6</td>\n",
              "      <td>9</td>\n",
              "    </tr>\n",
              "    <tr>\n",
              "      <th>5</th>\n",
              "      <td>333/Y2471</td>\n",
              "      <td>Bearing Connecting Rod</td>\n",
              "      <td>12</td>\n",
              "      <td>10</td>\n",
              "    </tr>\n",
              "    <tr>\n",
              "      <th>6</th>\n",
              "      <td>333/Y2379</td>\n",
              "      <td>Ring Retaining</td>\n",
              "      <td>12</td>\n",
              "      <td>11</td>\n",
              "    </tr>\n",
              "    <tr>\n",
              "      <th>7</th>\n",
              "      <td>333/Y2313</td>\n",
              "      <td>Ring Compression</td>\n",
              "      <td>6</td>\n",
              "      <td>12</td>\n",
              "    </tr>\n",
              "    <tr>\n",
              "      <th>8</th>\n",
              "      <td>333/Y2369</td>\n",
              "      <td>Ring Compression</td>\n",
              "      <td>6</td>\n",
              "      <td>13</td>\n",
              "    </tr>\n",
              "    <tr>\n",
              "      <th>9</th>\n",
              "      <td>333/Y1457</td>\n",
              "      <td>Ring Compression</td>\n",
              "      <td>6</td>\n",
              "      <td>14</td>\n",
              "    </tr>\n",
              "  </tbody>\n",
              "</table>\n",
              "</div>\n",
              "      <button class=\"colab-df-convert\" onclick=\"convertToInteractive('df-b37e9051-c105-40d7-b07c-18a91255461b')\"\n",
              "              title=\"Convert this dataframe to an interactive table.\"\n",
              "              style=\"display:none;\">\n",
              "        \n",
              "  <svg xmlns=\"http://www.w3.org/2000/svg\" height=\"24px\"viewBox=\"0 0 24 24\"\n",
              "       width=\"24px\">\n",
              "    <path d=\"M0 0h24v24H0V0z\" fill=\"none\"/>\n",
              "    <path d=\"M18.56 5.44l.94 2.06.94-2.06 2.06-.94-2.06-.94-.94-2.06-.94 2.06-2.06.94zm-11 1L8.5 8.5l.94-2.06 2.06-.94-2.06-.94L8.5 2.5l-.94 2.06-2.06.94zm10 10l.94 2.06.94-2.06 2.06-.94-2.06-.94-.94-2.06-.94 2.06-2.06.94z\"/><path d=\"M17.41 7.96l-1.37-1.37c-.4-.4-.92-.59-1.43-.59-.52 0-1.04.2-1.43.59L10.3 9.45l-7.72 7.72c-.78.78-.78 2.05 0 2.83L4 21.41c.39.39.9.59 1.41.59.51 0 1.02-.2 1.41-.59l7.78-7.78 2.81-2.81c.8-.78.8-2.07 0-2.86zM5.41 20L4 18.59l7.72-7.72 1.47 1.35L5.41 20z\"/>\n",
              "  </svg>\n",
              "      </button>\n",
              "      \n",
              "  <style>\n",
              "    .colab-df-container {\n",
              "      display:flex;\n",
              "      flex-wrap:wrap;\n",
              "      gap: 12px;\n",
              "    }\n",
              "\n",
              "    .colab-df-convert {\n",
              "      background-color: #E8F0FE;\n",
              "      border: none;\n",
              "      border-radius: 50%;\n",
              "      cursor: pointer;\n",
              "      display: none;\n",
              "      fill: #1967D2;\n",
              "      height: 32px;\n",
              "      padding: 0 0 0 0;\n",
              "      width: 32px;\n",
              "    }\n",
              "\n",
              "    .colab-df-convert:hover {\n",
              "      background-color: #E2EBFA;\n",
              "      box-shadow: 0px 1px 2px rgba(60, 64, 67, 0.3), 0px 1px 3px 1px rgba(60, 64, 67, 0.15);\n",
              "      fill: #174EA6;\n",
              "    }\n",
              "\n",
              "    [theme=dark] .colab-df-convert {\n",
              "      background-color: #3B4455;\n",
              "      fill: #D2E3FC;\n",
              "    }\n",
              "\n",
              "    [theme=dark] .colab-df-convert:hover {\n",
              "      background-color: #434B5C;\n",
              "      box-shadow: 0px 1px 3px 1px rgba(0, 0, 0, 0.15);\n",
              "      filter: drop-shadow(0px 1px 2px rgba(0, 0, 0, 0.3));\n",
              "      fill: #FFFFFF;\n",
              "    }\n",
              "  </style>\n",
              "\n",
              "      <script>\n",
              "        const buttonEl =\n",
              "          document.querySelector('#df-b37e9051-c105-40d7-b07c-18a91255461b button.colab-df-convert');\n",
              "        buttonEl.style.display =\n",
              "          google.colab.kernel.accessAllowed ? 'block' : 'none';\n",
              "\n",
              "        async function convertToInteractive(key) {\n",
              "          const element = document.querySelector('#df-b37e9051-c105-40d7-b07c-18a91255461b');\n",
              "          const dataTable =\n",
              "            await google.colab.kernel.invokeFunction('convertToInteractive',\n",
              "                                                     [key], {});\n",
              "          if (!dataTable) return;\n",
              "\n",
              "          const docLinkHtml = 'Like what you see? Visit the ' +\n",
              "            '<a target=\"_blank\" href=https://colab.research.google.com/notebooks/data_table.ipynb>data table notebook</a>'\n",
              "            + ' to learn more about interactive tables.';\n",
              "          element.innerHTML = '';\n",
              "          dataTable['output_type'] = 'display_data';\n",
              "          await google.colab.output.renderOutput(dataTable, element);\n",
              "          const docLink = document.createElement('div');\n",
              "          docLink.innerHTML = docLinkHtml;\n",
              "          element.appendChild(docLink);\n",
              "        }\n",
              "      </script>\n",
              "    </div>\n",
              "  </div>\n",
              "  "
            ]
          },
          "metadata": {},
          "execution_count": 665
        }
      ]
    },
    {
      "cell_type": "code",
      "source": [
        "list(zip(list_partnumber_2_updated,partname_2,QTY_list_2,ITEM_list_2))\n",
        "df_02 = pd.DataFrame(list(zip(list_partnumber_2_updated,partname_2,QTY_list_2,ITEM_list_2)),columns =['Part Number', 'Part Name','QTY','ITEM'])\n",
        "df_02"
      ],
      "metadata": {
        "colab": {
          "base_uri": "https://localhost:8080/",
          "height": 237
        },
        "id": "xyV9mgYFTb2e",
        "outputId": "55a49cef-f96b-41d9-de08-fc94e2a1554e"
      },
      "execution_count": null,
      "outputs": [
        {
          "output_type": "execute_result",
          "data": {
            "text/plain": [
              "  Part Number           Part Name  QTY  ITEM\n",
              "0   02/910410            Camshaft    1     1\n",
              "1   02/910411       Gear Camshaft    1     2\n",
              "2   02/910062                 Key    1     3\n",
              "3   02/910063  Bracket Cam Thrust    1     4\n",
              "4   02/911013               Screw    2     5\n",
              "5   02/910634              Tappet   12     6"
            ],
            "text/html": [
              "\n",
              "  <div id=\"df-188c2893-166a-420b-9910-61be6f60c9b8\">\n",
              "    <div class=\"colab-df-container\">\n",
              "      <div>\n",
              "<style scoped>\n",
              "    .dataframe tbody tr th:only-of-type {\n",
              "        vertical-align: middle;\n",
              "    }\n",
              "\n",
              "    .dataframe tbody tr th {\n",
              "        vertical-align: top;\n",
              "    }\n",
              "\n",
              "    .dataframe thead th {\n",
              "        text-align: right;\n",
              "    }\n",
              "</style>\n",
              "<table border=\"1\" class=\"dataframe\">\n",
              "  <thead>\n",
              "    <tr style=\"text-align: right;\">\n",
              "      <th></th>\n",
              "      <th>Part Number</th>\n",
              "      <th>Part Name</th>\n",
              "      <th>QTY</th>\n",
              "      <th>ITEM</th>\n",
              "    </tr>\n",
              "  </thead>\n",
              "  <tbody>\n",
              "    <tr>\n",
              "      <th>0</th>\n",
              "      <td>02/910410</td>\n",
              "      <td>Camshaft</td>\n",
              "      <td>1</td>\n",
              "      <td>1</td>\n",
              "    </tr>\n",
              "    <tr>\n",
              "      <th>1</th>\n",
              "      <td>02/910411</td>\n",
              "      <td>Gear Camshaft</td>\n",
              "      <td>1</td>\n",
              "      <td>2</td>\n",
              "    </tr>\n",
              "    <tr>\n",
              "      <th>2</th>\n",
              "      <td>02/910062</td>\n",
              "      <td>Key</td>\n",
              "      <td>1</td>\n",
              "      <td>3</td>\n",
              "    </tr>\n",
              "    <tr>\n",
              "      <th>3</th>\n",
              "      <td>02/910063</td>\n",
              "      <td>Bracket Cam Thrust</td>\n",
              "      <td>1</td>\n",
              "      <td>4</td>\n",
              "    </tr>\n",
              "    <tr>\n",
              "      <th>4</th>\n",
              "      <td>02/911013</td>\n",
              "      <td>Screw</td>\n",
              "      <td>2</td>\n",
              "      <td>5</td>\n",
              "    </tr>\n",
              "    <tr>\n",
              "      <th>5</th>\n",
              "      <td>02/910634</td>\n",
              "      <td>Tappet</td>\n",
              "      <td>12</td>\n",
              "      <td>6</td>\n",
              "    </tr>\n",
              "  </tbody>\n",
              "</table>\n",
              "</div>\n",
              "      <button class=\"colab-df-convert\" onclick=\"convertToInteractive('df-188c2893-166a-420b-9910-61be6f60c9b8')\"\n",
              "              title=\"Convert this dataframe to an interactive table.\"\n",
              "              style=\"display:none;\">\n",
              "        \n",
              "  <svg xmlns=\"http://www.w3.org/2000/svg\" height=\"24px\"viewBox=\"0 0 24 24\"\n",
              "       width=\"24px\">\n",
              "    <path d=\"M0 0h24v24H0V0z\" fill=\"none\"/>\n",
              "    <path d=\"M18.56 5.44l.94 2.06.94-2.06 2.06-.94-2.06-.94-.94-2.06-.94 2.06-2.06.94zm-11 1L8.5 8.5l.94-2.06 2.06-.94-2.06-.94L8.5 2.5l-.94 2.06-2.06.94zm10 10l.94 2.06.94-2.06 2.06-.94-2.06-.94-.94-2.06-.94 2.06-2.06.94z\"/><path d=\"M17.41 7.96l-1.37-1.37c-.4-.4-.92-.59-1.43-.59-.52 0-1.04.2-1.43.59L10.3 9.45l-7.72 7.72c-.78.78-.78 2.05 0 2.83L4 21.41c.39.39.9.59 1.41.59.51 0 1.02-.2 1.41-.59l7.78-7.78 2.81-2.81c.8-.78.8-2.07 0-2.86zM5.41 20L4 18.59l7.72-7.72 1.47 1.35L5.41 20z\"/>\n",
              "  </svg>\n",
              "      </button>\n",
              "      \n",
              "  <style>\n",
              "    .colab-df-container {\n",
              "      display:flex;\n",
              "      flex-wrap:wrap;\n",
              "      gap: 12px;\n",
              "    }\n",
              "\n",
              "    .colab-df-convert {\n",
              "      background-color: #E8F0FE;\n",
              "      border: none;\n",
              "      border-radius: 50%;\n",
              "      cursor: pointer;\n",
              "      display: none;\n",
              "      fill: #1967D2;\n",
              "      height: 32px;\n",
              "      padding: 0 0 0 0;\n",
              "      width: 32px;\n",
              "    }\n",
              "\n",
              "    .colab-df-convert:hover {\n",
              "      background-color: #E2EBFA;\n",
              "      box-shadow: 0px 1px 2px rgba(60, 64, 67, 0.3), 0px 1px 3px 1px rgba(60, 64, 67, 0.15);\n",
              "      fill: #174EA6;\n",
              "    }\n",
              "\n",
              "    [theme=dark] .colab-df-convert {\n",
              "      background-color: #3B4455;\n",
              "      fill: #D2E3FC;\n",
              "    }\n",
              "\n",
              "    [theme=dark] .colab-df-convert:hover {\n",
              "      background-color: #434B5C;\n",
              "      box-shadow: 0px 1px 3px 1px rgba(0, 0, 0, 0.15);\n",
              "      filter: drop-shadow(0px 1px 2px rgba(0, 0, 0, 0.3));\n",
              "      fill: #FFFFFF;\n",
              "    }\n",
              "  </style>\n",
              "\n",
              "      <script>\n",
              "        const buttonEl =\n",
              "          document.querySelector('#df-188c2893-166a-420b-9910-61be6f60c9b8 button.colab-df-convert');\n",
              "        buttonEl.style.display =\n",
              "          google.colab.kernel.accessAllowed ? 'block' : 'none';\n",
              "\n",
              "        async function convertToInteractive(key) {\n",
              "          const element = document.querySelector('#df-188c2893-166a-420b-9910-61be6f60c9b8');\n",
              "          const dataTable =\n",
              "            await google.colab.kernel.invokeFunction('convertToInteractive',\n",
              "                                                     [key], {});\n",
              "          if (!dataTable) return;\n",
              "\n",
              "          const docLinkHtml = 'Like what you see? Visit the ' +\n",
              "            '<a target=\"_blank\" href=https://colab.research.google.com/notebooks/data_table.ipynb>data table notebook</a>'\n",
              "            + ' to learn more about interactive tables.';\n",
              "          element.innerHTML = '';\n",
              "          dataTable['output_type'] = 'display_data';\n",
              "          await google.colab.output.renderOutput(dataTable, element);\n",
              "          const docLink = document.createElement('div');\n",
              "          docLink.innerHTML = docLinkHtml;\n",
              "          element.appendChild(docLink);\n",
              "        }\n",
              "      </script>\n",
              "    </div>\n",
              "  </div>\n",
              "  "
            ]
          },
          "metadata": {},
          "execution_count": 666
        }
      ]
    },
    {
      "cell_type": "code",
      "source": [
        "list(zip(list_partnumber_3_updated,partname_3,QTY_list_3,ITEM_list_3))\n",
        "df_03 = pd.DataFrame(list(zip(list_partnumber_3_updated,partname_3,QTY_list_3,ITEM_list_3)),columns =['Part Number', 'Part Name','QTY','ITEM'])\n",
        "df_03"
      ],
      "metadata": {
        "colab": {
          "base_uri": "https://localhost:8080/",
          "height": 206
        },
        "id": "B1ObDGDYTv_m",
        "outputId": "3656d3bc-36ac-4115-93ad-fa66e7319fba"
      },
      "execution_count": null,
      "outputs": [
        {
          "output_type": "execute_result",
          "data": {
            "text/plain": [
              "  Part Number         Part Name  QTY  ITEM\n",
              "0   332/Y5370   Timer Overcrank    1     1\n",
              "1   333/Y2435      Washer Plain    1     2\n",
              "2   333/Y2439  Bracket Governor    1     3\n",
              "3   333/Y2496    Harness Wiring    1     4\n",
              "4   333/Y2440          Nut Lock    1     5"
            ],
            "text/html": [
              "\n",
              "  <div id=\"df-08950897-61fa-4496-94ff-a215979f4662\">\n",
              "    <div class=\"colab-df-container\">\n",
              "      <div>\n",
              "<style scoped>\n",
              "    .dataframe tbody tr th:only-of-type {\n",
              "        vertical-align: middle;\n",
              "    }\n",
              "\n",
              "    .dataframe tbody tr th {\n",
              "        vertical-align: top;\n",
              "    }\n",
              "\n",
              "    .dataframe thead th {\n",
              "        text-align: right;\n",
              "    }\n",
              "</style>\n",
              "<table border=\"1\" class=\"dataframe\">\n",
              "  <thead>\n",
              "    <tr style=\"text-align: right;\">\n",
              "      <th></th>\n",
              "      <th>Part Number</th>\n",
              "      <th>Part Name</th>\n",
              "      <th>QTY</th>\n",
              "      <th>ITEM</th>\n",
              "    </tr>\n",
              "  </thead>\n",
              "  <tbody>\n",
              "    <tr>\n",
              "      <th>0</th>\n",
              "      <td>332/Y5370</td>\n",
              "      <td>Timer Overcrank</td>\n",
              "      <td>1</td>\n",
              "      <td>1</td>\n",
              "    </tr>\n",
              "    <tr>\n",
              "      <th>1</th>\n",
              "      <td>333/Y2435</td>\n",
              "      <td>Washer Plain</td>\n",
              "      <td>1</td>\n",
              "      <td>2</td>\n",
              "    </tr>\n",
              "    <tr>\n",
              "      <th>2</th>\n",
              "      <td>333/Y2439</td>\n",
              "      <td>Bracket Governor</td>\n",
              "      <td>1</td>\n",
              "      <td>3</td>\n",
              "    </tr>\n",
              "    <tr>\n",
              "      <th>3</th>\n",
              "      <td>333/Y2496</td>\n",
              "      <td>Harness Wiring</td>\n",
              "      <td>1</td>\n",
              "      <td>4</td>\n",
              "    </tr>\n",
              "    <tr>\n",
              "      <th>4</th>\n",
              "      <td>333/Y2440</td>\n",
              "      <td>Nut Lock</td>\n",
              "      <td>1</td>\n",
              "      <td>5</td>\n",
              "    </tr>\n",
              "  </tbody>\n",
              "</table>\n",
              "</div>\n",
              "      <button class=\"colab-df-convert\" onclick=\"convertToInteractive('df-08950897-61fa-4496-94ff-a215979f4662')\"\n",
              "              title=\"Convert this dataframe to an interactive table.\"\n",
              "              style=\"display:none;\">\n",
              "        \n",
              "  <svg xmlns=\"http://www.w3.org/2000/svg\" height=\"24px\"viewBox=\"0 0 24 24\"\n",
              "       width=\"24px\">\n",
              "    <path d=\"M0 0h24v24H0V0z\" fill=\"none\"/>\n",
              "    <path d=\"M18.56 5.44l.94 2.06.94-2.06 2.06-.94-2.06-.94-.94-2.06-.94 2.06-2.06.94zm-11 1L8.5 8.5l.94-2.06 2.06-.94-2.06-.94L8.5 2.5l-.94 2.06-2.06.94zm10 10l.94 2.06.94-2.06 2.06-.94-2.06-.94-.94-2.06-.94 2.06-2.06.94z\"/><path d=\"M17.41 7.96l-1.37-1.37c-.4-.4-.92-.59-1.43-.59-.52 0-1.04.2-1.43.59L10.3 9.45l-7.72 7.72c-.78.78-.78 2.05 0 2.83L4 21.41c.39.39.9.59 1.41.59.51 0 1.02-.2 1.41-.59l7.78-7.78 2.81-2.81c.8-.78.8-2.07 0-2.86zM5.41 20L4 18.59l7.72-7.72 1.47 1.35L5.41 20z\"/>\n",
              "  </svg>\n",
              "      </button>\n",
              "      \n",
              "  <style>\n",
              "    .colab-df-container {\n",
              "      display:flex;\n",
              "      flex-wrap:wrap;\n",
              "      gap: 12px;\n",
              "    }\n",
              "\n",
              "    .colab-df-convert {\n",
              "      background-color: #E8F0FE;\n",
              "      border: none;\n",
              "      border-radius: 50%;\n",
              "      cursor: pointer;\n",
              "      display: none;\n",
              "      fill: #1967D2;\n",
              "      height: 32px;\n",
              "      padding: 0 0 0 0;\n",
              "      width: 32px;\n",
              "    }\n",
              "\n",
              "    .colab-df-convert:hover {\n",
              "      background-color: #E2EBFA;\n",
              "      box-shadow: 0px 1px 2px rgba(60, 64, 67, 0.3), 0px 1px 3px 1px rgba(60, 64, 67, 0.15);\n",
              "      fill: #174EA6;\n",
              "    }\n",
              "\n",
              "    [theme=dark] .colab-df-convert {\n",
              "      background-color: #3B4455;\n",
              "      fill: #D2E3FC;\n",
              "    }\n",
              "\n",
              "    [theme=dark] .colab-df-convert:hover {\n",
              "      background-color: #434B5C;\n",
              "      box-shadow: 0px 1px 3px 1px rgba(0, 0, 0, 0.15);\n",
              "      filter: drop-shadow(0px 1px 2px rgba(0, 0, 0, 0.3));\n",
              "      fill: #FFFFFF;\n",
              "    }\n",
              "  </style>\n",
              "\n",
              "      <script>\n",
              "        const buttonEl =\n",
              "          document.querySelector('#df-08950897-61fa-4496-94ff-a215979f4662 button.colab-df-convert');\n",
              "        buttonEl.style.display =\n",
              "          google.colab.kernel.accessAllowed ? 'block' : 'none';\n",
              "\n",
              "        async function convertToInteractive(key) {\n",
              "          const element = document.querySelector('#df-08950897-61fa-4496-94ff-a215979f4662');\n",
              "          const dataTable =\n",
              "            await google.colab.kernel.invokeFunction('convertToInteractive',\n",
              "                                                     [key], {});\n",
              "          if (!dataTable) return;\n",
              "\n",
              "          const docLinkHtml = 'Like what you see? Visit the ' +\n",
              "            '<a target=\"_blank\" href=https://colab.research.google.com/notebooks/data_table.ipynb>data table notebook</a>'\n",
              "            + ' to learn more about interactive tables.';\n",
              "          element.innerHTML = '';\n",
              "          dataTable['output_type'] = 'display_data';\n",
              "          await google.colab.output.renderOutput(dataTable, element);\n",
              "          const docLink = document.createElement('div');\n",
              "          docLink.innerHTML = docLinkHtml;\n",
              "          element.appendChild(docLink);\n",
              "        }\n",
              "      </script>\n",
              "    </div>\n",
              "  </div>\n",
              "  "
            ]
          },
          "metadata": {},
          "execution_count": 667
        }
      ]
    },
    {
      "cell_type": "code",
      "source": [
        "list(zip(list_partnumber_4_updated,partname_4,QTY_list_4,ITEM_list_4))\n",
        "df_04 = pd.DataFrame(list(zip(list_partnumber_4_updated,partname_4,QTY_list_4,ITEM_list_4)),columns =['Part Number', 'Part Name','QTY','ITEM'])\n",
        "df_04"
      ],
      "metadata": {
        "colab": {
          "base_uri": "https://localhost:8080/",
          "height": 175
        },
        "id": "YHSONVWJUQpA",
        "outputId": "3db1e022-828f-4ef8-a90e-28683cbd4966"
      },
      "execution_count": null,
      "outputs": [
        {
          "output_type": "execute_result",
          "data": {
            "text/plain": [
              "  Part Number                                   Part Name  QTY  ITEM\n",
              "0   332/Y5833  Ring Gear Flywheel Ring Gear Flywheel Ring    1     1\n",
              "1   335/C4772                                    Flywheel    1     2\n",
              "2   02/911018                                Washer Plain    8     3\n",
              "3   02/911017                                       Screw    8     4"
            ],
            "text/html": [
              "\n",
              "  <div id=\"df-0020062a-b102-4112-9591-1085c72fbc35\">\n",
              "    <div class=\"colab-df-container\">\n",
              "      <div>\n",
              "<style scoped>\n",
              "    .dataframe tbody tr th:only-of-type {\n",
              "        vertical-align: middle;\n",
              "    }\n",
              "\n",
              "    .dataframe tbody tr th {\n",
              "        vertical-align: top;\n",
              "    }\n",
              "\n",
              "    .dataframe thead th {\n",
              "        text-align: right;\n",
              "    }\n",
              "</style>\n",
              "<table border=\"1\" class=\"dataframe\">\n",
              "  <thead>\n",
              "    <tr style=\"text-align: right;\">\n",
              "      <th></th>\n",
              "      <th>Part Number</th>\n",
              "      <th>Part Name</th>\n",
              "      <th>QTY</th>\n",
              "      <th>ITEM</th>\n",
              "    </tr>\n",
              "  </thead>\n",
              "  <tbody>\n",
              "    <tr>\n",
              "      <th>0</th>\n",
              "      <td>332/Y5833</td>\n",
              "      <td>Ring Gear Flywheel Ring Gear Flywheel Ring</td>\n",
              "      <td>1</td>\n",
              "      <td>1</td>\n",
              "    </tr>\n",
              "    <tr>\n",
              "      <th>1</th>\n",
              "      <td>335/C4772</td>\n",
              "      <td>Flywheel</td>\n",
              "      <td>1</td>\n",
              "      <td>2</td>\n",
              "    </tr>\n",
              "    <tr>\n",
              "      <th>2</th>\n",
              "      <td>02/911018</td>\n",
              "      <td>Washer Plain</td>\n",
              "      <td>8</td>\n",
              "      <td>3</td>\n",
              "    </tr>\n",
              "    <tr>\n",
              "      <th>3</th>\n",
              "      <td>02/911017</td>\n",
              "      <td>Screw</td>\n",
              "      <td>8</td>\n",
              "      <td>4</td>\n",
              "    </tr>\n",
              "  </tbody>\n",
              "</table>\n",
              "</div>\n",
              "      <button class=\"colab-df-convert\" onclick=\"convertToInteractive('df-0020062a-b102-4112-9591-1085c72fbc35')\"\n",
              "              title=\"Convert this dataframe to an interactive table.\"\n",
              "              style=\"display:none;\">\n",
              "        \n",
              "  <svg xmlns=\"http://www.w3.org/2000/svg\" height=\"24px\"viewBox=\"0 0 24 24\"\n",
              "       width=\"24px\">\n",
              "    <path d=\"M0 0h24v24H0V0z\" fill=\"none\"/>\n",
              "    <path d=\"M18.56 5.44l.94 2.06.94-2.06 2.06-.94-2.06-.94-.94-2.06-.94 2.06-2.06.94zm-11 1L8.5 8.5l.94-2.06 2.06-.94-2.06-.94L8.5 2.5l-.94 2.06-2.06.94zm10 10l.94 2.06.94-2.06 2.06-.94-2.06-.94-.94-2.06-.94 2.06-2.06.94z\"/><path d=\"M17.41 7.96l-1.37-1.37c-.4-.4-.92-.59-1.43-.59-.52 0-1.04.2-1.43.59L10.3 9.45l-7.72 7.72c-.78.78-.78 2.05 0 2.83L4 21.41c.39.39.9.59 1.41.59.51 0 1.02-.2 1.41-.59l7.78-7.78 2.81-2.81c.8-.78.8-2.07 0-2.86zM5.41 20L4 18.59l7.72-7.72 1.47 1.35L5.41 20z\"/>\n",
              "  </svg>\n",
              "      </button>\n",
              "      \n",
              "  <style>\n",
              "    .colab-df-container {\n",
              "      display:flex;\n",
              "      flex-wrap:wrap;\n",
              "      gap: 12px;\n",
              "    }\n",
              "\n",
              "    .colab-df-convert {\n",
              "      background-color: #E8F0FE;\n",
              "      border: none;\n",
              "      border-radius: 50%;\n",
              "      cursor: pointer;\n",
              "      display: none;\n",
              "      fill: #1967D2;\n",
              "      height: 32px;\n",
              "      padding: 0 0 0 0;\n",
              "      width: 32px;\n",
              "    }\n",
              "\n",
              "    .colab-df-convert:hover {\n",
              "      background-color: #E2EBFA;\n",
              "      box-shadow: 0px 1px 2px rgba(60, 64, 67, 0.3), 0px 1px 3px 1px rgba(60, 64, 67, 0.15);\n",
              "      fill: #174EA6;\n",
              "    }\n",
              "\n",
              "    [theme=dark] .colab-df-convert {\n",
              "      background-color: #3B4455;\n",
              "      fill: #D2E3FC;\n",
              "    }\n",
              "\n",
              "    [theme=dark] .colab-df-convert:hover {\n",
              "      background-color: #434B5C;\n",
              "      box-shadow: 0px 1px 3px 1px rgba(0, 0, 0, 0.15);\n",
              "      filter: drop-shadow(0px 1px 2px rgba(0, 0, 0, 0.3));\n",
              "      fill: #FFFFFF;\n",
              "    }\n",
              "  </style>\n",
              "\n",
              "      <script>\n",
              "        const buttonEl =\n",
              "          document.querySelector('#df-0020062a-b102-4112-9591-1085c72fbc35 button.colab-df-convert');\n",
              "        buttonEl.style.display =\n",
              "          google.colab.kernel.accessAllowed ? 'block' : 'none';\n",
              "\n",
              "        async function convertToInteractive(key) {\n",
              "          const element = document.querySelector('#df-0020062a-b102-4112-9591-1085c72fbc35');\n",
              "          const dataTable =\n",
              "            await google.colab.kernel.invokeFunction('convertToInteractive',\n",
              "                                                     [key], {});\n",
              "          if (!dataTable) return;\n",
              "\n",
              "          const docLinkHtml = 'Like what you see? Visit the ' +\n",
              "            '<a target=\"_blank\" href=https://colab.research.google.com/notebooks/data_table.ipynb>data table notebook</a>'\n",
              "            + ' to learn more about interactive tables.';\n",
              "          element.innerHTML = '';\n",
              "          dataTable['output_type'] = 'display_data';\n",
              "          await google.colab.output.renderOutput(dataTable, element);\n",
              "          const docLink = document.createElement('div');\n",
              "          docLink.innerHTML = docLinkHtml;\n",
              "          element.appendChild(docLink);\n",
              "        }\n",
              "      </script>\n",
              "    </div>\n",
              "  </div>\n",
              "  "
            ]
          },
          "metadata": {},
          "execution_count": 669
        }
      ]
    },
    {
      "cell_type": "code",
      "source": [
        "list(zip(list_partnumber_5_updated,partname_5,QTY_list_5,ITEM_list_5))\n",
        "df_05 = pd.DataFrame(list(zip(list_partnumber_5_updated,partname_5,QTY_list_5,ITEM_list_5)),columns =['Part Number', 'Part Name','QTY','ITEM'])\n",
        "df_05"
      ],
      "metadata": {
        "colab": {
          "base_uri": "https://localhost:8080/",
          "height": 426
        },
        "id": "jHge8IzJUbYk",
        "outputId": "1e261f72-43cc-4400-b26f-56ef37c9e9c4"
      },
      "execution_count": null,
      "outputs": [
        {
          "output_type": "execute_result",
          "data": {
            "text/plain": [
              "   Part Number                                         Part Name  QTY  ITEM\n",
              "0    333/Y2281                                  Housing Flywheel    1     1\n",
              "1    02/911015                                             Screw    8     2\n",
              "2    02/910069                                       Plate Cover    1     3\n",
              "3    02/911543                                Cover Plate , Rear    2     4\n",
              "4    02/912635                      Kit-seal Rear Crankshaft Oil    1     5\n",
              "5    02/910029                          Gasket Rear Seal Housing    1     6\n",
              "6    02/910571                                              Plug    1     7\n",
              "7    02/910067                                            O Ring    1     8\n",
              "8    02/910068                                              Plug    1     9\n",
              "9    02/910028                             Seal Rectangular Ring    1    10\n",
              "10   02/911014                             Screw Flange Head 8.8    6    11\n",
              "11   333/Y2287  Screw SCREW,HEXAGO AN HEAD SCREW, HEXAGO AN HEAD    2    12"
            ],
            "text/html": [
              "\n",
              "  <div id=\"df-04ca1dfd-84e4-400a-9dbe-1f3eaffd6fc1\">\n",
              "    <div class=\"colab-df-container\">\n",
              "      <div>\n",
              "<style scoped>\n",
              "    .dataframe tbody tr th:only-of-type {\n",
              "        vertical-align: middle;\n",
              "    }\n",
              "\n",
              "    .dataframe tbody tr th {\n",
              "        vertical-align: top;\n",
              "    }\n",
              "\n",
              "    .dataframe thead th {\n",
              "        text-align: right;\n",
              "    }\n",
              "</style>\n",
              "<table border=\"1\" class=\"dataframe\">\n",
              "  <thead>\n",
              "    <tr style=\"text-align: right;\">\n",
              "      <th></th>\n",
              "      <th>Part Number</th>\n",
              "      <th>Part Name</th>\n",
              "      <th>QTY</th>\n",
              "      <th>ITEM</th>\n",
              "    </tr>\n",
              "  </thead>\n",
              "  <tbody>\n",
              "    <tr>\n",
              "      <th>0</th>\n",
              "      <td>333/Y2281</td>\n",
              "      <td>Housing Flywheel</td>\n",
              "      <td>1</td>\n",
              "      <td>1</td>\n",
              "    </tr>\n",
              "    <tr>\n",
              "      <th>1</th>\n",
              "      <td>02/911015</td>\n",
              "      <td>Screw</td>\n",
              "      <td>8</td>\n",
              "      <td>2</td>\n",
              "    </tr>\n",
              "    <tr>\n",
              "      <th>2</th>\n",
              "      <td>02/910069</td>\n",
              "      <td>Plate Cover</td>\n",
              "      <td>1</td>\n",
              "      <td>3</td>\n",
              "    </tr>\n",
              "    <tr>\n",
              "      <th>3</th>\n",
              "      <td>02/911543</td>\n",
              "      <td>Cover Plate , Rear</td>\n",
              "      <td>2</td>\n",
              "      <td>4</td>\n",
              "    </tr>\n",
              "    <tr>\n",
              "      <th>4</th>\n",
              "      <td>02/912635</td>\n",
              "      <td>Kit-seal Rear Crankshaft Oil</td>\n",
              "      <td>1</td>\n",
              "      <td>5</td>\n",
              "    </tr>\n",
              "    <tr>\n",
              "      <th>5</th>\n",
              "      <td>02/910029</td>\n",
              "      <td>Gasket Rear Seal Housing</td>\n",
              "      <td>1</td>\n",
              "      <td>6</td>\n",
              "    </tr>\n",
              "    <tr>\n",
              "      <th>6</th>\n",
              "      <td>02/910571</td>\n",
              "      <td>Plug</td>\n",
              "      <td>1</td>\n",
              "      <td>7</td>\n",
              "    </tr>\n",
              "    <tr>\n",
              "      <th>7</th>\n",
              "      <td>02/910067</td>\n",
              "      <td>O Ring</td>\n",
              "      <td>1</td>\n",
              "      <td>8</td>\n",
              "    </tr>\n",
              "    <tr>\n",
              "      <th>8</th>\n",
              "      <td>02/910068</td>\n",
              "      <td>Plug</td>\n",
              "      <td>1</td>\n",
              "      <td>9</td>\n",
              "    </tr>\n",
              "    <tr>\n",
              "      <th>9</th>\n",
              "      <td>02/910028</td>\n",
              "      <td>Seal Rectangular Ring</td>\n",
              "      <td>1</td>\n",
              "      <td>10</td>\n",
              "    </tr>\n",
              "    <tr>\n",
              "      <th>10</th>\n",
              "      <td>02/911014</td>\n",
              "      <td>Screw Flange Head 8.8</td>\n",
              "      <td>6</td>\n",
              "      <td>11</td>\n",
              "    </tr>\n",
              "    <tr>\n",
              "      <th>11</th>\n",
              "      <td>333/Y2287</td>\n",
              "      <td>Screw SCREW,HEXAGO AN HEAD SCREW, HEXAGO AN HEAD</td>\n",
              "      <td>2</td>\n",
              "      <td>12</td>\n",
              "    </tr>\n",
              "  </tbody>\n",
              "</table>\n",
              "</div>\n",
              "      <button class=\"colab-df-convert\" onclick=\"convertToInteractive('df-04ca1dfd-84e4-400a-9dbe-1f3eaffd6fc1')\"\n",
              "              title=\"Convert this dataframe to an interactive table.\"\n",
              "              style=\"display:none;\">\n",
              "        \n",
              "  <svg xmlns=\"http://www.w3.org/2000/svg\" height=\"24px\"viewBox=\"0 0 24 24\"\n",
              "       width=\"24px\">\n",
              "    <path d=\"M0 0h24v24H0V0z\" fill=\"none\"/>\n",
              "    <path d=\"M18.56 5.44l.94 2.06.94-2.06 2.06-.94-2.06-.94-.94-2.06-.94 2.06-2.06.94zm-11 1L8.5 8.5l.94-2.06 2.06-.94-2.06-.94L8.5 2.5l-.94 2.06-2.06.94zm10 10l.94 2.06.94-2.06 2.06-.94-2.06-.94-.94-2.06-.94 2.06-2.06.94z\"/><path d=\"M17.41 7.96l-1.37-1.37c-.4-.4-.92-.59-1.43-.59-.52 0-1.04.2-1.43.59L10.3 9.45l-7.72 7.72c-.78.78-.78 2.05 0 2.83L4 21.41c.39.39.9.59 1.41.59.51 0 1.02-.2 1.41-.59l7.78-7.78 2.81-2.81c.8-.78.8-2.07 0-2.86zM5.41 20L4 18.59l7.72-7.72 1.47 1.35L5.41 20z\"/>\n",
              "  </svg>\n",
              "      </button>\n",
              "      \n",
              "  <style>\n",
              "    .colab-df-container {\n",
              "      display:flex;\n",
              "      flex-wrap:wrap;\n",
              "      gap: 12px;\n",
              "    }\n",
              "\n",
              "    .colab-df-convert {\n",
              "      background-color: #E8F0FE;\n",
              "      border: none;\n",
              "      border-radius: 50%;\n",
              "      cursor: pointer;\n",
              "      display: none;\n",
              "      fill: #1967D2;\n",
              "      height: 32px;\n",
              "      padding: 0 0 0 0;\n",
              "      width: 32px;\n",
              "    }\n",
              "\n",
              "    .colab-df-convert:hover {\n",
              "      background-color: #E2EBFA;\n",
              "      box-shadow: 0px 1px 2px rgba(60, 64, 67, 0.3), 0px 1px 3px 1px rgba(60, 64, 67, 0.15);\n",
              "      fill: #174EA6;\n",
              "    }\n",
              "\n",
              "    [theme=dark] .colab-df-convert {\n",
              "      background-color: #3B4455;\n",
              "      fill: #D2E3FC;\n",
              "    }\n",
              "\n",
              "    [theme=dark] .colab-df-convert:hover {\n",
              "      background-color: #434B5C;\n",
              "      box-shadow: 0px 1px 3px 1px rgba(0, 0, 0, 0.15);\n",
              "      filter: drop-shadow(0px 1px 2px rgba(0, 0, 0, 0.3));\n",
              "      fill: #FFFFFF;\n",
              "    }\n",
              "  </style>\n",
              "\n",
              "      <script>\n",
              "        const buttonEl =\n",
              "          document.querySelector('#df-04ca1dfd-84e4-400a-9dbe-1f3eaffd6fc1 button.colab-df-convert');\n",
              "        buttonEl.style.display =\n",
              "          google.colab.kernel.accessAllowed ? 'block' : 'none';\n",
              "\n",
              "        async function convertToInteractive(key) {\n",
              "          const element = document.querySelector('#df-04ca1dfd-84e4-400a-9dbe-1f3eaffd6fc1');\n",
              "          const dataTable =\n",
              "            await google.colab.kernel.invokeFunction('convertToInteractive',\n",
              "                                                     [key], {});\n",
              "          if (!dataTable) return;\n",
              "\n",
              "          const docLinkHtml = 'Like what you see? Visit the ' +\n",
              "            '<a target=\"_blank\" href=https://colab.research.google.com/notebooks/data_table.ipynb>data table notebook</a>'\n",
              "            + ' to learn more about interactive tables.';\n",
              "          element.innerHTML = '';\n",
              "          dataTable['output_type'] = 'display_data';\n",
              "          await google.colab.output.renderOutput(dataTable, element);\n",
              "          const docLink = document.createElement('div');\n",
              "          docLink.innerHTML = docLinkHtml;\n",
              "          element.appendChild(docLink);\n",
              "        }\n",
              "      </script>\n",
              "    </div>\n",
              "  </div>\n",
              "  "
            ]
          },
          "metadata": {},
          "execution_count": 670
        }
      ]
    },
    {
      "cell_type": "code",
      "source": [
        "list(zip(list_partnumber_6_updated,partname_6,QTY_list_6,ITEM_list_6))\n",
        "df_06 = pd.DataFrame(list(zip(list_partnumber_6_updated,partname_6,QTY_list_6,ITEM_list_6)),columns =['Part Number', 'Part Name','QTY','ITEM'])\n",
        "df_06"
      ],
      "metadata": {
        "colab": {
          "base_uri": "https://localhost:8080/",
          "height": 81
        },
        "id": "ZU_EO2YcUox9",
        "outputId": "c67c4fc6-e358-4185-9d2e-cbde51d4e921"
      },
      "execution_count": null,
      "outputs": [
        {
          "output_type": "execute_result",
          "data": {
            "text/plain": [
              "  Part Number            Part Name  QTY  ITEM\n",
              "0   333/Y2433  Pin: Throttle Lever    1     1"
            ],
            "text/html": [
              "\n",
              "  <div id=\"df-be0101a7-98a0-43d4-9b49-0ad9a537f37c\">\n",
              "    <div class=\"colab-df-container\">\n",
              "      <div>\n",
              "<style scoped>\n",
              "    .dataframe tbody tr th:only-of-type {\n",
              "        vertical-align: middle;\n",
              "    }\n",
              "\n",
              "    .dataframe tbody tr th {\n",
              "        vertical-align: top;\n",
              "    }\n",
              "\n",
              "    .dataframe thead th {\n",
              "        text-align: right;\n",
              "    }\n",
              "</style>\n",
              "<table border=\"1\" class=\"dataframe\">\n",
              "  <thead>\n",
              "    <tr style=\"text-align: right;\">\n",
              "      <th></th>\n",
              "      <th>Part Number</th>\n",
              "      <th>Part Name</th>\n",
              "      <th>QTY</th>\n",
              "      <th>ITEM</th>\n",
              "    </tr>\n",
              "  </thead>\n",
              "  <tbody>\n",
              "    <tr>\n",
              "      <th>0</th>\n",
              "      <td>333/Y2433</td>\n",
              "      <td>Pin: Throttle Lever</td>\n",
              "      <td>1</td>\n",
              "      <td>1</td>\n",
              "    </tr>\n",
              "  </tbody>\n",
              "</table>\n",
              "</div>\n",
              "      <button class=\"colab-df-convert\" onclick=\"convertToInteractive('df-be0101a7-98a0-43d4-9b49-0ad9a537f37c')\"\n",
              "              title=\"Convert this dataframe to an interactive table.\"\n",
              "              style=\"display:none;\">\n",
              "        \n",
              "  <svg xmlns=\"http://www.w3.org/2000/svg\" height=\"24px\"viewBox=\"0 0 24 24\"\n",
              "       width=\"24px\">\n",
              "    <path d=\"M0 0h24v24H0V0z\" fill=\"none\"/>\n",
              "    <path d=\"M18.56 5.44l.94 2.06.94-2.06 2.06-.94-2.06-.94-.94-2.06-.94 2.06-2.06.94zm-11 1L8.5 8.5l.94-2.06 2.06-.94-2.06-.94L8.5 2.5l-.94 2.06-2.06.94zm10 10l.94 2.06.94-2.06 2.06-.94-2.06-.94-.94-2.06-.94 2.06-2.06.94z\"/><path d=\"M17.41 7.96l-1.37-1.37c-.4-.4-.92-.59-1.43-.59-.52 0-1.04.2-1.43.59L10.3 9.45l-7.72 7.72c-.78.78-.78 2.05 0 2.83L4 21.41c.39.39.9.59 1.41.59.51 0 1.02-.2 1.41-.59l7.78-7.78 2.81-2.81c.8-.78.8-2.07 0-2.86zM5.41 20L4 18.59l7.72-7.72 1.47 1.35L5.41 20z\"/>\n",
              "  </svg>\n",
              "      </button>\n",
              "      \n",
              "  <style>\n",
              "    .colab-df-container {\n",
              "      display:flex;\n",
              "      flex-wrap:wrap;\n",
              "      gap: 12px;\n",
              "    }\n",
              "\n",
              "    .colab-df-convert {\n",
              "      background-color: #E8F0FE;\n",
              "      border: none;\n",
              "      border-radius: 50%;\n",
              "      cursor: pointer;\n",
              "      display: none;\n",
              "      fill: #1967D2;\n",
              "      height: 32px;\n",
              "      padding: 0 0 0 0;\n",
              "      width: 32px;\n",
              "    }\n",
              "\n",
              "    .colab-df-convert:hover {\n",
              "      background-color: #E2EBFA;\n",
              "      box-shadow: 0px 1px 2px rgba(60, 64, 67, 0.3), 0px 1px 3px 1px rgba(60, 64, 67, 0.15);\n",
              "      fill: #174EA6;\n",
              "    }\n",
              "\n",
              "    [theme=dark] .colab-df-convert {\n",
              "      background-color: #3B4455;\n",
              "      fill: #D2E3FC;\n",
              "    }\n",
              "\n",
              "    [theme=dark] .colab-df-convert:hover {\n",
              "      background-color: #434B5C;\n",
              "      box-shadow: 0px 1px 3px 1px rgba(0, 0, 0, 0.15);\n",
              "      filter: drop-shadow(0px 1px 2px rgba(0, 0, 0, 0.3));\n",
              "      fill: #FFFFFF;\n",
              "    }\n",
              "  </style>\n",
              "\n",
              "      <script>\n",
              "        const buttonEl =\n",
              "          document.querySelector('#df-be0101a7-98a0-43d4-9b49-0ad9a537f37c button.colab-df-convert');\n",
              "        buttonEl.style.display =\n",
              "          google.colab.kernel.accessAllowed ? 'block' : 'none';\n",
              "\n",
              "        async function convertToInteractive(key) {\n",
              "          const element = document.querySelector('#df-be0101a7-98a0-43d4-9b49-0ad9a537f37c');\n",
              "          const dataTable =\n",
              "            await google.colab.kernel.invokeFunction('convertToInteractive',\n",
              "                                                     [key], {});\n",
              "          if (!dataTable) return;\n",
              "\n",
              "          const docLinkHtml = 'Like what you see? Visit the ' +\n",
              "            '<a target=\"_blank\" href=https://colab.research.google.com/notebooks/data_table.ipynb>data table notebook</a>'\n",
              "            + ' to learn more about interactive tables.';\n",
              "          element.innerHTML = '';\n",
              "          dataTable['output_type'] = 'display_data';\n",
              "          await google.colab.output.renderOutput(dataTable, element);\n",
              "          const docLink = document.createElement('div');\n",
              "          docLink.innerHTML = docLinkHtml;\n",
              "          element.appendChild(docLink);\n",
              "        }\n",
              "      </script>\n",
              "    </div>\n",
              "  </div>\n",
              "  "
            ]
          },
          "metadata": {},
          "execution_count": 671
        }
      ]
    },
    {
      "cell_type": "code",
      "source": [
        "list(zip(list_partnumber_7_updated,partname_7,QTY_list_7,ITEM_list_7))\n",
        "df_07 = pd.DataFrame(list(zip(list_partnumber_7_updated,partname_7,QTY_list_7,ITEM_list_7)),columns =['Part Number', 'Part Name','QTY','ITEM'])\n",
        "df_07"
      ],
      "metadata": {
        "colab": {
          "base_uri": "https://localhost:8080/",
          "height": 112
        },
        "id": "t_eD4M53Uxy-",
        "outputId": "93e82f20-e3d5-41ce-9cf7-6cf3fa937007"
      },
      "execution_count": null,
      "outputs": [
        {
          "output_type": "execute_result",
          "data": {
            "text/plain": [
              "  Part Number          Part Name  QTY  ITEM\n",
              "0   333/Y2275    Bracket Lifting    1     1\n",
              "1   333/Y2343  Screw Flange, Hex    2     2"
            ],
            "text/html": [
              "\n",
              "  <div id=\"df-cc8236b1-b276-4db0-a077-3c5217d68354\">\n",
              "    <div class=\"colab-df-container\">\n",
              "      <div>\n",
              "<style scoped>\n",
              "    .dataframe tbody tr th:only-of-type {\n",
              "        vertical-align: middle;\n",
              "    }\n",
              "\n",
              "    .dataframe tbody tr th {\n",
              "        vertical-align: top;\n",
              "    }\n",
              "\n",
              "    .dataframe thead th {\n",
              "        text-align: right;\n",
              "    }\n",
              "</style>\n",
              "<table border=\"1\" class=\"dataframe\">\n",
              "  <thead>\n",
              "    <tr style=\"text-align: right;\">\n",
              "      <th></th>\n",
              "      <th>Part Number</th>\n",
              "      <th>Part Name</th>\n",
              "      <th>QTY</th>\n",
              "      <th>ITEM</th>\n",
              "    </tr>\n",
              "  </thead>\n",
              "  <tbody>\n",
              "    <tr>\n",
              "      <th>0</th>\n",
              "      <td>333/Y2275</td>\n",
              "      <td>Bracket Lifting</td>\n",
              "      <td>1</td>\n",
              "      <td>1</td>\n",
              "    </tr>\n",
              "    <tr>\n",
              "      <th>1</th>\n",
              "      <td>333/Y2343</td>\n",
              "      <td>Screw Flange, Hex</td>\n",
              "      <td>2</td>\n",
              "      <td>2</td>\n",
              "    </tr>\n",
              "  </tbody>\n",
              "</table>\n",
              "</div>\n",
              "      <button class=\"colab-df-convert\" onclick=\"convertToInteractive('df-cc8236b1-b276-4db0-a077-3c5217d68354')\"\n",
              "              title=\"Convert this dataframe to an interactive table.\"\n",
              "              style=\"display:none;\">\n",
              "        \n",
              "  <svg xmlns=\"http://www.w3.org/2000/svg\" height=\"24px\"viewBox=\"0 0 24 24\"\n",
              "       width=\"24px\">\n",
              "    <path d=\"M0 0h24v24H0V0z\" fill=\"none\"/>\n",
              "    <path d=\"M18.56 5.44l.94 2.06.94-2.06 2.06-.94-2.06-.94-.94-2.06-.94 2.06-2.06.94zm-11 1L8.5 8.5l.94-2.06 2.06-.94-2.06-.94L8.5 2.5l-.94 2.06-2.06.94zm10 10l.94 2.06.94-2.06 2.06-.94-2.06-.94-.94-2.06-.94 2.06-2.06.94z\"/><path d=\"M17.41 7.96l-1.37-1.37c-.4-.4-.92-.59-1.43-.59-.52 0-1.04.2-1.43.59L10.3 9.45l-7.72 7.72c-.78.78-.78 2.05 0 2.83L4 21.41c.39.39.9.59 1.41.59.51 0 1.02-.2 1.41-.59l7.78-7.78 2.81-2.81c.8-.78.8-2.07 0-2.86zM5.41 20L4 18.59l7.72-7.72 1.47 1.35L5.41 20z\"/>\n",
              "  </svg>\n",
              "      </button>\n",
              "      \n",
              "  <style>\n",
              "    .colab-df-container {\n",
              "      display:flex;\n",
              "      flex-wrap:wrap;\n",
              "      gap: 12px;\n",
              "    }\n",
              "\n",
              "    .colab-df-convert {\n",
              "      background-color: #E8F0FE;\n",
              "      border: none;\n",
              "      border-radius: 50%;\n",
              "      cursor: pointer;\n",
              "      display: none;\n",
              "      fill: #1967D2;\n",
              "      height: 32px;\n",
              "      padding: 0 0 0 0;\n",
              "      width: 32px;\n",
              "    }\n",
              "\n",
              "    .colab-df-convert:hover {\n",
              "      background-color: #E2EBFA;\n",
              "      box-shadow: 0px 1px 2px rgba(60, 64, 67, 0.3), 0px 1px 3px 1px rgba(60, 64, 67, 0.15);\n",
              "      fill: #174EA6;\n",
              "    }\n",
              "\n",
              "    [theme=dark] .colab-df-convert {\n",
              "      background-color: #3B4455;\n",
              "      fill: #D2E3FC;\n",
              "    }\n",
              "\n",
              "    [theme=dark] .colab-df-convert:hover {\n",
              "      background-color: #434B5C;\n",
              "      box-shadow: 0px 1px 3px 1px rgba(0, 0, 0, 0.15);\n",
              "      filter: drop-shadow(0px 1px 2px rgba(0, 0, 0, 0.3));\n",
              "      fill: #FFFFFF;\n",
              "    }\n",
              "  </style>\n",
              "\n",
              "      <script>\n",
              "        const buttonEl =\n",
              "          document.querySelector('#df-cc8236b1-b276-4db0-a077-3c5217d68354 button.colab-df-convert');\n",
              "        buttonEl.style.display =\n",
              "          google.colab.kernel.accessAllowed ? 'block' : 'none';\n",
              "\n",
              "        async function convertToInteractive(key) {\n",
              "          const element = document.querySelector('#df-cc8236b1-b276-4db0-a077-3c5217d68354');\n",
              "          const dataTable =\n",
              "            await google.colab.kernel.invokeFunction('convertToInteractive',\n",
              "                                                     [key], {});\n",
              "          if (!dataTable) return;\n",
              "\n",
              "          const docLinkHtml = 'Like what you see? Visit the ' +\n",
              "            '<a target=\"_blank\" href=https://colab.research.google.com/notebooks/data_table.ipynb>data table notebook</a>'\n",
              "            + ' to learn more about interactive tables.';\n",
              "          element.innerHTML = '';\n",
              "          dataTable['output_type'] = 'display_data';\n",
              "          await google.colab.output.renderOutput(dataTable, element);\n",
              "          const docLink = document.createElement('div');\n",
              "          docLink.innerHTML = docLinkHtml;\n",
              "          element.appendChild(docLink);\n",
              "        }\n",
              "      </script>\n",
              "    </div>\n",
              "  </div>\n",
              "  "
            ]
          },
          "metadata": {},
          "execution_count": 672
        }
      ]
    },
    {
      "cell_type": "code",
      "source": [
        "list(zip(list_partnumber_8_updated,partname_8,QTY_list_8,ITEM_list_8))\n",
        "df_08 = pd.DataFrame(list(zip(list_partnumber_8_updated,partname_8,QTY_list_8,ITEM_list_8)),columns =['Part Number', 'Part Name','QTY','ITEM'])\n",
        "df_08"
      ],
      "metadata": {
        "colab": {
          "base_uri": "https://localhost:8080/",
          "height": 112
        },
        "id": "zaA1MS8EU6bY",
        "outputId": "7616be2f-62cb-4829-bce4-123b3657f5e1"
      },
      "execution_count": null,
      "outputs": [
        {
          "output_type": "execute_result",
          "data": {
            "text/plain": [
              "  Part Number              Part Name  QTY  ITEM\n",
              "0   333/Y2319      Cover Access Hole    1     1\n",
              "1   332/Y3324  Seal Rectangular Ring    1     2"
            ],
            "text/html": [
              "\n",
              "  <div id=\"df-31d77400-5b5a-4c32-9981-bb6ec39c6368\">\n",
              "    <div class=\"colab-df-container\">\n",
              "      <div>\n",
              "<style scoped>\n",
              "    .dataframe tbody tr th:only-of-type {\n",
              "        vertical-align: middle;\n",
              "    }\n",
              "\n",
              "    .dataframe tbody tr th {\n",
              "        vertical-align: top;\n",
              "    }\n",
              "\n",
              "    .dataframe thead th {\n",
              "        text-align: right;\n",
              "    }\n",
              "</style>\n",
              "<table border=\"1\" class=\"dataframe\">\n",
              "  <thead>\n",
              "    <tr style=\"text-align: right;\">\n",
              "      <th></th>\n",
              "      <th>Part Number</th>\n",
              "      <th>Part Name</th>\n",
              "      <th>QTY</th>\n",
              "      <th>ITEM</th>\n",
              "    </tr>\n",
              "  </thead>\n",
              "  <tbody>\n",
              "    <tr>\n",
              "      <th>0</th>\n",
              "      <td>333/Y2319</td>\n",
              "      <td>Cover Access Hole</td>\n",
              "      <td>1</td>\n",
              "      <td>1</td>\n",
              "    </tr>\n",
              "    <tr>\n",
              "      <th>1</th>\n",
              "      <td>332/Y3324</td>\n",
              "      <td>Seal Rectangular Ring</td>\n",
              "      <td>1</td>\n",
              "      <td>2</td>\n",
              "    </tr>\n",
              "  </tbody>\n",
              "</table>\n",
              "</div>\n",
              "      <button class=\"colab-df-convert\" onclick=\"convertToInteractive('df-31d77400-5b5a-4c32-9981-bb6ec39c6368')\"\n",
              "              title=\"Convert this dataframe to an interactive table.\"\n",
              "              style=\"display:none;\">\n",
              "        \n",
              "  <svg xmlns=\"http://www.w3.org/2000/svg\" height=\"24px\"viewBox=\"0 0 24 24\"\n",
              "       width=\"24px\">\n",
              "    <path d=\"M0 0h24v24H0V0z\" fill=\"none\"/>\n",
              "    <path d=\"M18.56 5.44l.94 2.06.94-2.06 2.06-.94-2.06-.94-.94-2.06-.94 2.06-2.06.94zm-11 1L8.5 8.5l.94-2.06 2.06-.94-2.06-.94L8.5 2.5l-.94 2.06-2.06.94zm10 10l.94 2.06.94-2.06 2.06-.94-2.06-.94-.94-2.06-.94 2.06-2.06.94z\"/><path d=\"M17.41 7.96l-1.37-1.37c-.4-.4-.92-.59-1.43-.59-.52 0-1.04.2-1.43.59L10.3 9.45l-7.72 7.72c-.78.78-.78 2.05 0 2.83L4 21.41c.39.39.9.59 1.41.59.51 0 1.02-.2 1.41-.59l7.78-7.78 2.81-2.81c.8-.78.8-2.07 0-2.86zM5.41 20L4 18.59l7.72-7.72 1.47 1.35L5.41 20z\"/>\n",
              "  </svg>\n",
              "      </button>\n",
              "      \n",
              "  <style>\n",
              "    .colab-df-container {\n",
              "      display:flex;\n",
              "      flex-wrap:wrap;\n",
              "      gap: 12px;\n",
              "    }\n",
              "\n",
              "    .colab-df-convert {\n",
              "      background-color: #E8F0FE;\n",
              "      border: none;\n",
              "      border-radius: 50%;\n",
              "      cursor: pointer;\n",
              "      display: none;\n",
              "      fill: #1967D2;\n",
              "      height: 32px;\n",
              "      padding: 0 0 0 0;\n",
              "      width: 32px;\n",
              "    }\n",
              "\n",
              "    .colab-df-convert:hover {\n",
              "      background-color: #E2EBFA;\n",
              "      box-shadow: 0px 1px 2px rgba(60, 64, 67, 0.3), 0px 1px 3px 1px rgba(60, 64, 67, 0.15);\n",
              "      fill: #174EA6;\n",
              "    }\n",
              "\n",
              "    [theme=dark] .colab-df-convert {\n",
              "      background-color: #3B4455;\n",
              "      fill: #D2E3FC;\n",
              "    }\n",
              "\n",
              "    [theme=dark] .colab-df-convert:hover {\n",
              "      background-color: #434B5C;\n",
              "      box-shadow: 0px 1px 3px 1px rgba(0, 0, 0, 0.15);\n",
              "      filter: drop-shadow(0px 1px 2px rgba(0, 0, 0, 0.3));\n",
              "      fill: #FFFFFF;\n",
              "    }\n",
              "  </style>\n",
              "\n",
              "      <script>\n",
              "        const buttonEl =\n",
              "          document.querySelector('#df-31d77400-5b5a-4c32-9981-bb6ec39c6368 button.colab-df-convert');\n",
              "        buttonEl.style.display =\n",
              "          google.colab.kernel.accessAllowed ? 'block' : 'none';\n",
              "\n",
              "        async function convertToInteractive(key) {\n",
              "          const element = document.querySelector('#df-31d77400-5b5a-4c32-9981-bb6ec39c6368');\n",
              "          const dataTable =\n",
              "            await google.colab.kernel.invokeFunction('convertToInteractive',\n",
              "                                                     [key], {});\n",
              "          if (!dataTable) return;\n",
              "\n",
              "          const docLinkHtml = 'Like what you see? Visit the ' +\n",
              "            '<a target=\"_blank\" href=https://colab.research.google.com/notebooks/data_table.ipynb>data table notebook</a>'\n",
              "            + ' to learn more about interactive tables.';\n",
              "          element.innerHTML = '';\n",
              "          dataTable['output_type'] = 'display_data';\n",
              "          await google.colab.output.renderOutput(dataTable, element);\n",
              "          const docLink = document.createElement('div');\n",
              "          docLink.innerHTML = docLinkHtml;\n",
              "          element.appendChild(docLink);\n",
              "        }\n",
              "      </script>\n",
              "    </div>\n",
              "  </div>\n",
              "  "
            ]
          },
          "metadata": {},
          "execution_count": 673
        }
      ]
    },
    {
      "cell_type": "code",
      "source": [
        "list(zip(list_partnumber_9_updated,partname_9,QTY_list_9,ITEM_list_9))\n",
        "df_09 = pd.DataFrame(list(zip(list_partnumber_9_updated,partname_9,QTY_list_9,ITEM_list_9)),columns =['Part Number', 'Part Name','QTY','ITEM'])\n",
        "df_09"
      ],
      "metadata": {
        "colab": {
          "base_uri": "https://localhost:8080/",
          "height": 143
        },
        "id": "HXz-SF_zVChF",
        "outputId": "3d51def1-3c4d-4d29-daa2-fd619dd9819b"
      },
      "execution_count": null,
      "outputs": [
        {
          "output_type": "execute_result",
          "data": {
            "text/plain": [
              "  Part Number          Part Name  QTY  ITEM\n",
              "0   333/Y2274        Plate Cover    1     1\n",
              "1   333/Y2273             Gasket    1     2\n",
              "2   333/Y2306  Screw Flange, Hex    2     3"
            ],
            "text/html": [
              "\n",
              "  <div id=\"df-31280830-ce6c-4481-be73-7cfb43206cac\">\n",
              "    <div class=\"colab-df-container\">\n",
              "      <div>\n",
              "<style scoped>\n",
              "    .dataframe tbody tr th:only-of-type {\n",
              "        vertical-align: middle;\n",
              "    }\n",
              "\n",
              "    .dataframe tbody tr th {\n",
              "        vertical-align: top;\n",
              "    }\n",
              "\n",
              "    .dataframe thead th {\n",
              "        text-align: right;\n",
              "    }\n",
              "</style>\n",
              "<table border=\"1\" class=\"dataframe\">\n",
              "  <thead>\n",
              "    <tr style=\"text-align: right;\">\n",
              "      <th></th>\n",
              "      <th>Part Number</th>\n",
              "      <th>Part Name</th>\n",
              "      <th>QTY</th>\n",
              "      <th>ITEM</th>\n",
              "    </tr>\n",
              "  </thead>\n",
              "  <tbody>\n",
              "    <tr>\n",
              "      <th>0</th>\n",
              "      <td>333/Y2274</td>\n",
              "      <td>Plate Cover</td>\n",
              "      <td>1</td>\n",
              "      <td>1</td>\n",
              "    </tr>\n",
              "    <tr>\n",
              "      <th>1</th>\n",
              "      <td>333/Y2273</td>\n",
              "      <td>Gasket</td>\n",
              "      <td>1</td>\n",
              "      <td>2</td>\n",
              "    </tr>\n",
              "    <tr>\n",
              "      <th>2</th>\n",
              "      <td>333/Y2306</td>\n",
              "      <td>Screw Flange, Hex</td>\n",
              "      <td>2</td>\n",
              "      <td>3</td>\n",
              "    </tr>\n",
              "  </tbody>\n",
              "</table>\n",
              "</div>\n",
              "      <button class=\"colab-df-convert\" onclick=\"convertToInteractive('df-31280830-ce6c-4481-be73-7cfb43206cac')\"\n",
              "              title=\"Convert this dataframe to an interactive table.\"\n",
              "              style=\"display:none;\">\n",
              "        \n",
              "  <svg xmlns=\"http://www.w3.org/2000/svg\" height=\"24px\"viewBox=\"0 0 24 24\"\n",
              "       width=\"24px\">\n",
              "    <path d=\"M0 0h24v24H0V0z\" fill=\"none\"/>\n",
              "    <path d=\"M18.56 5.44l.94 2.06.94-2.06 2.06-.94-2.06-.94-.94-2.06-.94 2.06-2.06.94zm-11 1L8.5 8.5l.94-2.06 2.06-.94-2.06-.94L8.5 2.5l-.94 2.06-2.06.94zm10 10l.94 2.06.94-2.06 2.06-.94-2.06-.94-.94-2.06-.94 2.06-2.06.94z\"/><path d=\"M17.41 7.96l-1.37-1.37c-.4-.4-.92-.59-1.43-.59-.52 0-1.04.2-1.43.59L10.3 9.45l-7.72 7.72c-.78.78-.78 2.05 0 2.83L4 21.41c.39.39.9.59 1.41.59.51 0 1.02-.2 1.41-.59l7.78-7.78 2.81-2.81c.8-.78.8-2.07 0-2.86zM5.41 20L4 18.59l7.72-7.72 1.47 1.35L5.41 20z\"/>\n",
              "  </svg>\n",
              "      </button>\n",
              "      \n",
              "  <style>\n",
              "    .colab-df-container {\n",
              "      display:flex;\n",
              "      flex-wrap:wrap;\n",
              "      gap: 12px;\n",
              "    }\n",
              "\n",
              "    .colab-df-convert {\n",
              "      background-color: #E8F0FE;\n",
              "      border: none;\n",
              "      border-radius: 50%;\n",
              "      cursor: pointer;\n",
              "      display: none;\n",
              "      fill: #1967D2;\n",
              "      height: 32px;\n",
              "      padding: 0 0 0 0;\n",
              "      width: 32px;\n",
              "    }\n",
              "\n",
              "    .colab-df-convert:hover {\n",
              "      background-color: #E2EBFA;\n",
              "      box-shadow: 0px 1px 2px rgba(60, 64, 67, 0.3), 0px 1px 3px 1px rgba(60, 64, 67, 0.15);\n",
              "      fill: #174EA6;\n",
              "    }\n",
              "\n",
              "    [theme=dark] .colab-df-convert {\n",
              "      background-color: #3B4455;\n",
              "      fill: #D2E3FC;\n",
              "    }\n",
              "\n",
              "    [theme=dark] .colab-df-convert:hover {\n",
              "      background-color: #434B5C;\n",
              "      box-shadow: 0px 1px 3px 1px rgba(0, 0, 0, 0.15);\n",
              "      filter: drop-shadow(0px 1px 2px rgba(0, 0, 0, 0.3));\n",
              "      fill: #FFFFFF;\n",
              "    }\n",
              "  </style>\n",
              "\n",
              "      <script>\n",
              "        const buttonEl =\n",
              "          document.querySelector('#df-31280830-ce6c-4481-be73-7cfb43206cac button.colab-df-convert');\n",
              "        buttonEl.style.display =\n",
              "          google.colab.kernel.accessAllowed ? 'block' : 'none';\n",
              "\n",
              "        async function convertToInteractive(key) {\n",
              "          const element = document.querySelector('#df-31280830-ce6c-4481-be73-7cfb43206cac');\n",
              "          const dataTable =\n",
              "            await google.colab.kernel.invokeFunction('convertToInteractive',\n",
              "                                                     [key], {});\n",
              "          if (!dataTable) return;\n",
              "\n",
              "          const docLinkHtml = 'Like what you see? Visit the ' +\n",
              "            '<a target=\"_blank\" href=https://colab.research.google.com/notebooks/data_table.ipynb>data table notebook</a>'\n",
              "            + ' to learn more about interactive tables.';\n",
              "          element.innerHTML = '';\n",
              "          dataTable['output_type'] = 'display_data';\n",
              "          await google.colab.output.renderOutput(dataTable, element);\n",
              "          const docLink = document.createElement('div');\n",
              "          docLink.innerHTML = docLinkHtml;\n",
              "          element.appendChild(docLink);\n",
              "        }\n",
              "      </script>\n",
              "    </div>\n",
              "  </div>\n",
              "  "
            ]
          },
          "metadata": {},
          "execution_count": 674
        }
      ]
    },
    {
      "cell_type": "code",
      "source": [
        "list(zip(list_partnumber_10_updated,partname_10,QTY_list_10,ITEM_list_10))\n",
        "df_10 = pd.DataFrame(list(zip(list_partnumber_10_updated,partname_10,QTY_list_10,ITEM_list_10)),columns =['Part Number', 'Part Name','QTY','ITEM'])\n",
        "df_10"
      ],
      "metadata": {
        "colab": {
          "base_uri": "https://localhost:8080/",
          "height": 457
        },
        "id": "1XGkVOczVNJq",
        "outputId": "257ffab4-8a45-41a0-e6d4-41614c804e7e"
      },
      "execution_count": null,
      "outputs": [
        {
          "output_type": "execute_result",
          "data": {
            "text/plain": [
              "   Part Number                      Part Name  QTY  ITEM\n",
              "0    02/911676                        Bracket    1     1\n",
              "1    333/Y1456             Shaft Rocker Lever    1     2\n",
              "2    02/910822                           Plug    1     3\n",
              "3    02/911674                          Lever    1     4\n",
              "4    02/911139            Insert Rocker Lever    2     5\n",
              "5    02/911138                Screw Adjusting    2     6\n",
              "6    02/910821  Nut 3/8\"-24UNF, Heavy Hexagon    2     7\n",
              "7    02/911673                          Lever    1     8\n",
              "8    02/911024                   Washer Plain    2    12\n",
              "9    02/910083                        Circlip    2    13\n",
              "10   02/910084                       Rod Push   12    14\n",
              "11   02/911025                           Bolt    6    15\n",
              "12   02/911030                           Bolt    6    16"
            ],
            "text/html": [
              "\n",
              "  <div id=\"df-ad273951-1ad4-4eb9-8ac8-8bf82c134787\">\n",
              "    <div class=\"colab-df-container\">\n",
              "      <div>\n",
              "<style scoped>\n",
              "    .dataframe tbody tr th:only-of-type {\n",
              "        vertical-align: middle;\n",
              "    }\n",
              "\n",
              "    .dataframe tbody tr th {\n",
              "        vertical-align: top;\n",
              "    }\n",
              "\n",
              "    .dataframe thead th {\n",
              "        text-align: right;\n",
              "    }\n",
              "</style>\n",
              "<table border=\"1\" class=\"dataframe\">\n",
              "  <thead>\n",
              "    <tr style=\"text-align: right;\">\n",
              "      <th></th>\n",
              "      <th>Part Number</th>\n",
              "      <th>Part Name</th>\n",
              "      <th>QTY</th>\n",
              "      <th>ITEM</th>\n",
              "    </tr>\n",
              "  </thead>\n",
              "  <tbody>\n",
              "    <tr>\n",
              "      <th>0</th>\n",
              "      <td>02/911676</td>\n",
              "      <td>Bracket</td>\n",
              "      <td>1</td>\n",
              "      <td>1</td>\n",
              "    </tr>\n",
              "    <tr>\n",
              "      <th>1</th>\n",
              "      <td>333/Y1456</td>\n",
              "      <td>Shaft Rocker Lever</td>\n",
              "      <td>1</td>\n",
              "      <td>2</td>\n",
              "    </tr>\n",
              "    <tr>\n",
              "      <th>2</th>\n",
              "      <td>02/910822</td>\n",
              "      <td>Plug</td>\n",
              "      <td>1</td>\n",
              "      <td>3</td>\n",
              "    </tr>\n",
              "    <tr>\n",
              "      <th>3</th>\n",
              "      <td>02/911674</td>\n",
              "      <td>Lever</td>\n",
              "      <td>1</td>\n",
              "      <td>4</td>\n",
              "    </tr>\n",
              "    <tr>\n",
              "      <th>4</th>\n",
              "      <td>02/911139</td>\n",
              "      <td>Insert Rocker Lever</td>\n",
              "      <td>2</td>\n",
              "      <td>5</td>\n",
              "    </tr>\n",
              "    <tr>\n",
              "      <th>5</th>\n",
              "      <td>02/911138</td>\n",
              "      <td>Screw Adjusting</td>\n",
              "      <td>2</td>\n",
              "      <td>6</td>\n",
              "    </tr>\n",
              "    <tr>\n",
              "      <th>6</th>\n",
              "      <td>02/910821</td>\n",
              "      <td>Nut 3/8\"-24UNF, Heavy Hexagon</td>\n",
              "      <td>2</td>\n",
              "      <td>7</td>\n",
              "    </tr>\n",
              "    <tr>\n",
              "      <th>7</th>\n",
              "      <td>02/911673</td>\n",
              "      <td>Lever</td>\n",
              "      <td>1</td>\n",
              "      <td>8</td>\n",
              "    </tr>\n",
              "    <tr>\n",
              "      <th>8</th>\n",
              "      <td>02/911024</td>\n",
              "      <td>Washer Plain</td>\n",
              "      <td>2</td>\n",
              "      <td>12</td>\n",
              "    </tr>\n",
              "    <tr>\n",
              "      <th>9</th>\n",
              "      <td>02/910083</td>\n",
              "      <td>Circlip</td>\n",
              "      <td>2</td>\n",
              "      <td>13</td>\n",
              "    </tr>\n",
              "    <tr>\n",
              "      <th>10</th>\n",
              "      <td>02/910084</td>\n",
              "      <td>Rod Push</td>\n",
              "      <td>12</td>\n",
              "      <td>14</td>\n",
              "    </tr>\n",
              "    <tr>\n",
              "      <th>11</th>\n",
              "      <td>02/911025</td>\n",
              "      <td>Bolt</td>\n",
              "      <td>6</td>\n",
              "      <td>15</td>\n",
              "    </tr>\n",
              "    <tr>\n",
              "      <th>12</th>\n",
              "      <td>02/911030</td>\n",
              "      <td>Bolt</td>\n",
              "      <td>6</td>\n",
              "      <td>16</td>\n",
              "    </tr>\n",
              "  </tbody>\n",
              "</table>\n",
              "</div>\n",
              "      <button class=\"colab-df-convert\" onclick=\"convertToInteractive('df-ad273951-1ad4-4eb9-8ac8-8bf82c134787')\"\n",
              "              title=\"Convert this dataframe to an interactive table.\"\n",
              "              style=\"display:none;\">\n",
              "        \n",
              "  <svg xmlns=\"http://www.w3.org/2000/svg\" height=\"24px\"viewBox=\"0 0 24 24\"\n",
              "       width=\"24px\">\n",
              "    <path d=\"M0 0h24v24H0V0z\" fill=\"none\"/>\n",
              "    <path d=\"M18.56 5.44l.94 2.06.94-2.06 2.06-.94-2.06-.94-.94-2.06-.94 2.06-2.06.94zm-11 1L8.5 8.5l.94-2.06 2.06-.94-2.06-.94L8.5 2.5l-.94 2.06-2.06.94zm10 10l.94 2.06.94-2.06 2.06-.94-2.06-.94-.94-2.06-.94 2.06-2.06.94z\"/><path d=\"M17.41 7.96l-1.37-1.37c-.4-.4-.92-.59-1.43-.59-.52 0-1.04.2-1.43.59L10.3 9.45l-7.72 7.72c-.78.78-.78 2.05 0 2.83L4 21.41c.39.39.9.59 1.41.59.51 0 1.02-.2 1.41-.59l7.78-7.78 2.81-2.81c.8-.78.8-2.07 0-2.86zM5.41 20L4 18.59l7.72-7.72 1.47 1.35L5.41 20z\"/>\n",
              "  </svg>\n",
              "      </button>\n",
              "      \n",
              "  <style>\n",
              "    .colab-df-container {\n",
              "      display:flex;\n",
              "      flex-wrap:wrap;\n",
              "      gap: 12px;\n",
              "    }\n",
              "\n",
              "    .colab-df-convert {\n",
              "      background-color: #E8F0FE;\n",
              "      border: none;\n",
              "      border-radius: 50%;\n",
              "      cursor: pointer;\n",
              "      display: none;\n",
              "      fill: #1967D2;\n",
              "      height: 32px;\n",
              "      padding: 0 0 0 0;\n",
              "      width: 32px;\n",
              "    }\n",
              "\n",
              "    .colab-df-convert:hover {\n",
              "      background-color: #E2EBFA;\n",
              "      box-shadow: 0px 1px 2px rgba(60, 64, 67, 0.3), 0px 1px 3px 1px rgba(60, 64, 67, 0.15);\n",
              "      fill: #174EA6;\n",
              "    }\n",
              "\n",
              "    [theme=dark] .colab-df-convert {\n",
              "      background-color: #3B4455;\n",
              "      fill: #D2E3FC;\n",
              "    }\n",
              "\n",
              "    [theme=dark] .colab-df-convert:hover {\n",
              "      background-color: #434B5C;\n",
              "      box-shadow: 0px 1px 3px 1px rgba(0, 0, 0, 0.15);\n",
              "      filter: drop-shadow(0px 1px 2px rgba(0, 0, 0, 0.3));\n",
              "      fill: #FFFFFF;\n",
              "    }\n",
              "  </style>\n",
              "\n",
              "      <script>\n",
              "        const buttonEl =\n",
              "          document.querySelector('#df-ad273951-1ad4-4eb9-8ac8-8bf82c134787 button.colab-df-convert');\n",
              "        buttonEl.style.display =\n",
              "          google.colab.kernel.accessAllowed ? 'block' : 'none';\n",
              "\n",
              "        async function convertToInteractive(key) {\n",
              "          const element = document.querySelector('#df-ad273951-1ad4-4eb9-8ac8-8bf82c134787');\n",
              "          const dataTable =\n",
              "            await google.colab.kernel.invokeFunction('convertToInteractive',\n",
              "                                                     [key], {});\n",
              "          if (!dataTable) return;\n",
              "\n",
              "          const docLinkHtml = 'Like what you see? Visit the ' +\n",
              "            '<a target=\"_blank\" href=https://colab.research.google.com/notebooks/data_table.ipynb>data table notebook</a>'\n",
              "            + ' to learn more about interactive tables.';\n",
              "          element.innerHTML = '';\n",
              "          dataTable['output_type'] = 'display_data';\n",
              "          await google.colab.output.renderOutput(dataTable, element);\n",
              "          const docLink = document.createElement('div');\n",
              "          docLink.innerHTML = docLinkHtml;\n",
              "          element.appendChild(docLink);\n",
              "        }\n",
              "      </script>\n",
              "    </div>\n",
              "  </div>\n",
              "  "
            ]
          },
          "metadata": {},
          "execution_count": 675
        }
      ]
    },
    {
      "cell_type": "code",
      "source": [
        "df_final = pd.concat([df,df_01,df_02,df_03,df_04,df_05,df_06,df_07,df_08,df_09,df_10], ignore_index=True)\n",
        "df_final"
      ],
      "metadata": {
        "colab": {
          "base_uri": "https://localhost:8080/",
          "height": 1000
        },
        "id": "sLT2YpgTVctn",
        "outputId": "e3b568b2-bc58-46dc-ae13-36a9224fafe9"
      },
      "execution_count": null,
      "outputs": [
        {
          "output_type": "execute_result",
          "data": {
            "text/plain": [
              "   Unnamed: 0 Part Number                                          Part Name  \\\n",
              "0         NaN          NaN                             Rod Connecting Engine   \n",
              "1         NaN          NaN                              Screw Connecting Rod   \n",
              "2         NaN          NaN                                              Bush   \n",
              "3         NaN          NaN                                     Piston Engine   \n",
              "4         NaN          NaN                                        Pin Piston   \n",
              "5         NaN          NaN                            Bearing Connecting Rod   \n",
              "6         NaN          NaN                                    Ring Retaining   \n",
              "7         NaN          NaN                                  Ring Compression   \n",
              "8         NaN          NaN                                  Ring Compression   \n",
              "9         NaN          NaN                                  Ring Compression   \n",
              "10        NaN          NaN                                          Camshaft   \n",
              "11        NaN          NaN                                     Gear Camshaft   \n",
              "12        NaN          NaN                                               Key   \n",
              "13        NaN          NaN                                Bracket Cam Thrust   \n",
              "14        NaN          NaN                                             Screw   \n",
              "15        NaN          NaN                                            Tappet   \n",
              "16        NaN          NaN                                   Timer Overcrank   \n",
              "17        NaN          NaN                                      Washer Plain   \n",
              "18        NaN          NaN                                  Bracket Governor   \n",
              "19        NaN          NaN                                    Harness Wiring   \n",
              "20        NaN          NaN                                          Nut Lock   \n",
              "21        NaN          NaN        Ring Gear Flywheel Ring Gear Flywheel Ring   \n",
              "22        NaN          NaN                                          Flywheel   \n",
              "23        NaN          NaN                                      Washer Plain   \n",
              "24        NaN          NaN                                             Screw   \n",
              "25        NaN          NaN                                  Housing Flywheel   \n",
              "26        NaN          NaN                                             Screw   \n",
              "27        NaN          NaN                                       Plate Cover   \n",
              "28        NaN          NaN                                Cover Plate , Rear   \n",
              "29        NaN          NaN                      Kit-seal Rear Crankshaft Oil   \n",
              "30        NaN          NaN                          Gasket Rear Seal Housing   \n",
              "31        NaN          NaN                                              Plug   \n",
              "32        NaN          NaN                                            O Ring   \n",
              "33        NaN          NaN                                              Plug   \n",
              "34        NaN          NaN                             Seal Rectangular Ring   \n",
              "35        NaN          NaN                             Screw Flange Head 8.8   \n",
              "36        NaN          NaN  Screw SCREW,HEXAGO AN HEAD SCREW, HEXAGO AN HEAD   \n",
              "37        NaN          NaN                               Pin: Throttle Lever   \n",
              "38        NaN          NaN                                   Bracket Lifting   \n",
              "39        NaN          NaN                                 Screw Flange, Hex   \n",
              "40        NaN          NaN                                 Cover Access Hole   \n",
              "41        NaN          NaN                             Seal Rectangular Ring   \n",
              "42        NaN          NaN                                       Plate Cover   \n",
              "43        NaN          NaN                                            Gasket   \n",
              "44        NaN          NaN                                 Screw Flange, Hex   \n",
              "45        NaN          NaN                                           Bracket   \n",
              "46        NaN          NaN                                Shaft Rocker Lever   \n",
              "47        NaN          NaN                                              Plug   \n",
              "48        NaN          NaN                                             Lever   \n",
              "49        NaN          NaN                               Insert Rocker Lever   \n",
              "50        NaN          NaN                                   Screw Adjusting   \n",
              "51        NaN          NaN                     Nut 3/8\"-24UNF, Heavy Hexagon   \n",
              "52        NaN          NaN                                             Lever   \n",
              "53        NaN          NaN                                      Washer Plain   \n",
              "54        NaN          NaN                                           Circlip   \n",
              "55        NaN          NaN                                          Rod Push   \n",
              "56        NaN          NaN                                              Bolt   \n",
              "57        NaN          NaN                                              Bolt   \n",
              "\n",
              "   QTY ITEM Part Number  \n",
              "0    1    3   333/Y1461  \n",
              "1    2    6   333/Y2302  \n",
              "2    1    7   333/Y2494  \n",
              "3    6    8   333/Y1509  \n",
              "4    6    9   333/Y2436  \n",
              "5   12   10   333/Y2471  \n",
              "6   12   11   333/Y2379  \n",
              "7    6   12   333/Y2313  \n",
              "8    6   13   333/Y2369  \n",
              "9    6   14   333/Y1457  \n",
              "10   1    1   02/910410  \n",
              "11   1    2   02/910411  \n",
              "12   1    3   02/910062  \n",
              "13   1    4   02/910063  \n",
              "14   2    5   02/911013  \n",
              "15  12    6   02/910634  \n",
              "16   1    1   332/Y5370  \n",
              "17   1    2   333/Y2435  \n",
              "18   1    3   333/Y2439  \n",
              "19   1    4   333/Y2496  \n",
              "20   1    5   333/Y2440  \n",
              "21   1    1   332/Y5833  \n",
              "22   1    2   335/C4772  \n",
              "23   8    3   02/911018  \n",
              "24   8    4   02/911017  \n",
              "25   1    1   333/Y2281  \n",
              "26   8    2   02/911015  \n",
              "27   1    3   02/910069  \n",
              "28   2    4   02/911543  \n",
              "29   1    5   02/912635  \n",
              "30   1    6   02/910029  \n",
              "31   1    7   02/910571  \n",
              "32   1    8   02/910067  \n",
              "33   1    9   02/910068  \n",
              "34   1   10   02/910028  \n",
              "35   6   11   02/911014  \n",
              "36   2   12   333/Y2287  \n",
              "37   1    1   333/Y2433  \n",
              "38   1    1   333/Y2275  \n",
              "39   2    2   333/Y2343  \n",
              "40   1    1   333/Y2319  \n",
              "41   1    2   332/Y3324  \n",
              "42   1    1   333/Y2274  \n",
              "43   1    2   333/Y2273  \n",
              "44   2    3   333/Y2306  \n",
              "45   1    1   02/911676  \n",
              "46   1    2   333/Y1456  \n",
              "47   1    3   02/910822  \n",
              "48   1    4   02/911674  \n",
              "49   2    5   02/911139  \n",
              "50   2    6   02/911138  \n",
              "51   2    7   02/910821  \n",
              "52   1    8   02/911673  \n",
              "53   2   12   02/911024  \n",
              "54   2   13   02/910083  \n",
              "55  12   14   02/910084  \n",
              "56   6   15   02/911025  \n",
              "57   6   16   02/911030  "
            ],
            "text/html": [
              "\n",
              "  <div id=\"df-502cac04-4f00-4a4f-9517-6f4eef6af890\">\n",
              "    <div class=\"colab-df-container\">\n",
              "      <div>\n",
              "<style scoped>\n",
              "    .dataframe tbody tr th:only-of-type {\n",
              "        vertical-align: middle;\n",
              "    }\n",
              "\n",
              "    .dataframe tbody tr th {\n",
              "        vertical-align: top;\n",
              "    }\n",
              "\n",
              "    .dataframe thead th {\n",
              "        text-align: right;\n",
              "    }\n",
              "</style>\n",
              "<table border=\"1\" class=\"dataframe\">\n",
              "  <thead>\n",
              "    <tr style=\"text-align: right;\">\n",
              "      <th></th>\n",
              "      <th>Unnamed: 0</th>\n",
              "      <th>Part Number</th>\n",
              "      <th>Part Name</th>\n",
              "      <th>QTY</th>\n",
              "      <th>ITEM</th>\n",
              "      <th>Part Number</th>\n",
              "    </tr>\n",
              "  </thead>\n",
              "  <tbody>\n",
              "    <tr>\n",
              "      <th>0</th>\n",
              "      <td>NaN</td>\n",
              "      <td>NaN</td>\n",
              "      <td>Rod Connecting Engine</td>\n",
              "      <td>1</td>\n",
              "      <td>3</td>\n",
              "      <td>333/Y1461</td>\n",
              "    </tr>\n",
              "    <tr>\n",
              "      <th>1</th>\n",
              "      <td>NaN</td>\n",
              "      <td>NaN</td>\n",
              "      <td>Screw Connecting Rod</td>\n",
              "      <td>2</td>\n",
              "      <td>6</td>\n",
              "      <td>333/Y2302</td>\n",
              "    </tr>\n",
              "    <tr>\n",
              "      <th>2</th>\n",
              "      <td>NaN</td>\n",
              "      <td>NaN</td>\n",
              "      <td>Bush</td>\n",
              "      <td>1</td>\n",
              "      <td>7</td>\n",
              "      <td>333/Y2494</td>\n",
              "    </tr>\n",
              "    <tr>\n",
              "      <th>3</th>\n",
              "      <td>NaN</td>\n",
              "      <td>NaN</td>\n",
              "      <td>Piston Engine</td>\n",
              "      <td>6</td>\n",
              "      <td>8</td>\n",
              "      <td>333/Y1509</td>\n",
              "    </tr>\n",
              "    <tr>\n",
              "      <th>4</th>\n",
              "      <td>NaN</td>\n",
              "      <td>NaN</td>\n",
              "      <td>Pin Piston</td>\n",
              "      <td>6</td>\n",
              "      <td>9</td>\n",
              "      <td>333/Y2436</td>\n",
              "    </tr>\n",
              "    <tr>\n",
              "      <th>5</th>\n",
              "      <td>NaN</td>\n",
              "      <td>NaN</td>\n",
              "      <td>Bearing Connecting Rod</td>\n",
              "      <td>12</td>\n",
              "      <td>10</td>\n",
              "      <td>333/Y2471</td>\n",
              "    </tr>\n",
              "    <tr>\n",
              "      <th>6</th>\n",
              "      <td>NaN</td>\n",
              "      <td>NaN</td>\n",
              "      <td>Ring Retaining</td>\n",
              "      <td>12</td>\n",
              "      <td>11</td>\n",
              "      <td>333/Y2379</td>\n",
              "    </tr>\n",
              "    <tr>\n",
              "      <th>7</th>\n",
              "      <td>NaN</td>\n",
              "      <td>NaN</td>\n",
              "      <td>Ring Compression</td>\n",
              "      <td>6</td>\n",
              "      <td>12</td>\n",
              "      <td>333/Y2313</td>\n",
              "    </tr>\n",
              "    <tr>\n",
              "      <th>8</th>\n",
              "      <td>NaN</td>\n",
              "      <td>NaN</td>\n",
              "      <td>Ring Compression</td>\n",
              "      <td>6</td>\n",
              "      <td>13</td>\n",
              "      <td>333/Y2369</td>\n",
              "    </tr>\n",
              "    <tr>\n",
              "      <th>9</th>\n",
              "      <td>NaN</td>\n",
              "      <td>NaN</td>\n",
              "      <td>Ring Compression</td>\n",
              "      <td>6</td>\n",
              "      <td>14</td>\n",
              "      <td>333/Y1457</td>\n",
              "    </tr>\n",
              "    <tr>\n",
              "      <th>10</th>\n",
              "      <td>NaN</td>\n",
              "      <td>NaN</td>\n",
              "      <td>Camshaft</td>\n",
              "      <td>1</td>\n",
              "      <td>1</td>\n",
              "      <td>02/910410</td>\n",
              "    </tr>\n",
              "    <tr>\n",
              "      <th>11</th>\n",
              "      <td>NaN</td>\n",
              "      <td>NaN</td>\n",
              "      <td>Gear Camshaft</td>\n",
              "      <td>1</td>\n",
              "      <td>2</td>\n",
              "      <td>02/910411</td>\n",
              "    </tr>\n",
              "    <tr>\n",
              "      <th>12</th>\n",
              "      <td>NaN</td>\n",
              "      <td>NaN</td>\n",
              "      <td>Key</td>\n",
              "      <td>1</td>\n",
              "      <td>3</td>\n",
              "      <td>02/910062</td>\n",
              "    </tr>\n",
              "    <tr>\n",
              "      <th>13</th>\n",
              "      <td>NaN</td>\n",
              "      <td>NaN</td>\n",
              "      <td>Bracket Cam Thrust</td>\n",
              "      <td>1</td>\n",
              "      <td>4</td>\n",
              "      <td>02/910063</td>\n",
              "    </tr>\n",
              "    <tr>\n",
              "      <th>14</th>\n",
              "      <td>NaN</td>\n",
              "      <td>NaN</td>\n",
              "      <td>Screw</td>\n",
              "      <td>2</td>\n",
              "      <td>5</td>\n",
              "      <td>02/911013</td>\n",
              "    </tr>\n",
              "    <tr>\n",
              "      <th>15</th>\n",
              "      <td>NaN</td>\n",
              "      <td>NaN</td>\n",
              "      <td>Tappet</td>\n",
              "      <td>12</td>\n",
              "      <td>6</td>\n",
              "      <td>02/910634</td>\n",
              "    </tr>\n",
              "    <tr>\n",
              "      <th>16</th>\n",
              "      <td>NaN</td>\n",
              "      <td>NaN</td>\n",
              "      <td>Timer Overcrank</td>\n",
              "      <td>1</td>\n",
              "      <td>1</td>\n",
              "      <td>332/Y5370</td>\n",
              "    </tr>\n",
              "    <tr>\n",
              "      <th>17</th>\n",
              "      <td>NaN</td>\n",
              "      <td>NaN</td>\n",
              "      <td>Washer Plain</td>\n",
              "      <td>1</td>\n",
              "      <td>2</td>\n",
              "      <td>333/Y2435</td>\n",
              "    </tr>\n",
              "    <tr>\n",
              "      <th>18</th>\n",
              "      <td>NaN</td>\n",
              "      <td>NaN</td>\n",
              "      <td>Bracket Governor</td>\n",
              "      <td>1</td>\n",
              "      <td>3</td>\n",
              "      <td>333/Y2439</td>\n",
              "    </tr>\n",
              "    <tr>\n",
              "      <th>19</th>\n",
              "      <td>NaN</td>\n",
              "      <td>NaN</td>\n",
              "      <td>Harness Wiring</td>\n",
              "      <td>1</td>\n",
              "      <td>4</td>\n",
              "      <td>333/Y2496</td>\n",
              "    </tr>\n",
              "    <tr>\n",
              "      <th>20</th>\n",
              "      <td>NaN</td>\n",
              "      <td>NaN</td>\n",
              "      <td>Nut Lock</td>\n",
              "      <td>1</td>\n",
              "      <td>5</td>\n",
              "      <td>333/Y2440</td>\n",
              "    </tr>\n",
              "    <tr>\n",
              "      <th>21</th>\n",
              "      <td>NaN</td>\n",
              "      <td>NaN</td>\n",
              "      <td>Ring Gear Flywheel Ring Gear Flywheel Ring</td>\n",
              "      <td>1</td>\n",
              "      <td>1</td>\n",
              "      <td>332/Y5833</td>\n",
              "    </tr>\n",
              "    <tr>\n",
              "      <th>22</th>\n",
              "      <td>NaN</td>\n",
              "      <td>NaN</td>\n",
              "      <td>Flywheel</td>\n",
              "      <td>1</td>\n",
              "      <td>2</td>\n",
              "      <td>335/C4772</td>\n",
              "    </tr>\n",
              "    <tr>\n",
              "      <th>23</th>\n",
              "      <td>NaN</td>\n",
              "      <td>NaN</td>\n",
              "      <td>Washer Plain</td>\n",
              "      <td>8</td>\n",
              "      <td>3</td>\n",
              "      <td>02/911018</td>\n",
              "    </tr>\n",
              "    <tr>\n",
              "      <th>24</th>\n",
              "      <td>NaN</td>\n",
              "      <td>NaN</td>\n",
              "      <td>Screw</td>\n",
              "      <td>8</td>\n",
              "      <td>4</td>\n",
              "      <td>02/911017</td>\n",
              "    </tr>\n",
              "    <tr>\n",
              "      <th>25</th>\n",
              "      <td>NaN</td>\n",
              "      <td>NaN</td>\n",
              "      <td>Housing Flywheel</td>\n",
              "      <td>1</td>\n",
              "      <td>1</td>\n",
              "      <td>333/Y2281</td>\n",
              "    </tr>\n",
              "    <tr>\n",
              "      <th>26</th>\n",
              "      <td>NaN</td>\n",
              "      <td>NaN</td>\n",
              "      <td>Screw</td>\n",
              "      <td>8</td>\n",
              "      <td>2</td>\n",
              "      <td>02/911015</td>\n",
              "    </tr>\n",
              "    <tr>\n",
              "      <th>27</th>\n",
              "      <td>NaN</td>\n",
              "      <td>NaN</td>\n",
              "      <td>Plate Cover</td>\n",
              "      <td>1</td>\n",
              "      <td>3</td>\n",
              "      <td>02/910069</td>\n",
              "    </tr>\n",
              "    <tr>\n",
              "      <th>28</th>\n",
              "      <td>NaN</td>\n",
              "      <td>NaN</td>\n",
              "      <td>Cover Plate , Rear</td>\n",
              "      <td>2</td>\n",
              "      <td>4</td>\n",
              "      <td>02/911543</td>\n",
              "    </tr>\n",
              "    <tr>\n",
              "      <th>29</th>\n",
              "      <td>NaN</td>\n",
              "      <td>NaN</td>\n",
              "      <td>Kit-seal Rear Crankshaft Oil</td>\n",
              "      <td>1</td>\n",
              "      <td>5</td>\n",
              "      <td>02/912635</td>\n",
              "    </tr>\n",
              "    <tr>\n",
              "      <th>30</th>\n",
              "      <td>NaN</td>\n",
              "      <td>NaN</td>\n",
              "      <td>Gasket Rear Seal Housing</td>\n",
              "      <td>1</td>\n",
              "      <td>6</td>\n",
              "      <td>02/910029</td>\n",
              "    </tr>\n",
              "    <tr>\n",
              "      <th>31</th>\n",
              "      <td>NaN</td>\n",
              "      <td>NaN</td>\n",
              "      <td>Plug</td>\n",
              "      <td>1</td>\n",
              "      <td>7</td>\n",
              "      <td>02/910571</td>\n",
              "    </tr>\n",
              "    <tr>\n",
              "      <th>32</th>\n",
              "      <td>NaN</td>\n",
              "      <td>NaN</td>\n",
              "      <td>O Ring</td>\n",
              "      <td>1</td>\n",
              "      <td>8</td>\n",
              "      <td>02/910067</td>\n",
              "    </tr>\n",
              "    <tr>\n",
              "      <th>33</th>\n",
              "      <td>NaN</td>\n",
              "      <td>NaN</td>\n",
              "      <td>Plug</td>\n",
              "      <td>1</td>\n",
              "      <td>9</td>\n",
              "      <td>02/910068</td>\n",
              "    </tr>\n",
              "    <tr>\n",
              "      <th>34</th>\n",
              "      <td>NaN</td>\n",
              "      <td>NaN</td>\n",
              "      <td>Seal Rectangular Ring</td>\n",
              "      <td>1</td>\n",
              "      <td>10</td>\n",
              "      <td>02/910028</td>\n",
              "    </tr>\n",
              "    <tr>\n",
              "      <th>35</th>\n",
              "      <td>NaN</td>\n",
              "      <td>NaN</td>\n",
              "      <td>Screw Flange Head 8.8</td>\n",
              "      <td>6</td>\n",
              "      <td>11</td>\n",
              "      <td>02/911014</td>\n",
              "    </tr>\n",
              "    <tr>\n",
              "      <th>36</th>\n",
              "      <td>NaN</td>\n",
              "      <td>NaN</td>\n",
              "      <td>Screw SCREW,HEXAGO AN HEAD SCREW, HEXAGO AN HEAD</td>\n",
              "      <td>2</td>\n",
              "      <td>12</td>\n",
              "      <td>333/Y2287</td>\n",
              "    </tr>\n",
              "    <tr>\n",
              "      <th>37</th>\n",
              "      <td>NaN</td>\n",
              "      <td>NaN</td>\n",
              "      <td>Pin: Throttle Lever</td>\n",
              "      <td>1</td>\n",
              "      <td>1</td>\n",
              "      <td>333/Y2433</td>\n",
              "    </tr>\n",
              "    <tr>\n",
              "      <th>38</th>\n",
              "      <td>NaN</td>\n",
              "      <td>NaN</td>\n",
              "      <td>Bracket Lifting</td>\n",
              "      <td>1</td>\n",
              "      <td>1</td>\n",
              "      <td>333/Y2275</td>\n",
              "    </tr>\n",
              "    <tr>\n",
              "      <th>39</th>\n",
              "      <td>NaN</td>\n",
              "      <td>NaN</td>\n",
              "      <td>Screw Flange, Hex</td>\n",
              "      <td>2</td>\n",
              "      <td>2</td>\n",
              "      <td>333/Y2343</td>\n",
              "    </tr>\n",
              "    <tr>\n",
              "      <th>40</th>\n",
              "      <td>NaN</td>\n",
              "      <td>NaN</td>\n",
              "      <td>Cover Access Hole</td>\n",
              "      <td>1</td>\n",
              "      <td>1</td>\n",
              "      <td>333/Y2319</td>\n",
              "    </tr>\n",
              "    <tr>\n",
              "      <th>41</th>\n",
              "      <td>NaN</td>\n",
              "      <td>NaN</td>\n",
              "      <td>Seal Rectangular Ring</td>\n",
              "      <td>1</td>\n",
              "      <td>2</td>\n",
              "      <td>332/Y3324</td>\n",
              "    </tr>\n",
              "    <tr>\n",
              "      <th>42</th>\n",
              "      <td>NaN</td>\n",
              "      <td>NaN</td>\n",
              "      <td>Plate Cover</td>\n",
              "      <td>1</td>\n",
              "      <td>1</td>\n",
              "      <td>333/Y2274</td>\n",
              "    </tr>\n",
              "    <tr>\n",
              "      <th>43</th>\n",
              "      <td>NaN</td>\n",
              "      <td>NaN</td>\n",
              "      <td>Gasket</td>\n",
              "      <td>1</td>\n",
              "      <td>2</td>\n",
              "      <td>333/Y2273</td>\n",
              "    </tr>\n",
              "    <tr>\n",
              "      <th>44</th>\n",
              "      <td>NaN</td>\n",
              "      <td>NaN</td>\n",
              "      <td>Screw Flange, Hex</td>\n",
              "      <td>2</td>\n",
              "      <td>3</td>\n",
              "      <td>333/Y2306</td>\n",
              "    </tr>\n",
              "    <tr>\n",
              "      <th>45</th>\n",
              "      <td>NaN</td>\n",
              "      <td>NaN</td>\n",
              "      <td>Bracket</td>\n",
              "      <td>1</td>\n",
              "      <td>1</td>\n",
              "      <td>02/911676</td>\n",
              "    </tr>\n",
              "    <tr>\n",
              "      <th>46</th>\n",
              "      <td>NaN</td>\n",
              "      <td>NaN</td>\n",
              "      <td>Shaft Rocker Lever</td>\n",
              "      <td>1</td>\n",
              "      <td>2</td>\n",
              "      <td>333/Y1456</td>\n",
              "    </tr>\n",
              "    <tr>\n",
              "      <th>47</th>\n",
              "      <td>NaN</td>\n",
              "      <td>NaN</td>\n",
              "      <td>Plug</td>\n",
              "      <td>1</td>\n",
              "      <td>3</td>\n",
              "      <td>02/910822</td>\n",
              "    </tr>\n",
              "    <tr>\n",
              "      <th>48</th>\n",
              "      <td>NaN</td>\n",
              "      <td>NaN</td>\n",
              "      <td>Lever</td>\n",
              "      <td>1</td>\n",
              "      <td>4</td>\n",
              "      <td>02/911674</td>\n",
              "    </tr>\n",
              "    <tr>\n",
              "      <th>49</th>\n",
              "      <td>NaN</td>\n",
              "      <td>NaN</td>\n",
              "      <td>Insert Rocker Lever</td>\n",
              "      <td>2</td>\n",
              "      <td>5</td>\n",
              "      <td>02/911139</td>\n",
              "    </tr>\n",
              "    <tr>\n",
              "      <th>50</th>\n",
              "      <td>NaN</td>\n",
              "      <td>NaN</td>\n",
              "      <td>Screw Adjusting</td>\n",
              "      <td>2</td>\n",
              "      <td>6</td>\n",
              "      <td>02/911138</td>\n",
              "    </tr>\n",
              "    <tr>\n",
              "      <th>51</th>\n",
              "      <td>NaN</td>\n",
              "      <td>NaN</td>\n",
              "      <td>Nut 3/8\"-24UNF, Heavy Hexagon</td>\n",
              "      <td>2</td>\n",
              "      <td>7</td>\n",
              "      <td>02/910821</td>\n",
              "    </tr>\n",
              "    <tr>\n",
              "      <th>52</th>\n",
              "      <td>NaN</td>\n",
              "      <td>NaN</td>\n",
              "      <td>Lever</td>\n",
              "      <td>1</td>\n",
              "      <td>8</td>\n",
              "      <td>02/911673</td>\n",
              "    </tr>\n",
              "    <tr>\n",
              "      <th>53</th>\n",
              "      <td>NaN</td>\n",
              "      <td>NaN</td>\n",
              "      <td>Washer Plain</td>\n",
              "      <td>2</td>\n",
              "      <td>12</td>\n",
              "      <td>02/911024</td>\n",
              "    </tr>\n",
              "    <tr>\n",
              "      <th>54</th>\n",
              "      <td>NaN</td>\n",
              "      <td>NaN</td>\n",
              "      <td>Circlip</td>\n",
              "      <td>2</td>\n",
              "      <td>13</td>\n",
              "      <td>02/910083</td>\n",
              "    </tr>\n",
              "    <tr>\n",
              "      <th>55</th>\n",
              "      <td>NaN</td>\n",
              "      <td>NaN</td>\n",
              "      <td>Rod Push</td>\n",
              "      <td>12</td>\n",
              "      <td>14</td>\n",
              "      <td>02/910084</td>\n",
              "    </tr>\n",
              "    <tr>\n",
              "      <th>56</th>\n",
              "      <td>NaN</td>\n",
              "      <td>NaN</td>\n",
              "      <td>Bolt</td>\n",
              "      <td>6</td>\n",
              "      <td>15</td>\n",
              "      <td>02/911025</td>\n",
              "    </tr>\n",
              "    <tr>\n",
              "      <th>57</th>\n",
              "      <td>NaN</td>\n",
              "      <td>NaN</td>\n",
              "      <td>Bolt</td>\n",
              "      <td>6</td>\n",
              "      <td>16</td>\n",
              "      <td>02/911030</td>\n",
              "    </tr>\n",
              "  </tbody>\n",
              "</table>\n",
              "</div>\n",
              "      <button class=\"colab-df-convert\" onclick=\"convertToInteractive('df-502cac04-4f00-4a4f-9517-6f4eef6af890')\"\n",
              "              title=\"Convert this dataframe to an interactive table.\"\n",
              "              style=\"display:none;\">\n",
              "        \n",
              "  <svg xmlns=\"http://www.w3.org/2000/svg\" height=\"24px\"viewBox=\"0 0 24 24\"\n",
              "       width=\"24px\">\n",
              "    <path d=\"M0 0h24v24H0V0z\" fill=\"none\"/>\n",
              "    <path d=\"M18.56 5.44l.94 2.06.94-2.06 2.06-.94-2.06-.94-.94-2.06-.94 2.06-2.06.94zm-11 1L8.5 8.5l.94-2.06 2.06-.94-2.06-.94L8.5 2.5l-.94 2.06-2.06.94zm10 10l.94 2.06.94-2.06 2.06-.94-2.06-.94-.94-2.06-.94 2.06-2.06.94z\"/><path d=\"M17.41 7.96l-1.37-1.37c-.4-.4-.92-.59-1.43-.59-.52 0-1.04.2-1.43.59L10.3 9.45l-7.72 7.72c-.78.78-.78 2.05 0 2.83L4 21.41c.39.39.9.59 1.41.59.51 0 1.02-.2 1.41-.59l7.78-7.78 2.81-2.81c.8-.78.8-2.07 0-2.86zM5.41 20L4 18.59l7.72-7.72 1.47 1.35L5.41 20z\"/>\n",
              "  </svg>\n",
              "      </button>\n",
              "      \n",
              "  <style>\n",
              "    .colab-df-container {\n",
              "      display:flex;\n",
              "      flex-wrap:wrap;\n",
              "      gap: 12px;\n",
              "    }\n",
              "\n",
              "    .colab-df-convert {\n",
              "      background-color: #E8F0FE;\n",
              "      border: none;\n",
              "      border-radius: 50%;\n",
              "      cursor: pointer;\n",
              "      display: none;\n",
              "      fill: #1967D2;\n",
              "      height: 32px;\n",
              "      padding: 0 0 0 0;\n",
              "      width: 32px;\n",
              "    }\n",
              "\n",
              "    .colab-df-convert:hover {\n",
              "      background-color: #E2EBFA;\n",
              "      box-shadow: 0px 1px 2px rgba(60, 64, 67, 0.3), 0px 1px 3px 1px rgba(60, 64, 67, 0.15);\n",
              "      fill: #174EA6;\n",
              "    }\n",
              "\n",
              "    [theme=dark] .colab-df-convert {\n",
              "      background-color: #3B4455;\n",
              "      fill: #D2E3FC;\n",
              "    }\n",
              "\n",
              "    [theme=dark] .colab-df-convert:hover {\n",
              "      background-color: #434B5C;\n",
              "      box-shadow: 0px 1px 3px 1px rgba(0, 0, 0, 0.15);\n",
              "      filter: drop-shadow(0px 1px 2px rgba(0, 0, 0, 0.3));\n",
              "      fill: #FFFFFF;\n",
              "    }\n",
              "  </style>\n",
              "\n",
              "      <script>\n",
              "        const buttonEl =\n",
              "          document.querySelector('#df-502cac04-4f00-4a4f-9517-6f4eef6af890 button.colab-df-convert');\n",
              "        buttonEl.style.display =\n",
              "          google.colab.kernel.accessAllowed ? 'block' : 'none';\n",
              "\n",
              "        async function convertToInteractive(key) {\n",
              "          const element = document.querySelector('#df-502cac04-4f00-4a4f-9517-6f4eef6af890');\n",
              "          const dataTable =\n",
              "            await google.colab.kernel.invokeFunction('convertToInteractive',\n",
              "                                                     [key], {});\n",
              "          if (!dataTable) return;\n",
              "\n",
              "          const docLinkHtml = 'Like what you see? Visit the ' +\n",
              "            '<a target=\"_blank\" href=https://colab.research.google.com/notebooks/data_table.ipynb>data table notebook</a>'\n",
              "            + ' to learn more about interactive tables.';\n",
              "          element.innerHTML = '';\n",
              "          dataTable['output_type'] = 'display_data';\n",
              "          await google.colab.output.renderOutput(dataTable, element);\n",
              "          const docLink = document.createElement('div');\n",
              "          docLink.innerHTML = docLinkHtml;\n",
              "          element.appendChild(docLink);\n",
              "        }\n",
              "      </script>\n",
              "    </div>\n",
              "  </div>\n",
              "  "
            ]
          },
          "metadata": {},
          "execution_count": 676
        }
      ]
    },
    {
      "cell_type": "code",
      "source": [
        "df_final.to_csv('data_test.csv')\n",
        "!cp data.csv \"drive/My Drive/\""
      ],
      "metadata": {
        "colab": {
          "base_uri": "https://localhost:8080/"
        },
        "id": "EKqVlVV1WATp",
        "outputId": "b68ba023-3242-4296-b471-8c884bf164c1"
      },
      "execution_count": null,
      "outputs": [
        {
          "output_type": "stream",
          "name": "stdout",
          "text": [
            "cp: cannot stat 'data.csv': No such file or directory\n"
          ]
        }
      ]
    }
  ]
}